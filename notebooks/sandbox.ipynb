{
 "cells": [
  {
   "cell_type": "markdown",
   "source": [
    "# Prepare"
   ],
   "metadata": {
    "collapsed": false
   }
  },
  {
   "cell_type": "markdown",
   "source": [
    "## imports"
   ],
   "metadata": {
    "collapsed": false
   }
  },
  {
   "cell_type": "code",
   "execution_count": 1,
   "metadata": {
    "collapsed": true
   },
   "outputs": [],
   "source": [
    "%load_ext autoreload\n",
    "%autoreload 2\n",
    "\n",
    "import warnings\n",
    "\n",
    "import numpy as np\n",
    "import pandas as pd\n",
    "import os\n",
    "import sys\n",
    "\n",
    "warnings.filterwarnings(\"ignore\", category=DeprecationWarning)\n",
    "warnings.filterwarnings(\"ignore\", category=UserWarning)\n",
    "warnings.filterwarnings(\"ignore\", category=FutureWarning)\n",
    "\n",
    "pd.set_option('display.float_format', lambda x: '%.5f' % x)\n",
    "\n",
    "np.random.seed(0)"
   ]
  },
  {
   "cell_type": "code",
   "execution_count": 2,
   "outputs": [
    {
     "name": "stdout",
     "output_type": "stream",
     "text": [
      "Adding modules /Users/christopherlomeli/Source/courses/datascience/data_science_capstone02/nfl_capstone/src\n"
     ]
    }
   ],
   "source": [
    "module_path = os.path.abspath(os.path.join('../src'))\n",
    "print(\"Adding modules\", module_path)\n",
    "if module_path not in sys.path:\n",
    "    sys.path.append(module_path)"
   ],
   "metadata": {
    "collapsed": false
   }
  },
  {
   "cell_type": "code",
   "execution_count": 3,
   "outputs": [],
   "source": [
    "from src.features.wrangling.database_loader import DatabaseLoader\n",
    "from src.features.wrangling.get_metrics import GetMetrics, get_versioned_name, conform_column_names"
   ],
   "metadata": {
    "collapsed": false
   }
  },
  {
   "cell_type": "markdown",
   "source": [
    "# setup"
   ],
   "metadata": {
    "collapsed": false
   }
  },
  {
   "cell_type": "markdown",
   "source": [],
   "metadata": {
    "collapsed": false
   }
  },
  {
   "cell_type": "code",
   "execution_count": 4,
   "outputs": [
    {
     "name": "stdout",
     "output_type": "stream",
     "text": [
      "INPUT_DATA ../data/raw/nflplaybyplay2009to2016/NFL Play by Play 2009-2017 (v4).csv\n",
      "OUTPUT_DATA ../data/interim/nflplaybyplay2009to2016_reviewed_01.parquet\n",
      "BACKUP_METRICS_FILE ../data/interim/metrics_backup.parquet\n",
      " ../data/interim/dimensions.parquet\n",
      "DIMENSIONS_DATA nfl_metrics\n",
      "CATEGORIES_TABLE_NAME nfl_categories\n"
     ]
    }
   ],
   "source": [
    "RAW_DATA_PATH = '../data/raw'\n",
    "INTERIM_DATA_PATH='../data/interim'\n",
    "\n",
    "# inputs\n",
    "INPUT_DATA=os.path.join(RAW_DATA_PATH,\"nflplaybyplay2009to2016/NFL Play by Play 2009-2017 (v4).csv\")\n",
    "\n",
    "#outputs\n",
    "OUTPUT_DATA = os.path.join(INTERIM_DATA_PATH,\"nflplaybyplay2009to2016_reviewed_01.parquet\")\n",
    "BACKUP_METRICS_FILE = os.path.join(INTERIM_DATA_PATH,\"metrics_backup.parquet\")\n",
    "DIMENSIONS_DATA = os.path.join(INTERIM_DATA_PATH,\"dimensions.parquet\")\n",
    "\n",
    "# database\n",
    "METRICS_TABLE_NAME=\"nfl_metrics\"\n",
    "CATEGORIES_TABLE_NAME=\"nfl_categories\"\n",
    "\n",
    "# verify\n",
    "print(\"INPUT_DATA\", INPUT_DATA)\n",
    "print(\"OUTPUT_DATA\", OUTPUT_DATA )\n",
    "print(\"BACKUP_METRICS_FILE\", BACKUP_METRICS_FILE )\n",
    "print(\"\", DIMENSIONS_DATA)\n",
    "print(\"DIMENSIONS_DATA\", METRICS_TABLE_NAME)\n",
    "print(\"CATEGORIES_TABLE_NAME\", CATEGORIES_TABLE_NAME)\n"
   ],
   "metadata": {
    "collapsed": false
   }
  },
  {
   "cell_type": "code",
   "execution_count": 5,
   "outputs": [],
   "source": [
    "db = DatabaseLoader(connection_string_env_url=\"DB_CONNECTION_URL\")"
   ],
   "metadata": {
    "collapsed": false
   }
  },
  {
   "cell_type": "code",
   "execution_count": 6,
   "outputs": [],
   "source": [
    "# rdf = db.read_table(\"nfl_dim\")\n",
    "# rdf\n",
    "# rdf.to_parquet(DIMENSIONS_DATA, engine='fastparquet',  compression='snappy')"
   ],
   "metadata": {
    "collapsed": false
   }
  },
  {
   "cell_type": "code",
   "execution_count": 7,
   "outputs": [
    {
     "data": {
      "text/plain": "Name 1       Mike\nName 2     Alessa\nName 3       Nick\nName 4        Kim\nName 5    Britney\ndtype: object"
     },
     "execution_count": 7,
     "metadata": {},
     "output_type": "execute_result"
    }
   ],
   "source": [
    "# Creating the Series\n",
    "sr = pd.Series(['Mike', 'Alessa', 'Nick', 'Kim', 'Britney'])\n",
    "\n",
    "# Creating the index\n",
    "idx = ['Name 1', 'Name 2', 'Name 3', 'Name 4', 'Name 5']\n",
    "\n",
    "# set the index\n",
    "sr.index = idx\n",
    "\n",
    "# Print the series\n",
    "sr\n",
    "\n",
    "\n"
   ],
   "metadata": {
    "collapsed": false
   }
  },
  {
   "cell_type": "code",
   "execution_count": 8,
   "outputs": [
    {
     "data": {
      "text/plain": "          0\nName 1  Mik\nName 2  NaN\nName 3  Nic\nName 4  Kim\nName 5  NaN",
      "text/html": "<div>\n<style scoped>\n    .dataframe tbody tr th:only-of-type {\n        vertical-align: middle;\n    }\n\n    .dataframe tbody tr th {\n        vertical-align: top;\n    }\n\n    .dataframe thead th {\n        text-align: right;\n    }\n</style>\n<table border=\"1\" class=\"dataframe\">\n  <thead>\n    <tr style=\"text-align: right;\">\n      <th></th>\n      <th>0</th>\n    </tr>\n  </thead>\n  <tbody>\n    <tr>\n      <th>Name 1</th>\n      <td>Mik</td>\n    </tr>\n    <tr>\n      <th>Name 2</th>\n      <td>NaN</td>\n    </tr>\n    <tr>\n      <th>Name 3</th>\n      <td>Nic</td>\n    </tr>\n    <tr>\n      <th>Name 4</th>\n      <td>Kim</td>\n    </tr>\n    <tr>\n      <th>Name 5</th>\n      <td>NaN</td>\n    </tr>\n  </tbody>\n</table>\n</div>"
     },
     "execution_count": 8,
     "metadata": {},
     "output_type": "execute_result"
    }
   ],
   "source": [
    "# extract groups having any capital letter\n",
    "# followed by 'i' and any other character\n",
    "result = sr.str.extract(pat = '([A-Z]i.)')\n",
    "\n",
    "result"
   ],
   "metadata": {
    "collapsed": false
   }
  },
  {
   "cell_type": "code",
   "execution_count": 9,
   "outputs": [],
   "source": [
    "# Import needed package\n",
    "import pycodestyle\n",
    "\n",
    "# Create a StyleGuide instance\n",
    "style_checker = pycodestyle.StyleGuide()"
   ],
   "metadata": {
    "collapsed": false
   }
  },
  {
   "cell_type": "code",
   "execution_count": 11,
   "outputs": [
    {
     "name": "stdout",
     "output_type": "stream",
     "text": [
      "s3.ObjectSummary(bucket_name='cjl-project-data', key='nfl_capstone/')\n",
      "s3.ObjectSummary(bucket_name='cjl-project-data', key='nfl_capstone/data/.DS_Store')\n",
      "s3.ObjectSummary(bucket_name='cjl-project-data', key='nfl_capstone/data/external/.gitkeep')\n",
      "s3.ObjectSummary(bucket_name='cjl-project-data', key='nfl_capstone/data/interim/.gitkeep')\n",
      "s3.ObjectSummary(bucket_name='cjl-project-data', key='nfl_capstone/data/interim/README.02-cjl-clean.txt')\n",
      "s3.ObjectSummary(bucket_name='cjl-project-data', key='nfl_capstone/data/interim/README.03-cjl-clean.txt')\n",
      "s3.ObjectSummary(bucket_name='cjl-project-data', key='nfl_capstone/data/interim/READ_ME.01-cjl-review.txt')\n",
      "s3.ObjectSummary(bucket_name='cjl-project-data', key='nfl_capstone/data/interim/admin_events_cleaned_01.parquet')\n",
      "s3.ObjectSummary(bucket_name='cjl-project-data', key='nfl_capstone/data/interim/analytic_events_cleaned_01.parquet')\n",
      "s3.ObjectSummary(bucket_name='cjl-project-data', key='nfl_capstone/data/interim/gameplay_dimensions_cleaned_01.parquet')\n",
      "s3.ObjectSummary(bucket_name='cjl-project-data', key='nfl_capstone/data/interim/gameplay_facts_cleaned_01.parquet')\n",
      "s3.ObjectSummary(bucket_name='cjl-project-data', key='nfl_capstone/data/interim/gameplay_facts_cleaned_02.parquet')\n",
      "s3.ObjectSummary(bucket_name='cjl-project-data', key='nfl_capstone/data/interim/metrics_backup(1).parquet')\n",
      "s3.ObjectSummary(bucket_name='cjl-project-data', key='nfl_capstone/data/interim/metrics_backup(2).parquet')\n",
      "s3.ObjectSummary(bucket_name='cjl-project-data', key='nfl_capstone/data/interim/metrics_backup.parquet')\n",
      "s3.ObjectSummary(bucket_name='cjl-project-data', key='nfl_capstone/data/interim/nfl_categories.csv')\n",
      "s3.ObjectSummary(bucket_name='cjl-project-data', key='nfl_capstone/data/interim/nfl_metrics.csv')\n",
      "s3.ObjectSummary(bucket_name='cjl-project-data', key='nfl_capstone/data/interim/nfl_scores.parquet')\n",
      "s3.ObjectSummary(bucket_name='cjl-project-data', key='nfl_capstone/data/interim/nflplaybyplay2009to2016_reviewed_01.parquet')\n",
      "s3.ObjectSummary(bucket_name='cjl-project-data', key='nfl_capstone/data/processed/.gitkeep')\n",
      "s3.ObjectSummary(bucket_name='cjl-project-data', key='nfl_capstone/data/raw/.DS_Store')\n",
      "s3.ObjectSummary(bucket_name='cjl-project-data', key='nfl_capstone/data/raw/.gitkeep')\n",
      "s3.ObjectSummary(bucket_name='cjl-project-data', key='nfl_capstone/data/raw/dimensions.csv')\n",
      "s3.ObjectSummary(bucket_name='cjl-project-data', key='nfl_capstone/data/raw/games.csv')\n",
      "s3.ObjectSummary(bucket_name='cjl-project-data', key='nfl_capstone/data/raw/nfl_stadiums.csv')\n",
      "s3.ObjectSummary(bucket_name='cjl-project-data', key='nfl_capstone/data/raw/nfl_teams.csv')\n",
      "s3.ObjectSummary(bucket_name='cjl-project-data', key='nfl_capstone/data/raw/nfl_teams_scraped.csv')\n",
      "s3.ObjectSummary(bucket_name='cjl-project-data', key='nfl_capstone/data/raw/nflplaybyplay2009to2016/NFL Play by Play 2009-2016 (v3).csv')\n",
      "s3.ObjectSummary(bucket_name='cjl-project-data', key='nfl_capstone/data/raw/nflplaybyplay2009to2016/NFL Play by Play 2009-2017 (v4).csv')\n",
      "s3.ObjectSummary(bucket_name='cjl-project-data', key='nfl_capstone/data/raw/spreadspoke_scores.csv')\n"
     ]
    }
   ],
   "source": [
    "import boto3\n",
    "\n",
    "# key = \"nfl_capstone\"\n",
    "AWS_S3_BUCKET = \"cjl-project-data\"\n",
    "#\n",
    "# s3_client = boto3.client()\n",
    "\n",
    "import boto3\n",
    "s3 = boto3.resource('s3')\n",
    "my_bucket = s3.Bucket(AWS_S3_BUCKET)\n",
    "\n",
    "for my_bucket_object in my_bucket.objects.all():\n",
    "    print(my_bucket_object)"
   ],
   "metadata": {
    "collapsed": false
   }
  },
  {
   "cell_type": "code",
   "execution_count": 666,
   "outputs": [],
   "source": [
    "response = s3_client.get_object(Bucket=AWS_S3_BUCKET, Key=\"files/books.csv\")\n",
    "\n",
    "status = response.get(\"ResponseMetadata\", {}).get(\"HTTPStatusCode\")\n",
    "\n",
    "if status == 200:\n",
    "    print(f\"Successful S3 get_object response. Status - {status}\")\n",
    "    books_df = pd.read_csv(response.get(\"Body\"))\n",
    "    print(books_df)\n",
    "else:\n",
    "    print(f\"Unsuccessful S3 get_object response. Status - {status}\")\n"
   ],
   "metadata": {
    "collapsed": false
   }
  }
 ],
 "metadata": {
  "kernelspec": {
   "display_name": "Python 3",
   "language": "python",
   "name": "python3"
  },
  "language_info": {
   "codemirror_mode": {
    "name": "ipython",
    "version": 2
   },
   "file_extension": ".py",
   "mimetype": "text/x-python",
   "name": "python",
   "nbconvert_exporter": "python",
   "pygments_lexer": "ipython2",
   "version": "2.7.6"
  }
 },
 "nbformat": 4,
 "nbformat_minor": 0
}
