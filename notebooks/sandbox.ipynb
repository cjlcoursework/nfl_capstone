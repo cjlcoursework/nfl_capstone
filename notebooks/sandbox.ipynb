{
 "cells": [
  {
   "cell_type": "markdown",
   "source": [
    "# Prepare"
   ],
   "metadata": {
    "collapsed": false
   }
  },
  {
   "cell_type": "markdown",
   "source": [
    "## imports"
   ],
   "metadata": {
    "collapsed": false
   }
  },
  {
   "cell_type": "code",
   "execution_count": 1,
   "metadata": {
    "collapsed": true
   },
   "outputs": [],
   "source": [
    "%load_ext autoreload\n",
    "%autoreload 2\n",
    "\n",
    "import warnings\n",
    "\n",
    "import numpy as np\n",
    "import pandas as pd\n",
    "import os\n",
    "import sys\n",
    "\n",
    "warnings.filterwarnings(\"ignore\", category=DeprecationWarning)\n",
    "warnings.filterwarnings(\"ignore\", category=UserWarning)\n",
    "warnings.filterwarnings(\"ignore\", category=FutureWarning)\n",
    "\n",
    "pd.set_option('display.float_format', lambda x: '%.5f' % x)\n",
    "\n",
    "np.random.seed(0)"
   ]
  },
  {
   "cell_type": "code",
   "execution_count": 2,
   "outputs": [
    {
     "name": "stdout",
     "output_type": "stream",
     "text": [
      "Adding modules /Users/christopherlomeli/Source/courses/datascience/nfl_capstone/src\n"
     ]
    }
   ],
   "source": [
    "module_path = os.path.abspath(os.path.join('../src'))\n",
    "print(\"Adding modules\", module_path)\n",
    "if module_path not in sys.path:\n",
    "    sys.path.append(module_path)"
   ],
   "metadata": {
    "collapsed": false
   }
  },
  {
   "cell_type": "code",
   "execution_count": 3,
   "outputs": [],
   "source": [
    "from src.features.wrangling.database_loader import DatabaseLoader\n",
    "from src.features.wrangling.get_metrics import GetMetrics, get_versioned_name, conform_column_names"
   ],
   "metadata": {
    "collapsed": false
   }
  },
  {
   "cell_type": "markdown",
   "source": [
    "# setup"
   ],
   "metadata": {
    "collapsed": false
   }
  },
  {
   "cell_type": "markdown",
   "source": [],
   "metadata": {
    "collapsed": false
   }
  },
  {
   "cell_type": "code",
   "execution_count": 4,
   "outputs": [
    {
     "name": "stdout",
     "output_type": "stream",
     "text": [
      "INPUT_DATA ../data/raw/nflplaybyplay2009to2016/NFL Play by Play 2009-2017 (v4).csv\n",
      "OUTPUT_DATA ../data/interim/nflplaybyplay2009to2016_reviewed_01.parquet\n",
      "BACKUP_METRICS_FILE ../data/interim/metrics_backup.parquet\n",
      " ../data/interim/dimensions.parquet\n",
      "DIMENSIONS_DATA nfl_metrics\n",
      "CATEGORIES_TABLE_NAME nfl_categories\n"
     ]
    }
   ],
   "source": [
    "RAW_DATA_PATH = '../data/raw'\n",
    "INTERIM_DATA_PATH='../data/interim'\n",
    "\n",
    "# inputs\n",
    "INPUT_DATA=os.path.join(RAW_DATA_PATH,\"nflplaybyplay2009to2016/NFL Play by Play 2009-2017 (v4).csv\")\n",
    "\n",
    "#outputs\n",
    "OUTPUT_DATA = os.path.join(INTERIM_DATA_PATH,\"nflplaybyplay2009to2016_reviewed_01.parquet\")\n",
    "BACKUP_METRICS_FILE = os.path.join(INTERIM_DATA_PATH,\"metrics_backup.parquet\")\n",
    "DIMENSIONS_DATA = os.path.join(INTERIM_DATA_PATH,\"dimensions.parquet\")\n",
    "\n",
    "# database\n",
    "METRICS_TABLE_NAME=\"nfl_metrics\"\n",
    "CATEGORIES_TABLE_NAME=\"nfl_categories\"\n",
    "\n",
    "# verify\n",
    "print(\"INPUT_DATA\", INPUT_DATA)\n",
    "print(\"OUTPUT_DATA\", OUTPUT_DATA )\n",
    "print(\"BACKUP_METRICS_FILE\", BACKUP_METRICS_FILE )\n",
    "print(\"\", DIMENSIONS_DATA)\n",
    "print(\"DIMENSIONS_DATA\", METRICS_TABLE_NAME)\n",
    "print(\"CATEGORIES_TABLE_NAME\", CATEGORIES_TABLE_NAME)\n"
   ],
   "metadata": {
    "collapsed": false
   }
  },
  {
   "cell_type": "code",
   "execution_count": 5,
   "outputs": [],
   "source": [
    "db = DatabaseLoader(connection_string_env_url=\"DB_CONNECTION_URL\")"
   ],
   "metadata": {
    "collapsed": false
   }
  },
  {
   "cell_type": "code",
   "execution_count": 6,
   "outputs": [],
   "source": [
    "# rdf = db.read_table(\"nfl_dim\")\n",
    "# rdf\n",
    "# rdf.to_parquet(DIMENSIONS_DATA, engine='fastparquet',  compression='snappy')"
   ],
   "metadata": {
    "collapsed": false
   }
  },
  {
   "cell_type": "code",
   "execution_count": 7,
   "outputs": [
    {
     "data": {
      "text/plain": "Name 1       Mike\nName 2     Alessa\nName 3       Nick\nName 4        Kim\nName 5    Britney\ndtype: object"
     },
     "execution_count": 7,
     "metadata": {},
     "output_type": "execute_result"
    }
   ],
   "source": [
    "# Creating the Series\n",
    "sr = pd.Series(['Mike', 'Alessa', 'Nick', 'Kim', 'Britney'])\n",
    "\n",
    "# Creating the index\n",
    "idx = ['Name 1', 'Name 2', 'Name 3', 'Name 4', 'Name 5']\n",
    "\n",
    "# set the index\n",
    "sr.index = idx\n",
    "\n",
    "# Print the series\n",
    "sr\n",
    "\n",
    "\n"
   ],
   "metadata": {
    "collapsed": false
   }
  },
  {
   "cell_type": "code",
   "execution_count": 8,
   "outputs": [
    {
     "data": {
      "text/plain": "          0\nName 1  Mik\nName 2  NaN\nName 3  Nic\nName 4  Kim\nName 5  NaN",
      "text/html": "<div>\n<style scoped>\n    .dataframe tbody tr th:only-of-type {\n        vertical-align: middle;\n    }\n\n    .dataframe tbody tr th {\n        vertical-align: top;\n    }\n\n    .dataframe thead th {\n        text-align: right;\n    }\n</style>\n<table border=\"1\" class=\"dataframe\">\n  <thead>\n    <tr style=\"text-align: right;\">\n      <th></th>\n      <th>0</th>\n    </tr>\n  </thead>\n  <tbody>\n    <tr>\n      <th>Name 1</th>\n      <td>Mik</td>\n    </tr>\n    <tr>\n      <th>Name 2</th>\n      <td>NaN</td>\n    </tr>\n    <tr>\n      <th>Name 3</th>\n      <td>Nic</td>\n    </tr>\n    <tr>\n      <th>Name 4</th>\n      <td>Kim</td>\n    </tr>\n    <tr>\n      <th>Name 5</th>\n      <td>NaN</td>\n    </tr>\n  </tbody>\n</table>\n</div>"
     },
     "execution_count": 8,
     "metadata": {},
     "output_type": "execute_result"
    }
   ],
   "source": [
    "# extract groups having any capital letter\n",
    "# followed by 'i' and any other character\n",
    "result = sr.str.extract(pat = '([A-Z]i.)')\n",
    "\n",
    "result"
   ],
   "metadata": {
    "collapsed": false
   }
  },
  {
   "cell_type": "code",
   "execution_count": 9,
   "outputs": [],
   "source": [
    "# Import needed package\n",
    "import pycodestyle\n",
    "\n",
    "# Create a StyleGuide instance\n",
    "style_checker = pycodestyle.StyleGuide()"
   ],
   "metadata": {
    "collapsed": false
   }
  },
  {
   "cell_type": "code",
   "execution_count": 10,
   "outputs": [
    {
     "name": "stdout",
     "output_type": "stream",
     "text": [
      "s3.ObjectSummary(bucket_name='cjl-project-data', key='nfl_capstone/')\n",
      "s3.ObjectSummary(bucket_name='cjl-project-data', key='nfl_capstone/data/external/.gitkeep')\n",
      "s3.ObjectSummary(bucket_name='cjl-project-data', key='nfl_capstone/data/processed/.gitkeep')\n",
      "s3.ObjectSummary(bucket_name='cjl-project-data', key='nfl_capstone/data/raw/dimensions.csv')\n",
      "s3.ObjectSummary(bucket_name='cjl-project-data', key='nfl_capstone/data/raw/games.csv')\n",
      "s3.ObjectSummary(bucket_name='cjl-project-data', key='nfl_capstone/data/raw/nfl_stadiums.csv')\n",
      "s3.ObjectSummary(bucket_name='cjl-project-data', key='nfl_capstone/data/raw/nfl_teams.csv')\n",
      "s3.ObjectSummary(bucket_name='cjl-project-data', key='nfl_capstone/data/raw/nfl_teams_scraped.csv')\n",
      "s3.ObjectSummary(bucket_name='cjl-project-data', key='nfl_capstone/data/raw/nflplaybyplay2009to2016/NFL Play by Play 2009-2016 (v3).csv')\n",
      "s3.ObjectSummary(bucket_name='cjl-project-data', key='nfl_capstone/data/raw/nflplaybyplay2009to2016/NFL Play by Play 2009-2017 (v4).csv')\n",
      "s3.ObjectSummary(bucket_name='cjl-project-data', key='nfl_capstone/data/raw/nflplaybyplay2009to2016/NFL Play by Play 2009-2018 (v5).csv')\n",
      "s3.ObjectSummary(bucket_name='cjl-project-data', key='nfl_capstone/data/raw/spreadspoke_scores.csv')\n"
     ]
    }
   ],
   "source": [
    "import boto3\n",
    "\n",
    "# key = \"nfl_capstone\"\n",
    "AWS_S3_BUCKET = \"cjl-project-data\"\n",
    "#\n",
    "# s3_client = boto3.client()\n",
    "\n",
    "import boto3\n",
    "s3 = boto3.resource('s3')\n",
    "my_bucket = s3.Bucket(AWS_S3_BUCKET)\n",
    "\n",
    "for my_bucket_object in my_bucket.objects.all():\n",
    "    print(my_bucket_object)"
   ],
   "metadata": {
    "collapsed": false
   }
  },
  {
   "cell_type": "code",
   "execution_count": 11,
   "outputs": [
    {
     "ename": "NameError",
     "evalue": "name 's3_client' is not defined",
     "output_type": "error",
     "traceback": [
      "\u001B[0;31m---------------------------------------------------------------------------\u001B[0m",
      "\u001B[0;31mNameError\u001B[0m                                 Traceback (most recent call last)",
      "Input \u001B[0;32mIn [11]\u001B[0m, in \u001B[0;36m<cell line: 1>\u001B[0;34m()\u001B[0m\n\u001B[0;32m----> 1\u001B[0m response \u001B[38;5;241m=\u001B[39m \u001B[43ms3_client\u001B[49m\u001B[38;5;241m.\u001B[39mget_object(Bucket\u001B[38;5;241m=\u001B[39mAWS_S3_BUCKET, Key\u001B[38;5;241m=\u001B[39m\u001B[38;5;124m\"\u001B[39m\u001B[38;5;124mfiles/books.csv\u001B[39m\u001B[38;5;124m\"\u001B[39m)\n\u001B[1;32m      3\u001B[0m status \u001B[38;5;241m=\u001B[39m response\u001B[38;5;241m.\u001B[39mget(\u001B[38;5;124m\"\u001B[39m\u001B[38;5;124mResponseMetadata\u001B[39m\u001B[38;5;124m\"\u001B[39m, {})\u001B[38;5;241m.\u001B[39mget(\u001B[38;5;124m\"\u001B[39m\u001B[38;5;124mHTTPStatusCode\u001B[39m\u001B[38;5;124m\"\u001B[39m)\n\u001B[1;32m      5\u001B[0m \u001B[38;5;28;01mif\u001B[39;00m status \u001B[38;5;241m==\u001B[39m \u001B[38;5;241m200\u001B[39m:\n",
      "\u001B[0;31mNameError\u001B[0m: name 's3_client' is not defined"
     ]
    }
   ],
   "source": [
    "response = s3_client.get_object(Bucket=AWS_S3_BUCKET, Key=\"files/books.csv\")\n",
    "\n",
    "status = response.get(\"ResponseMetadata\", {}).get(\"HTTPStatusCode\")\n",
    "\n",
    "if status == 200:\n",
    "    print(f\"Successful S3 get_object response. Status - {status}\")\n",
    "    books_df = pd.read_csv(response.get(\"Body\"))\n",
    "    print(books_df)\n",
    "else:\n",
    "    print(f\"Unsuccessful S3 get_object response. Status - {status}\")\n"
   ],
   "metadata": {
    "collapsed": false
   }
  },
  {
   "cell_type": "code",
   "execution_count": 17,
   "outputs": [
    {
     "name": "stdout",
     "output_type": "stream",
     "text": [
      "2009 done.\n",
      "Downcasting floats.\n"
     ]
    },
    {
     "data": {
      "text/plain": "pandas.core.frame.DataFrame"
     },
     "execution_count": 17,
     "metadata": {},
     "output_type": "execute_result"
    }
   ],
   "source": [
    "import nfl_data_py as nfl\n",
    "pbp = nfl.import_pbp_data([2009],  downcast=True, cache=False, alt_path=None)\n",
    "type(pbp)"
   ],
   "metadata": {
    "collapsed": false
   }
  },
  {
   "cell_type": "code",
   "execution_count": 18,
   "outputs": [
    {
     "data": {
      "text/plain": "    play_id         game_id old_game_id home_team away_team season_type  week  \\\n0   1.00000  2009_01_BUF_NE  2009091400        NE       BUF         REG     1   \n1  56.00000  2009_01_BUF_NE  2009091400        NE       BUF         REG     1   \n2  79.00000  2009_01_BUF_NE  2009091400        NE       BUF         REG     1   \n3 101.00000  2009_01_BUF_NE  2009091400        NE       BUF         REG     1   \n4 122.00000  2009_01_BUF_NE  2009091400        NE       BUF         REG     1   \n\n  posteam posteam_type defteam  ... out_of_bounds  home_opening_kickoff  \\\n0    None         None    None  ...       0.00000               1.00000   \n1      NE         home     BUF  ...       1.00000               1.00000   \n2      NE         home     BUF  ...       0.00000               1.00000   \n3      NE         home     BUF  ...       0.00000               1.00000   \n4      NE         home     BUF  ...       0.00000               1.00000   \n\n    qb_epa  xyac_epa  xyac_mean_yardage  xyac_median_yardage xyac_success  \\\n0  0.00000       NaN                NaN                  NaN          NaN   \n1  2.04008       NaN                NaN                  NaN          NaN   \n2 -0.46375   0.68892            6.14310              5.00000      0.59941   \n3 -0.51894       NaN                NaN                  NaN          NaN   \n4 -0.44904   1.84605            4.85422              3.00000      0.51567   \n\n   xyac_fd   xpass   pass_oe  \n0      NaN     NaN       NaN  \n1      NaN     NaN       NaN  \n2  0.23625 0.50746  49.25402  \n3      NaN 0.40508 -40.50788  \n4  0.51567 0.97361   2.63881  \n\n[5 rows x 372 columns]",
      "text/html": "<div>\n<style scoped>\n    .dataframe tbody tr th:only-of-type {\n        vertical-align: middle;\n    }\n\n    .dataframe tbody tr th {\n        vertical-align: top;\n    }\n\n    .dataframe thead th {\n        text-align: right;\n    }\n</style>\n<table border=\"1\" class=\"dataframe\">\n  <thead>\n    <tr style=\"text-align: right;\">\n      <th></th>\n      <th>play_id</th>\n      <th>game_id</th>\n      <th>old_game_id</th>\n      <th>home_team</th>\n      <th>away_team</th>\n      <th>season_type</th>\n      <th>week</th>\n      <th>posteam</th>\n      <th>posteam_type</th>\n      <th>defteam</th>\n      <th>...</th>\n      <th>out_of_bounds</th>\n      <th>home_opening_kickoff</th>\n      <th>qb_epa</th>\n      <th>xyac_epa</th>\n      <th>xyac_mean_yardage</th>\n      <th>xyac_median_yardage</th>\n      <th>xyac_success</th>\n      <th>xyac_fd</th>\n      <th>xpass</th>\n      <th>pass_oe</th>\n    </tr>\n  </thead>\n  <tbody>\n    <tr>\n      <th>0</th>\n      <td>1.00000</td>\n      <td>2009_01_BUF_NE</td>\n      <td>2009091400</td>\n      <td>NE</td>\n      <td>BUF</td>\n      <td>REG</td>\n      <td>1</td>\n      <td>None</td>\n      <td>None</td>\n      <td>None</td>\n      <td>...</td>\n      <td>0.00000</td>\n      <td>1.00000</td>\n      <td>0.00000</td>\n      <td>NaN</td>\n      <td>NaN</td>\n      <td>NaN</td>\n      <td>NaN</td>\n      <td>NaN</td>\n      <td>NaN</td>\n      <td>NaN</td>\n    </tr>\n    <tr>\n      <th>1</th>\n      <td>56.00000</td>\n      <td>2009_01_BUF_NE</td>\n      <td>2009091400</td>\n      <td>NE</td>\n      <td>BUF</td>\n      <td>REG</td>\n      <td>1</td>\n      <td>NE</td>\n      <td>home</td>\n      <td>BUF</td>\n      <td>...</td>\n      <td>1.00000</td>\n      <td>1.00000</td>\n      <td>2.04008</td>\n      <td>NaN</td>\n      <td>NaN</td>\n      <td>NaN</td>\n      <td>NaN</td>\n      <td>NaN</td>\n      <td>NaN</td>\n      <td>NaN</td>\n    </tr>\n    <tr>\n      <th>2</th>\n      <td>79.00000</td>\n      <td>2009_01_BUF_NE</td>\n      <td>2009091400</td>\n      <td>NE</td>\n      <td>BUF</td>\n      <td>REG</td>\n      <td>1</td>\n      <td>NE</td>\n      <td>home</td>\n      <td>BUF</td>\n      <td>...</td>\n      <td>0.00000</td>\n      <td>1.00000</td>\n      <td>-0.46375</td>\n      <td>0.68892</td>\n      <td>6.14310</td>\n      <td>5.00000</td>\n      <td>0.59941</td>\n      <td>0.23625</td>\n      <td>0.50746</td>\n      <td>49.25402</td>\n    </tr>\n    <tr>\n      <th>3</th>\n      <td>101.00000</td>\n      <td>2009_01_BUF_NE</td>\n      <td>2009091400</td>\n      <td>NE</td>\n      <td>BUF</td>\n      <td>REG</td>\n      <td>1</td>\n      <td>NE</td>\n      <td>home</td>\n      <td>BUF</td>\n      <td>...</td>\n      <td>0.00000</td>\n      <td>1.00000</td>\n      <td>-0.51894</td>\n      <td>NaN</td>\n      <td>NaN</td>\n      <td>NaN</td>\n      <td>NaN</td>\n      <td>NaN</td>\n      <td>0.40508</td>\n      <td>-40.50788</td>\n    </tr>\n    <tr>\n      <th>4</th>\n      <td>122.00000</td>\n      <td>2009_01_BUF_NE</td>\n      <td>2009091400</td>\n      <td>NE</td>\n      <td>BUF</td>\n      <td>REG</td>\n      <td>1</td>\n      <td>NE</td>\n      <td>home</td>\n      <td>BUF</td>\n      <td>...</td>\n      <td>0.00000</td>\n      <td>1.00000</td>\n      <td>-0.44904</td>\n      <td>1.84605</td>\n      <td>4.85422</td>\n      <td>3.00000</td>\n      <td>0.51567</td>\n      <td>0.51567</td>\n      <td>0.97361</td>\n      <td>2.63881</td>\n    </tr>\n  </tbody>\n</table>\n<p>5 rows × 372 columns</p>\n</div>"
     },
     "execution_count": 18,
     "metadata": {},
     "output_type": "execute_result"
    }
   ],
   "source": [
    "pbp.head()"
   ],
   "metadata": {
    "collapsed": false
   }
  },
  {
   "cell_type": "code",
   "execution_count": 16,
   "outputs": [
    {
     "data": {
      "text/plain": "       play_id         game_id old_game_id home_team away_team season_type  \\\n173 4111.00000  2009_01_BUF_NE  2009091400        NE       BUF         REG   \n174 4162.00000  2009_01_BUF_NE  2009091400        NE       BUF         REG   \n\n     week posteam posteam_type defteam  ... out_of_bounds  \\\n173     1     BUF         away      NE  ...       0.00000   \n174     1    None         None    None  ...       0.00000   \n\n     home_opening_kickoff  qb_epa  xyac_epa  xyac_mean_yardage  \\\n173               1.00000 0.01469   0.08585            3.62677   \n174               1.00000     NaN       NaN                NaN   \n\n     xyac_median_yardage xyac_success  xyac_fd   xpass  pass_oe  \n173              1.00000      0.42149  0.42149 0.94678  5.32157  \n174                  NaN          NaN      NaN     NaN      NaN  \n\n[2 rows x 372 columns]",
      "text/html": "<div>\n<style scoped>\n    .dataframe tbody tr th:only-of-type {\n        vertical-align: middle;\n    }\n\n    .dataframe tbody tr th {\n        vertical-align: top;\n    }\n\n    .dataframe thead th {\n        text-align: right;\n    }\n</style>\n<table border=\"1\" class=\"dataframe\">\n  <thead>\n    <tr style=\"text-align: right;\">\n      <th></th>\n      <th>play_id</th>\n      <th>game_id</th>\n      <th>old_game_id</th>\n      <th>home_team</th>\n      <th>away_team</th>\n      <th>season_type</th>\n      <th>week</th>\n      <th>posteam</th>\n      <th>posteam_type</th>\n      <th>defteam</th>\n      <th>...</th>\n      <th>out_of_bounds</th>\n      <th>home_opening_kickoff</th>\n      <th>qb_epa</th>\n      <th>xyac_epa</th>\n      <th>xyac_mean_yardage</th>\n      <th>xyac_median_yardage</th>\n      <th>xyac_success</th>\n      <th>xyac_fd</th>\n      <th>xpass</th>\n      <th>pass_oe</th>\n    </tr>\n  </thead>\n  <tbody>\n    <tr>\n      <th>173</th>\n      <td>4111.00000</td>\n      <td>2009_01_BUF_NE</td>\n      <td>2009091400</td>\n      <td>NE</td>\n      <td>BUF</td>\n      <td>REG</td>\n      <td>1</td>\n      <td>BUF</td>\n      <td>away</td>\n      <td>NE</td>\n      <td>...</td>\n      <td>0.00000</td>\n      <td>1.00000</td>\n      <td>0.01469</td>\n      <td>0.08585</td>\n      <td>3.62677</td>\n      <td>1.00000</td>\n      <td>0.42149</td>\n      <td>0.42149</td>\n      <td>0.94678</td>\n      <td>5.32157</td>\n    </tr>\n    <tr>\n      <th>174</th>\n      <td>4162.00000</td>\n      <td>2009_01_BUF_NE</td>\n      <td>2009091400</td>\n      <td>NE</td>\n      <td>BUF</td>\n      <td>REG</td>\n      <td>1</td>\n      <td>None</td>\n      <td>None</td>\n      <td>None</td>\n      <td>...</td>\n      <td>0.00000</td>\n      <td>1.00000</td>\n      <td>NaN</td>\n      <td>NaN</td>\n      <td>NaN</td>\n      <td>NaN</td>\n      <td>NaN</td>\n      <td>NaN</td>\n      <td>NaN</td>\n      <td>NaN</td>\n    </tr>\n  </tbody>\n</table>\n<p>2 rows × 372 columns</p>\n</div>"
     },
     "execution_count": 16,
     "metadata": {},
     "output_type": "execute_result"
    }
   ],
   "source": [
    "pbp.loc[(pbp.game_id == '2009_01_BUF_NE')& (pbp.game_seconds_remaining < 2)].sort_values(by='play_id')"
   ],
   "metadata": {
    "collapsed": false
   }
  },
  {
   "cell_type": "code",
   "execution_count": null,
   "outputs": [],
   "source": [],
   "metadata": {
    "collapsed": false
   }
  }
 ],
 "metadata": {
  "kernelspec": {
   "display_name": "Python 3",
   "language": "python",
   "name": "python3"
  },
  "language_info": {
   "codemirror_mode": {
    "name": "ipython",
    "version": 2
   },
   "file_extension": ".py",
   "mimetype": "text/x-python",
   "name": "python",
   "nbconvert_exporter": "python",
   "pygments_lexer": "ipython2",
   "version": "2.7.6"
  }
 },
 "nbformat": 4,
 "nbformat_minor": 0
}
