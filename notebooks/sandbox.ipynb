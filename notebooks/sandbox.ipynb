{
 "cells": [
  {
   "cell_type": "markdown",
   "source": [
    "# Prepare"
   ],
   "metadata": {
    "collapsed": false
   }
  },
  {
   "cell_type": "markdown",
   "source": [
    "## imports"
   ],
   "metadata": {
    "collapsed": false
   }
  },
  {
   "cell_type": "code",
   "execution_count": 657,
   "metadata": {
    "collapsed": true
   },
   "outputs": [
    {
     "name": "stdout",
     "output_type": "stream",
     "text": [
      "The autoreload extension is already loaded. To reload it, use:\n",
      "  %reload_ext autoreload\n"
     ]
    }
   ],
   "source": [
    "%load_ext autoreload\n",
    "%autoreload 2\n",
    "\n",
    "import warnings\n",
    "\n",
    "import numpy as np\n",
    "import pandas as pd\n",
    "import os\n",
    "import sys\n",
    "\n",
    "warnings.filterwarnings(\"ignore\", category=DeprecationWarning)\n",
    "warnings.filterwarnings(\"ignore\", category=UserWarning)\n",
    "warnings.filterwarnings(\"ignore\", category=FutureWarning)\n",
    "\n",
    "pd.set_option('display.float_format', lambda x: '%.5f' % x)\n",
    "\n",
    "np.random.seed(0)"
   ]
  },
  {
   "cell_type": "code",
   "execution_count": 658,
   "outputs": [
    {
     "name": "stdout",
     "output_type": "stream",
     "text": [
      "Adding modules /Users/christopherlomeli/Source/courses/datascience/data_science_capstone02/nfl_capstone/src\n"
     ]
    }
   ],
   "source": [
    "module_path = os.path.abspath(os.path.join('../src'))\n",
    "print(\"Adding modules\", module_path)\n",
    "if module_path not in sys.path:\n",
    "    sys.path.append(module_path)"
   ],
   "metadata": {
    "collapsed": false
   }
  },
  {
   "cell_type": "code",
   "execution_count": 659,
   "outputs": [],
   "source": [
    "from src.features.wrangling.database_loader import DatabaseLoader\n",
    "from src.features.wrangling.get_metrics import GetMetrics, get_versioned_name, conform_column_names"
   ],
   "metadata": {
    "collapsed": false
   }
  },
  {
   "cell_type": "markdown",
   "source": [
    "# setup"
   ],
   "metadata": {
    "collapsed": false
   }
  },
  {
   "cell_type": "markdown",
   "source": [],
   "metadata": {
    "collapsed": false
   }
  },
  {
   "cell_type": "code",
   "execution_count": 660,
   "outputs": [
    {
     "name": "stdout",
     "output_type": "stream",
     "text": [
      "INPUT_DATA ../data/raw/nflplaybyplay2009to2016/NFL Play by Play 2009-2017 (v4).csv\n",
      "OUTPUT_DATA ../data/interim/nflplaybyplay2009to2016_reviewed_01.parquet\n",
      "BACKUP_METRICS_FILE ../data/interim/metrics_backup.parquet\n",
      " ../data/interim/dimensions.parquet\n",
      "DIMENSIONS_DATA nfl_metrics\n",
      "CATEGORIES_TABLE_NAME nfl_categories\n"
     ]
    }
   ],
   "source": [
    "RAW_DATA_PATH = '../data/raw'\n",
    "INTERIM_DATA_PATH='../data/interim'\n",
    "\n",
    "# inputs\n",
    "INPUT_DATA=os.path.join(RAW_DATA_PATH,\"nflplaybyplay2009to2016/NFL Play by Play 2009-2017 (v4).csv\")\n",
    "\n",
    "#outputs\n",
    "OUTPUT_DATA = os.path.join(INTERIM_DATA_PATH,\"nflplaybyplay2009to2016_reviewed_01.parquet\")\n",
    "BACKUP_METRICS_FILE = os.path.join(INTERIM_DATA_PATH,\"metrics_backup.parquet\")\n",
    "DIMENSIONS_DATA = os.path.join(INTERIM_DATA_PATH,\"dimensions.parquet\")\n",
    "\n",
    "# database\n",
    "METRICS_TABLE_NAME=\"nfl_metrics\"\n",
    "CATEGORIES_TABLE_NAME=\"nfl_categories\"\n",
    "\n",
    "# verify\n",
    "print(\"INPUT_DATA\", INPUT_DATA)\n",
    "print(\"OUTPUT_DATA\", OUTPUT_DATA )\n",
    "print(\"BACKUP_METRICS_FILE\", BACKUP_METRICS_FILE )\n",
    "print(\"\", DIMENSIONS_DATA)\n",
    "print(\"DIMENSIONS_DATA\", METRICS_TABLE_NAME)\n",
    "print(\"CATEGORIES_TABLE_NAME\", CATEGORIES_TABLE_NAME)\n"
   ],
   "metadata": {
    "collapsed": false
   }
  },
  {
   "cell_type": "code",
   "execution_count": 661,
   "outputs": [],
   "source": [
    "db = DatabaseLoader(connection_string_env_url=\"DB_CONNECTION_URL\")"
   ],
   "metadata": {
    "collapsed": false
   }
  },
  {
   "cell_type": "code",
   "execution_count": 662,
   "outputs": [],
   "source": [
    "# rdf = db.read_table(\"nfl_dim\")\n",
    "# rdf\n",
    "# rdf.to_parquet(DIMENSIONS_DATA, engine='fastparquet',  compression='snappy')"
   ],
   "metadata": {
    "collapsed": false
   }
  },
  {
   "cell_type": "code",
   "execution_count": 663,
   "outputs": [
    {
     "data": {
      "text/plain": "Name 1       Mike\nName 2     Alessa\nName 3       Nick\nName 4        Kim\nName 5    Britney\ndtype: object"
     },
     "execution_count": 663,
     "metadata": {},
     "output_type": "execute_result"
    }
   ],
   "source": [
    "# Creating the Series\n",
    "sr = pd.Series(['Mike', 'Alessa', 'Nick', 'Kim', 'Britney'])\n",
    "\n",
    "# Creating the index\n",
    "idx = ['Name 1', 'Name 2', 'Name 3', 'Name 4', 'Name 5']\n",
    "\n",
    "# set the index\n",
    "sr.index = idx\n",
    "\n",
    "# Print the series\n",
    "sr\n",
    "\n",
    "\n"
   ],
   "metadata": {
    "collapsed": false
   }
  },
  {
   "cell_type": "code",
   "execution_count": 664,
   "outputs": [
    {
     "data": {
      "text/plain": "          0\nName 1  Mik\nName 2  NaN\nName 3  Nic\nName 4  Kim\nName 5  NaN",
      "text/html": "<div>\n<style scoped>\n    .dataframe tbody tr th:only-of-type {\n        vertical-align: middle;\n    }\n\n    .dataframe tbody tr th {\n        vertical-align: top;\n    }\n\n    .dataframe thead th {\n        text-align: right;\n    }\n</style>\n<table border=\"1\" class=\"dataframe\">\n  <thead>\n    <tr style=\"text-align: right;\">\n      <th></th>\n      <th>0</th>\n    </tr>\n  </thead>\n  <tbody>\n    <tr>\n      <th>Name 1</th>\n      <td>Mik</td>\n    </tr>\n    <tr>\n      <th>Name 2</th>\n      <td>NaN</td>\n    </tr>\n    <tr>\n      <th>Name 3</th>\n      <td>Nic</td>\n    </tr>\n    <tr>\n      <th>Name 4</th>\n      <td>Kim</td>\n    </tr>\n    <tr>\n      <th>Name 5</th>\n      <td>NaN</td>\n    </tr>\n  </tbody>\n</table>\n</div>"
     },
     "execution_count": 664,
     "metadata": {},
     "output_type": "execute_result"
    }
   ],
   "source": [
    "# extract groups having any capital letter\n",
    "# followed by 'i' and any other character\n",
    "result = sr.str.extract(pat = '([A-Z]i.)')\n",
    "\n",
    "result"
   ],
   "metadata": {
    "collapsed": false
   }
  },
  {
   "cell_type": "code",
   "execution_count": 665,
   "outputs": [],
   "source": [
    "# Import needed package\n",
    "import pycodestyle\n",
    "\n",
    "# Create a StyleGuide instance\n",
    "style_checker = pycodestyle.StyleGuide()"
   ],
   "metadata": {
    "collapsed": false
   }
  },
  {
   "cell_type": "code",
   "execution_count": 666,
   "outputs": [],
   "source": [
    "import requests\n",
    "\n",
    "url = 'https://static.nfl.com/liveupdate/game-center/2019122902/2019122902_gtd.json'\n",
    "url='https://nfl-team-stats.p.rapidapi.com/v1/nfl-stats/teams/win-stats/2020'\n",
    "\n",
    "# r = requests.get('https://www.pro-football-reference.com/boxscores/game-scores.htm')\n",
    "\n",
    "\n",
    "\n",
    "#\n",
    "# const axios = require(\"axios\");\n",
    "#\n",
    "# const options = {\n",
    "#     method: 'GET',\n",
    "#     url: 'https://nfl-team-stats.p.rapidapi.com/v1/nfl-stats/teams/win-stats/2020',\n",
    "#     headers: {\n",
    "#         'X-RapidAPI-Key': 'c81e11a8a5mshcd003b1576ee39ep1982efjsn42073ec20c43',\n",
    "#         'X-RapidAPI-Host': 'nfl-team-stats.p.rapidapi.com'\n",
    "#     }\n",
    "# };\n",
    "#\n",
    "# axios.request(options).then(function (response) {\n",
    "#     console.log(response.data);\n",
    "# }).catch(function (error) {\n",
    "#     console.error(error);\n",
    "# });"
   ],
   "metadata": {
    "collapsed": false
   }
  },
  {
   "cell_type": "code",
   "execution_count": 666,
   "outputs": [],
   "source": [],
   "metadata": {
    "collapsed": false
   }
  },
  {
   "cell_type": "markdown",
   "source": [
    "### load spreadscores"
   ],
   "metadata": {
    "collapsed": false
   }
  },
  {
   "cell_type": "code",
   "execution_count": 667,
   "outputs": [
    {
     "data": {
      "text/plain": "  schedule_date  schedule_season schedule_week  schedule_playoff  \\\n0    1966-09-02             1966             1             False   \n1    1966-09-03             1966             1             False   \n2    1966-09-04             1966             1             False   \n3    1966-09-09             1966             2             False   \n4    1966-09-10             1966             1             False   \n\n            team_home  score_home  score_away        team_away  \\\n0      Miami Dolphins          14          23  Oakland Raiders   \n1      Houston Oilers          45           7   Denver Broncos   \n2  San Diego Chargers          27           7    Buffalo Bills   \n3      Miami Dolphins          14          19    New York Jets   \n4   Green Bay Packers          24           3  Baltimore Colts   \n\n  team_favorite_id  spread_favorite over_under_line         stadium  \\\n0              NaN              NaN             NaN     Orange Bowl   \n1              NaN              NaN             NaN    Rice Stadium   \n2              NaN              NaN             NaN  Balboa Stadium   \n3              NaN              NaN             NaN     Orange Bowl   \n4              NaN              NaN             NaN   Lambeau Field   \n\n   stadium_neutral  weather_temperature  weather_wind_mph  weather_humidity  \\\n0            False             83.00000           6.00000          71.00000   \n1            False             81.00000           7.00000          70.00000   \n2            False             70.00000           7.00000          82.00000   \n3            False             82.00000          11.00000          78.00000   \n4            False             64.00000           8.00000          62.00000   \n\n  weather_detail  \n0            NaN  \n1            NaN  \n2            NaN  \n3            NaN  \n4            NaN  ",
      "text/html": "<div>\n<style scoped>\n    .dataframe tbody tr th:only-of-type {\n        vertical-align: middle;\n    }\n\n    .dataframe tbody tr th {\n        vertical-align: top;\n    }\n\n    .dataframe thead th {\n        text-align: right;\n    }\n</style>\n<table border=\"1\" class=\"dataframe\">\n  <thead>\n    <tr style=\"text-align: right;\">\n      <th></th>\n      <th>schedule_date</th>\n      <th>schedule_season</th>\n      <th>schedule_week</th>\n      <th>schedule_playoff</th>\n      <th>team_home</th>\n      <th>score_home</th>\n      <th>score_away</th>\n      <th>team_away</th>\n      <th>team_favorite_id</th>\n      <th>spread_favorite</th>\n      <th>over_under_line</th>\n      <th>stadium</th>\n      <th>stadium_neutral</th>\n      <th>weather_temperature</th>\n      <th>weather_wind_mph</th>\n      <th>weather_humidity</th>\n      <th>weather_detail</th>\n    </tr>\n  </thead>\n  <tbody>\n    <tr>\n      <th>0</th>\n      <td>1966-09-02</td>\n      <td>1966</td>\n      <td>1</td>\n      <td>False</td>\n      <td>Miami Dolphins</td>\n      <td>14</td>\n      <td>23</td>\n      <td>Oakland Raiders</td>\n      <td>NaN</td>\n      <td>NaN</td>\n      <td>NaN</td>\n      <td>Orange Bowl</td>\n      <td>False</td>\n      <td>83.00000</td>\n      <td>6.00000</td>\n      <td>71.00000</td>\n      <td>NaN</td>\n    </tr>\n    <tr>\n      <th>1</th>\n      <td>1966-09-03</td>\n      <td>1966</td>\n      <td>1</td>\n      <td>False</td>\n      <td>Houston Oilers</td>\n      <td>45</td>\n      <td>7</td>\n      <td>Denver Broncos</td>\n      <td>NaN</td>\n      <td>NaN</td>\n      <td>NaN</td>\n      <td>Rice Stadium</td>\n      <td>False</td>\n      <td>81.00000</td>\n      <td>7.00000</td>\n      <td>70.00000</td>\n      <td>NaN</td>\n    </tr>\n    <tr>\n      <th>2</th>\n      <td>1966-09-04</td>\n      <td>1966</td>\n      <td>1</td>\n      <td>False</td>\n      <td>San Diego Chargers</td>\n      <td>27</td>\n      <td>7</td>\n      <td>Buffalo Bills</td>\n      <td>NaN</td>\n      <td>NaN</td>\n      <td>NaN</td>\n      <td>Balboa Stadium</td>\n      <td>False</td>\n      <td>70.00000</td>\n      <td>7.00000</td>\n      <td>82.00000</td>\n      <td>NaN</td>\n    </tr>\n    <tr>\n      <th>3</th>\n      <td>1966-09-09</td>\n      <td>1966</td>\n      <td>2</td>\n      <td>False</td>\n      <td>Miami Dolphins</td>\n      <td>14</td>\n      <td>19</td>\n      <td>New York Jets</td>\n      <td>NaN</td>\n      <td>NaN</td>\n      <td>NaN</td>\n      <td>Orange Bowl</td>\n      <td>False</td>\n      <td>82.00000</td>\n      <td>11.00000</td>\n      <td>78.00000</td>\n      <td>NaN</td>\n    </tr>\n    <tr>\n      <th>4</th>\n      <td>1966-09-10</td>\n      <td>1966</td>\n      <td>1</td>\n      <td>False</td>\n      <td>Green Bay Packers</td>\n      <td>24</td>\n      <td>3</td>\n      <td>Baltimore Colts</td>\n      <td>NaN</td>\n      <td>NaN</td>\n      <td>NaN</td>\n      <td>Lambeau Field</td>\n      <td>False</td>\n      <td>64.00000</td>\n      <td>8.00000</td>\n      <td>62.00000</td>\n      <td>NaN</td>\n    </tr>\n  </tbody>\n</table>\n</div>"
     },
     "execution_count": 667,
     "metadata": {},
     "output_type": "execute_result"
    }
   ],
   "source": [
    "scores_df = pd.read_csv(\"../data/raw/spreadspoke_scores.csv\", parse_dates=['schedule_date'])\n",
    "scores_df.head()"
   ],
   "metadata": {
    "collapsed": false
   }
  },
  {
   "cell_type": "code",
   "execution_count": 668,
   "outputs": [
    {
     "data": {
      "text/plain": "            date  season        week  schedule_playoff            home_team  \\\n0     1966-09-02    1966           1             False       Miami Dolphins   \n1     1966-09-03    1966           1             False       Houston Oilers   \n2     1966-09-04    1966           1             False   San Diego Chargers   \n3     1966-09-09    1966           2             False       Miami Dolphins   \n4     1966-09-10    1966           1             False    Green Bay Packers   \n...          ...     ...         ...               ...                  ...   \n13511 2023-01-22    2022    Division              True        Buffalo Bills   \n13512 2023-01-22    2022    Division              True  San Francisco 49ers   \n13513 2023-01-29    2022  Conference              True   Kansas City Chiefs   \n13514 2023-01-29    2022  Conference              True  Philadelphia Eagles   \n13515 2023-02-12    2022   Superbowl              True  Philadelphia Eagles   \n\n       score_home  score_away            away_team  \\\n0              14          23      Oakland Raiders   \n1              45           7       Denver Broncos   \n2              27           7        Buffalo Bills   \n3              14          19        New York Jets   \n4              24           3      Baltimore Colts   \n...           ...         ...                  ...   \n13511          10          27   Cincinnati Bengals   \n13512          19          12       Dallas Cowboys   \n13513          23          20   Cincinnati Bengals   \n13514          31           7  San Francisco 49ers   \n13515          35          38   Kansas City Chiefs   \n\n                               stadium  stadium_neutral  weather_temperature  \\\n0                          Orange Bowl            False             83.00000   \n1                         Rice Stadium            False             81.00000   \n2                       Balboa Stadium            False             70.00000   \n3                          Orange Bowl            False             82.00000   \n4                        Lambeau Field            False             64.00000   \n...                                ...              ...                  ...   \n13511                 Highmark Stadium            False             32.00000   \n13512                   Levi's Stadium            False             55.00000   \n13513  GEHA Field at Arrowhead Stadium            False             22.00000   \n13514          Lincoln Financial Field            False             52.00000   \n13515               State Farm Stadium             True             76.00000   \n\n       weather_wind_mph  weather_humidity  \n0               6.00000          71.00000  \n1               7.00000          70.00000  \n2               7.00000          82.00000  \n3              11.00000          78.00000  \n4               8.00000          62.00000  \n...                 ...               ...  \n13511           4.00000         100.00000  \n13512          19.00000          47.00000  \n13513          13.00000          55.00000  \n13514          14.00000          48.00000  \n13515           8.00000           8.00000  \n\n[13516 rows x 13 columns]",
      "text/html": "<div>\n<style scoped>\n    .dataframe tbody tr th:only-of-type {\n        vertical-align: middle;\n    }\n\n    .dataframe tbody tr th {\n        vertical-align: top;\n    }\n\n    .dataframe thead th {\n        text-align: right;\n    }\n</style>\n<table border=\"1\" class=\"dataframe\">\n  <thead>\n    <tr style=\"text-align: right;\">\n      <th></th>\n      <th>date</th>\n      <th>season</th>\n      <th>week</th>\n      <th>schedule_playoff</th>\n      <th>home_team</th>\n      <th>score_home</th>\n      <th>score_away</th>\n      <th>away_team</th>\n      <th>stadium</th>\n      <th>stadium_neutral</th>\n      <th>weather_temperature</th>\n      <th>weather_wind_mph</th>\n      <th>weather_humidity</th>\n    </tr>\n  </thead>\n  <tbody>\n    <tr>\n      <th>0</th>\n      <td>1966-09-02</td>\n      <td>1966</td>\n      <td>1</td>\n      <td>False</td>\n      <td>Miami Dolphins</td>\n      <td>14</td>\n      <td>23</td>\n      <td>Oakland Raiders</td>\n      <td>Orange Bowl</td>\n      <td>False</td>\n      <td>83.00000</td>\n      <td>6.00000</td>\n      <td>71.00000</td>\n    </tr>\n    <tr>\n      <th>1</th>\n      <td>1966-09-03</td>\n      <td>1966</td>\n      <td>1</td>\n      <td>False</td>\n      <td>Houston Oilers</td>\n      <td>45</td>\n      <td>7</td>\n      <td>Denver Broncos</td>\n      <td>Rice Stadium</td>\n      <td>False</td>\n      <td>81.00000</td>\n      <td>7.00000</td>\n      <td>70.00000</td>\n    </tr>\n    <tr>\n      <th>2</th>\n      <td>1966-09-04</td>\n      <td>1966</td>\n      <td>1</td>\n      <td>False</td>\n      <td>San Diego Chargers</td>\n      <td>27</td>\n      <td>7</td>\n      <td>Buffalo Bills</td>\n      <td>Balboa Stadium</td>\n      <td>False</td>\n      <td>70.00000</td>\n      <td>7.00000</td>\n      <td>82.00000</td>\n    </tr>\n    <tr>\n      <th>3</th>\n      <td>1966-09-09</td>\n      <td>1966</td>\n      <td>2</td>\n      <td>False</td>\n      <td>Miami Dolphins</td>\n      <td>14</td>\n      <td>19</td>\n      <td>New York Jets</td>\n      <td>Orange Bowl</td>\n      <td>False</td>\n      <td>82.00000</td>\n      <td>11.00000</td>\n      <td>78.00000</td>\n    </tr>\n    <tr>\n      <th>4</th>\n      <td>1966-09-10</td>\n      <td>1966</td>\n      <td>1</td>\n      <td>False</td>\n      <td>Green Bay Packers</td>\n      <td>24</td>\n      <td>3</td>\n      <td>Baltimore Colts</td>\n      <td>Lambeau Field</td>\n      <td>False</td>\n      <td>64.00000</td>\n      <td>8.00000</td>\n      <td>62.00000</td>\n    </tr>\n    <tr>\n      <th>...</th>\n      <td>...</td>\n      <td>...</td>\n      <td>...</td>\n      <td>...</td>\n      <td>...</td>\n      <td>...</td>\n      <td>...</td>\n      <td>...</td>\n      <td>...</td>\n      <td>...</td>\n      <td>...</td>\n      <td>...</td>\n      <td>...</td>\n    </tr>\n    <tr>\n      <th>13511</th>\n      <td>2023-01-22</td>\n      <td>2022</td>\n      <td>Division</td>\n      <td>True</td>\n      <td>Buffalo Bills</td>\n      <td>10</td>\n      <td>27</td>\n      <td>Cincinnati Bengals</td>\n      <td>Highmark Stadium</td>\n      <td>False</td>\n      <td>32.00000</td>\n      <td>4.00000</td>\n      <td>100.00000</td>\n    </tr>\n    <tr>\n      <th>13512</th>\n      <td>2023-01-22</td>\n      <td>2022</td>\n      <td>Division</td>\n      <td>True</td>\n      <td>San Francisco 49ers</td>\n      <td>19</td>\n      <td>12</td>\n      <td>Dallas Cowboys</td>\n      <td>Levi's Stadium</td>\n      <td>False</td>\n      <td>55.00000</td>\n      <td>19.00000</td>\n      <td>47.00000</td>\n    </tr>\n    <tr>\n      <th>13513</th>\n      <td>2023-01-29</td>\n      <td>2022</td>\n      <td>Conference</td>\n      <td>True</td>\n      <td>Kansas City Chiefs</td>\n      <td>23</td>\n      <td>20</td>\n      <td>Cincinnati Bengals</td>\n      <td>GEHA Field at Arrowhead Stadium</td>\n      <td>False</td>\n      <td>22.00000</td>\n      <td>13.00000</td>\n      <td>55.00000</td>\n    </tr>\n    <tr>\n      <th>13514</th>\n      <td>2023-01-29</td>\n      <td>2022</td>\n      <td>Conference</td>\n      <td>True</td>\n      <td>Philadelphia Eagles</td>\n      <td>31</td>\n      <td>7</td>\n      <td>San Francisco 49ers</td>\n      <td>Lincoln Financial Field</td>\n      <td>False</td>\n      <td>52.00000</td>\n      <td>14.00000</td>\n      <td>48.00000</td>\n    </tr>\n    <tr>\n      <th>13515</th>\n      <td>2023-02-12</td>\n      <td>2022</td>\n      <td>Superbowl</td>\n      <td>True</td>\n      <td>Philadelphia Eagles</td>\n      <td>35</td>\n      <td>38</td>\n      <td>Kansas City Chiefs</td>\n      <td>State Farm Stadium</td>\n      <td>True</td>\n      <td>76.00000</td>\n      <td>8.00000</td>\n      <td>8.00000</td>\n    </tr>\n  </tbody>\n</table>\n<p>13516 rows × 13 columns</p>\n</div>"
     },
     "execution_count": 668,
     "metadata": {},
     "output_type": "execute_result"
    }
   ],
   "source": [
    "scores_df.drop(columns=['team_favorite_id', 'spread_favorite', 'over_under_line', 'weather_detail'], inplace=True)\n",
    "scores_df['team_away'] = scores_df['team_away'].str.strip()\n",
    "scores_df['team_home'] = scores_df['team_home'].str.strip()\n",
    "scores_df.rename(columns={\n",
    "    'schedule_date': 'date',\n",
    "    'schedule_season': 'season',\n",
    "    'schedule_week': 'week',\n",
    "    'team_home': 'home_team',\n",
    "    'team_away': 'away_team'\n",
    "}, inplace=True)\n",
    "\n",
    "scores_df"
   ],
   "metadata": {
    "collapsed": false
   }
  },
  {
   "cell_type": "markdown",
   "source": [
    "## load teams list"
   ],
   "metadata": {
    "collapsed": false
   }
  },
  {
   "cell_type": "code",
   "execution_count": 669,
   "outputs": [
    {
     "data": {
      "text/plain": "           team_name team_id\n0  Arizona Cardinals     ARI\n1    Atlanta Falcons     ATL\n2    Baltimore Colts     IND\n3   Baltimore Ravens     BAL\n4    Boston Patriots      NE",
      "text/html": "<div>\n<style scoped>\n    .dataframe tbody tr th:only-of-type {\n        vertical-align: middle;\n    }\n\n    .dataframe tbody tr th {\n        vertical-align: top;\n    }\n\n    .dataframe thead th {\n        text-align: right;\n    }\n</style>\n<table border=\"1\" class=\"dataframe\">\n  <thead>\n    <tr style=\"text-align: right;\">\n      <th></th>\n      <th>team_name</th>\n      <th>team_id</th>\n    </tr>\n  </thead>\n  <tbody>\n    <tr>\n      <th>0</th>\n      <td>Arizona Cardinals</td>\n      <td>ARI</td>\n    </tr>\n    <tr>\n      <th>1</th>\n      <td>Atlanta Falcons</td>\n      <td>ATL</td>\n    </tr>\n    <tr>\n      <th>2</th>\n      <td>Baltimore Colts</td>\n      <td>IND</td>\n    </tr>\n    <tr>\n      <th>3</th>\n      <td>Baltimore Ravens</td>\n      <td>BAL</td>\n    </tr>\n    <tr>\n      <th>4</th>\n      <td>Boston Patriots</td>\n      <td>NE</td>\n    </tr>\n  </tbody>\n</table>\n</div>"
     },
     "execution_count": 669,
     "metadata": {},
     "output_type": "execute_result"
    }
   ],
   "source": [
    "RAW_DATA_PATH = '../data/raw'\n",
    "TEAMS_DATA = os.path.join(RAW_DATA_PATH,\"nfl_teams.csv\")\n",
    "\n",
    "team_df = pd.read_csv(TEAMS_DATA)\n",
    "\n",
    "team_df['team_name'] = team_df['team_name'].str.strip()\n",
    "team_df['team_id'] = team_df['team_id'].str.strip()\n",
    "team_df.drop(columns=['team_name_short', 'team_id_pfr','team_conference', 'team_conference_pre2002', 'team_division', 'team_division_pre2002'], inplace=True)\n",
    "\n",
    "team_df.head()"
   ],
   "metadata": {
    "collapsed": false
   }
  },
  {
   "cell_type": "markdown",
   "source": [
    "## merge team_ids into score_df"
   ],
   "metadata": {
    "collapsed": false
   }
  },
  {
   "cell_type": "code",
   "execution_count": 670,
   "outputs": [],
   "source": [
    "def merge_team_id(scores_df, home_or_away_team):\n",
    "    id_name = home_or_away_team.strip() + \"_id\"\n",
    "    df2 = scores_df.merge(team_df, left_on=home_or_away_team, right_on='team_name', how='left', indicator=True)\n",
    "    df2.loc[(df2.season < 2016) & (df2['team_id'] == 'JAX'), 'team_id'] = 'JAC'\n",
    "    df2.rename(columns={'team_id': id_name}, inplace=True)\n",
    "    cf = df2.loc[( df2[home_or_away_team] != df2.team_name), [home_or_away_team]].sum().item()\n",
    "    assert cf == 0\n",
    "    df2.drop(columns=['_merge', 'team_name'], inplace=True)\n",
    "    return df2"
   ],
   "metadata": {
    "collapsed": false
   }
  },
  {
   "cell_type": "code",
   "execution_count": 671,
   "outputs": [
    {
     "name": "stdout",
     "output_type": "stream",
     "text": [
      "scores now has a home_team_id (abbreviation\n"
     ]
    },
    {
     "data": {
      "text/plain": "            home_team home_team_id\n0      Miami Dolphins          MIA\n1      Houston Oilers          TEN\n2  San Diego Chargers           SD\n3      Miami Dolphins          MIA\n4   Green Bay Packers           GB",
      "text/html": "<div>\n<style scoped>\n    .dataframe tbody tr th:only-of-type {\n        vertical-align: middle;\n    }\n\n    .dataframe tbody tr th {\n        vertical-align: top;\n    }\n\n    .dataframe thead th {\n        text-align: right;\n    }\n</style>\n<table border=\"1\" class=\"dataframe\">\n  <thead>\n    <tr style=\"text-align: right;\">\n      <th></th>\n      <th>home_team</th>\n      <th>home_team_id</th>\n    </tr>\n  </thead>\n  <tbody>\n    <tr>\n      <th>0</th>\n      <td>Miami Dolphins</td>\n      <td>MIA</td>\n    </tr>\n    <tr>\n      <th>1</th>\n      <td>Houston Oilers</td>\n      <td>TEN</td>\n    </tr>\n    <tr>\n      <th>2</th>\n      <td>San Diego Chargers</td>\n      <td>SD</td>\n    </tr>\n    <tr>\n      <th>3</th>\n      <td>Miami Dolphins</td>\n      <td>MIA</td>\n    </tr>\n    <tr>\n      <th>4</th>\n      <td>Green Bay Packers</td>\n      <td>GB</td>\n    </tr>\n  </tbody>\n</table>\n</div>"
     },
     "execution_count": 671,
     "metadata": {},
     "output_type": "execute_result"
    }
   ],
   "source": [
    "print(\"scores now has a home_team_id (abbreviation\")\n",
    "scores_df = merge_team_id(scores_df=scores_df, home_or_away_team='home_team')\n",
    "scores_df[['home_team', 'home_team_id']].head()"
   ],
   "metadata": {
    "collapsed": false
   }
  },
  {
   "cell_type": "code",
   "execution_count": 672,
   "outputs": [
    {
     "name": "stdout",
     "output_type": "stream",
     "text": [
      "scores now has a away_team_id (abbreviation\n"
     ]
    },
    {
     "data": {
      "text/plain": "         away_team away_team_id\n0  Oakland Raiders          OAK\n1   Denver Broncos          DEN\n2    Buffalo Bills          BUF\n3    New York Jets          NYJ\n4  Baltimore Colts          IND",
      "text/html": "<div>\n<style scoped>\n    .dataframe tbody tr th:only-of-type {\n        vertical-align: middle;\n    }\n\n    .dataframe tbody tr th {\n        vertical-align: top;\n    }\n\n    .dataframe thead th {\n        text-align: right;\n    }\n</style>\n<table border=\"1\" class=\"dataframe\">\n  <thead>\n    <tr style=\"text-align: right;\">\n      <th></th>\n      <th>away_team</th>\n      <th>away_team_id</th>\n    </tr>\n  </thead>\n  <tbody>\n    <tr>\n      <th>0</th>\n      <td>Oakland Raiders</td>\n      <td>OAK</td>\n    </tr>\n    <tr>\n      <th>1</th>\n      <td>Denver Broncos</td>\n      <td>DEN</td>\n    </tr>\n    <tr>\n      <th>2</th>\n      <td>Buffalo Bills</td>\n      <td>BUF</td>\n    </tr>\n    <tr>\n      <th>3</th>\n      <td>New York Jets</td>\n      <td>NYJ</td>\n    </tr>\n    <tr>\n      <th>4</th>\n      <td>Baltimore Colts</td>\n      <td>IND</td>\n    </tr>\n  </tbody>\n</table>\n</div>"
     },
     "execution_count": 672,
     "metadata": {},
     "output_type": "execute_result"
    }
   ],
   "source": [
    "print(\"scores now has a away_team_id (abbreviation\")\n",
    "scores_df = merge_team_id(scores_df=scores_df, home_or_away_team='away_team')\n",
    "scores_df[['away_team', 'away_team_id']].head()"
   ],
   "metadata": {
    "collapsed": false
   }
  },
  {
   "cell_type": "markdown",
   "source": [
    "## Load gameplay data"
   ],
   "metadata": {
    "collapsed": false
   }
  },
  {
   "cell_type": "code",
   "execution_count": 673,
   "outputs": [
    {
     "data": {
      "text/plain": "             date     game_id  drive  qtr    down   time  time_under  \\\nindex                                                                  \n0      2009-09-10  2009091000      1    1 0.00000  15:00          15   \n1      2009-09-10  2009091000      1    1 1.00000  14:53          15   \n2      2009-09-10  2009091000      1    1 2.00000  14:16          15   \n3      2009-09-10  2009091000      1    1 3.00000  13:35          14   \n4      2009-09-10  2009091000      1    1 4.00000  13:27          14   \n\n       time_secs  play_time_diff sideof_field  ...           timestamp  \\\nindex                                          ...                       \n0     3600.00000         0.00000          TEN  ... 2009-09-10 15:00:00   \n1     3593.00000         7.00000          PIT  ... 2009-09-10 14:53:00   \n2     3556.00000        37.00000          PIT  ... 2009-09-10 14:16:00   \n3     3515.00000        41.00000          PIT  ... 2009-09-10 13:35:00   \n4     3507.00000         8.00000          PIT  ... 2009-09-10 13:27:00   \n\n       def_two_point_key  ex_point_result_key  return_key  tackle_key  \\\nindex                                                                   \n0                      0                    0           1           1   \n1                      0                    0           0           1   \n2                      0                    0           0           1   \n3                      0                    0           0           0   \n4                      0                    0           0           0   \n\n       two_point_conv_key penalty_key playattempted play_attempted  \\\nindex                                                                \n0                       0           0             1            NaN   \n1                       0           0             1            NaN   \n2                       0           0             1            NaN   \n3                       0           0             1            NaN   \n4                       0           0             1            NaN   \n\n       play_recorded_key  \nindex                     \n0                      1  \n1                      1  \n2                      1  \n3                      1  \n4                      1  \n\n[5 rows x 54 columns]",
      "text/html": "<div>\n<style scoped>\n    .dataframe tbody tr th:only-of-type {\n        vertical-align: middle;\n    }\n\n    .dataframe tbody tr th {\n        vertical-align: top;\n    }\n\n    .dataframe thead th {\n        text-align: right;\n    }\n</style>\n<table border=\"1\" class=\"dataframe\">\n  <thead>\n    <tr style=\"text-align: right;\">\n      <th></th>\n      <th>date</th>\n      <th>game_id</th>\n      <th>drive</th>\n      <th>qtr</th>\n      <th>down</th>\n      <th>time</th>\n      <th>time_under</th>\n      <th>time_secs</th>\n      <th>play_time_diff</th>\n      <th>sideof_field</th>\n      <th>...</th>\n      <th>timestamp</th>\n      <th>def_two_point_key</th>\n      <th>ex_point_result_key</th>\n      <th>return_key</th>\n      <th>tackle_key</th>\n      <th>two_point_conv_key</th>\n      <th>penalty_key</th>\n      <th>playattempted</th>\n      <th>play_attempted</th>\n      <th>play_recorded_key</th>\n    </tr>\n    <tr>\n      <th>index</th>\n      <th></th>\n      <th></th>\n      <th></th>\n      <th></th>\n      <th></th>\n      <th></th>\n      <th></th>\n      <th></th>\n      <th></th>\n      <th></th>\n      <th></th>\n      <th></th>\n      <th></th>\n      <th></th>\n      <th></th>\n      <th></th>\n      <th></th>\n      <th></th>\n      <th></th>\n      <th></th>\n      <th></th>\n    </tr>\n  </thead>\n  <tbody>\n    <tr>\n      <th>0</th>\n      <td>2009-09-10</td>\n      <td>2009091000</td>\n      <td>1</td>\n      <td>1</td>\n      <td>0.00000</td>\n      <td>15:00</td>\n      <td>15</td>\n      <td>3600.00000</td>\n      <td>0.00000</td>\n      <td>TEN</td>\n      <td>...</td>\n      <td>2009-09-10 15:00:00</td>\n      <td>0</td>\n      <td>0</td>\n      <td>1</td>\n      <td>1</td>\n      <td>0</td>\n      <td>0</td>\n      <td>1</td>\n      <td>NaN</td>\n      <td>1</td>\n    </tr>\n    <tr>\n      <th>1</th>\n      <td>2009-09-10</td>\n      <td>2009091000</td>\n      <td>1</td>\n      <td>1</td>\n      <td>1.00000</td>\n      <td>14:53</td>\n      <td>15</td>\n      <td>3593.00000</td>\n      <td>7.00000</td>\n      <td>PIT</td>\n      <td>...</td>\n      <td>2009-09-10 14:53:00</td>\n      <td>0</td>\n      <td>0</td>\n      <td>0</td>\n      <td>1</td>\n      <td>0</td>\n      <td>0</td>\n      <td>1</td>\n      <td>NaN</td>\n      <td>1</td>\n    </tr>\n    <tr>\n      <th>2</th>\n      <td>2009-09-10</td>\n      <td>2009091000</td>\n      <td>1</td>\n      <td>1</td>\n      <td>2.00000</td>\n      <td>14:16</td>\n      <td>15</td>\n      <td>3556.00000</td>\n      <td>37.00000</td>\n      <td>PIT</td>\n      <td>...</td>\n      <td>2009-09-10 14:16:00</td>\n      <td>0</td>\n      <td>0</td>\n      <td>0</td>\n      <td>1</td>\n      <td>0</td>\n      <td>0</td>\n      <td>1</td>\n      <td>NaN</td>\n      <td>1</td>\n    </tr>\n    <tr>\n      <th>3</th>\n      <td>2009-09-10</td>\n      <td>2009091000</td>\n      <td>1</td>\n      <td>1</td>\n      <td>3.00000</td>\n      <td>13:35</td>\n      <td>14</td>\n      <td>3515.00000</td>\n      <td>41.00000</td>\n      <td>PIT</td>\n      <td>...</td>\n      <td>2009-09-10 13:35:00</td>\n      <td>0</td>\n      <td>0</td>\n      <td>0</td>\n      <td>0</td>\n      <td>0</td>\n      <td>0</td>\n      <td>1</td>\n      <td>NaN</td>\n      <td>1</td>\n    </tr>\n    <tr>\n      <th>4</th>\n      <td>2009-09-10</td>\n      <td>2009091000</td>\n      <td>1</td>\n      <td>1</td>\n      <td>4.00000</td>\n      <td>13:27</td>\n      <td>14</td>\n      <td>3507.00000</td>\n      <td>8.00000</td>\n      <td>PIT</td>\n      <td>...</td>\n      <td>2009-09-10 13:27:00</td>\n      <td>0</td>\n      <td>0</td>\n      <td>0</td>\n      <td>0</td>\n      <td>0</td>\n      <td>0</td>\n      <td>1</td>\n      <td>NaN</td>\n      <td>1</td>\n    </tr>\n  </tbody>\n</table>\n<p>5 rows × 54 columns</p>\n</div>"
     },
     "execution_count": 673,
     "metadata": {},
     "output_type": "execute_result"
    }
   ],
   "source": [
    "\n",
    "RAW_DATA_PATH = '../data/raw'\n",
    "INTERIM_DATA_PATH='../data/interim'\n",
    "USE_CONNECTION=\"DB_FILENAME_URL\"   # DB_FILENAME_URL for csv or DB_CONNECTION_URL for postgres\n",
    "\n",
    "GAMEPLAY_FACTS_DF_NAME=os.path.join(INTERIM_DATA_PATH, \"gameplay_facts_cleaned_01.parquet\")\n",
    "\n",
    "data_df = pd.read_parquet(GAMEPLAY_FACTS_DF_NAME)\n",
    "data_df.head()"
   ],
   "metadata": {
    "collapsed": false
   }
  },
  {
   "cell_type": "code",
   "execution_count": 674,
   "outputs": [
    {
     "data": {
      "text/plain": "date                               object\ngame_id                             int64\ndrive                               int64\nqtr                                 int64\ndown                              float64\ntime                               object\ntime_under                          int64\ntime_secs                         float64\nplay_time_diff                    float64\nsideof_field                       object\nyrdln                             float64\nyrdline100                        float64\nydstogo                             int64\nydsnet                              int64\ngoal_to_go                        float64\nfirst_down                        float64\nposteam                            object\ndefensive_team                     object\ndesc                               object\nplay_attempted_key                  int64\nyards_gained                        int64\nsp_key                              int64\ntouchdown_key                       int64\nsafety_key                          int64\nonsidekick_key                      int64\nplay_type                          object\npass_attempt_key                    int64\nyards_after_catch                   int64\nqb_hit_key                          int64\ninterception_thrown_key             int64\nrush_attempt_key                    int64\nreception_key                       int64\nfumble_key                          int64\nsack_key                            int64\nchal_replay_result_key             object\npos_team_score                    float64\ndef_team_score                    float64\nscore_diff                        float64\nabs_score_diff                    float64\nhome_team                          object\naway_team                          object\ntimeout_indicator_key               int64\nposteam_timeouts_pre                int64\nseason                              int64\ntimestamp                  datetime64[ns]\ndef_two_point_key                   int64\nex_point_result_key                 int64\nreturn_key                          int64\ntackle_key                          int64\ntwo_point_conv_key                  int64\npenalty_key                         int64\nplayattempted                       int64\nplay_attempted                    float64\nplay_recorded_key                   int64\ndtype: object"
     },
     "execution_count": 674,
     "metadata": {},
     "output_type": "execute_result"
    }
   ],
   "source": [
    "data_df.dtypes"
   ],
   "metadata": {
    "collapsed": false
   }
  },
  {
   "cell_type": "markdown",
   "source": [
    "## check out whether scores and gameplay agree\n",
    "Look at the Detroit Lions 2017 season - both datasets should have 16 games"
   ],
   "metadata": {
    "collapsed": false
   }
  },
  {
   "cell_type": "markdown",
   "source": [
    "#### Gameplay dataset 2017 Detroit Lions season"
   ],
   "metadata": {
    "collapsed": false
   }
  },
  {
   "cell_type": "code",
   "execution_count": 675,
   "outputs": [
    {
     "data": {
      "text/plain": "Empty DataFrame\nColumns: []\nIndex: [(2017, 2017-09-10, 2017091004, DET, ARI), (2017, 2017-09-18, 2017091800, NYG, DET), (2017, 2017-09-24, 2017092404, DET, ATL), (2017, 2017-10-01, 2017100106, MIN, DET), (2017, 2017-10-08, 2017100802, DET, CAR), (2017, 2017-10-15, 2017101504, NO, DET), (2017, 2017-10-29, 2017102910, DET, PIT), (2017, 2017-11-06, 2017110600, GB, DET), (2017, 2017-11-12, 2017111202, DET, CLE), (2017, 2017-11-19, 2017111900, CHI, DET), (2017, 2017-11-23, 2017112300, DET, MIN), (2017, 2017-12-03, 2017120301, BAL, DET), (2017, 2017-12-10, 2017121007, TB, DET), (2017, 2017-12-16, 2017121600, DET, CHI), (2017, 2017-12-24, 2017122402, CIN, DET), (2017, 2017-12-31, 2017123102, DET, GB)]",
      "text/html": "<div>\n<style scoped>\n    .dataframe tbody tr th:only-of-type {\n        vertical-align: middle;\n    }\n\n    .dataframe tbody tr th {\n        vertical-align: top;\n    }\n\n    .dataframe thead th {\n        text-align: right;\n    }\n</style>\n<table border=\"1\" class=\"dataframe\">\n  <thead>\n    <tr style=\"text-align: right;\">\n      <th></th>\n      <th></th>\n      <th></th>\n      <th></th>\n      <th></th>\n    </tr>\n    <tr>\n      <th>season</th>\n      <th>date</th>\n      <th>game_id</th>\n      <th>home_team</th>\n      <th>away_team</th>\n    </tr>\n  </thead>\n  <tbody>\n    <tr>\n      <th rowspan=\"16\" valign=\"top\">2017</th>\n      <th>2017-09-10</th>\n      <th>2017091004</th>\n      <th>DET</th>\n      <th>ARI</th>\n    </tr>\n    <tr>\n      <th>2017-09-18</th>\n      <th>2017091800</th>\n      <th>NYG</th>\n      <th>DET</th>\n    </tr>\n    <tr>\n      <th>2017-09-24</th>\n      <th>2017092404</th>\n      <th>DET</th>\n      <th>ATL</th>\n    </tr>\n    <tr>\n      <th>2017-10-01</th>\n      <th>2017100106</th>\n      <th>MIN</th>\n      <th>DET</th>\n    </tr>\n    <tr>\n      <th>2017-10-08</th>\n      <th>2017100802</th>\n      <th>DET</th>\n      <th>CAR</th>\n    </tr>\n    <tr>\n      <th>2017-10-15</th>\n      <th>2017101504</th>\n      <th>NO</th>\n      <th>DET</th>\n    </tr>\n    <tr>\n      <th>2017-10-29</th>\n      <th>2017102910</th>\n      <th>DET</th>\n      <th>PIT</th>\n    </tr>\n    <tr>\n      <th>2017-11-06</th>\n      <th>2017110600</th>\n      <th>GB</th>\n      <th>DET</th>\n    </tr>\n    <tr>\n      <th>2017-11-12</th>\n      <th>2017111202</th>\n      <th>DET</th>\n      <th>CLE</th>\n    </tr>\n    <tr>\n      <th>2017-11-19</th>\n      <th>2017111900</th>\n      <th>CHI</th>\n      <th>DET</th>\n    </tr>\n    <tr>\n      <th>2017-11-23</th>\n      <th>2017112300</th>\n      <th>DET</th>\n      <th>MIN</th>\n    </tr>\n    <tr>\n      <th>2017-12-03</th>\n      <th>2017120301</th>\n      <th>BAL</th>\n      <th>DET</th>\n    </tr>\n    <tr>\n      <th>2017-12-10</th>\n      <th>2017121007</th>\n      <th>TB</th>\n      <th>DET</th>\n    </tr>\n    <tr>\n      <th>2017-12-16</th>\n      <th>2017121600</th>\n      <th>DET</th>\n      <th>CHI</th>\n    </tr>\n    <tr>\n      <th>2017-12-24</th>\n      <th>2017122402</th>\n      <th>CIN</th>\n      <th>DET</th>\n    </tr>\n    <tr>\n      <th>2017-12-31</th>\n      <th>2017123102</th>\n      <th>DET</th>\n      <th>GB</th>\n    </tr>\n  </tbody>\n</table>\n</div>"
     },
     "execution_count": 675,
     "metadata": {},
     "output_type": "execute_result"
    }
   ],
   "source": [
    "data_df.loc[(data_df.season == 2017) & ((data_df.home_team=='DET') | (data_df.away_team=='DET')) , ['season', 'date', 'game_id','home_team', 'away_team']].groupby(['season', 'date', 'game_id','home_team', 'away_team']).count().sort_values(by='date')"
   ],
   "metadata": {
    "collapsed": false
   }
  },
  {
   "cell_type": "markdown",
   "source": [
    "#### Scores dataset 2017 Detroit Lions season"
   ],
   "metadata": {
    "collapsed": false
   }
  },
  {
   "cell_type": "code",
   "execution_count": 676,
   "outputs": [
    {
     "data": {
      "text/plain": "       season       date home_team_id away_team_id\n11883    2017 2017-09-10          DET          ARI\n11907    2017 2017-09-18          NYG          DET\n11912    2017 2017-09-24          DET          ATL\n11934    2017 2017-10-01          MIN          DET\n11944    2017 2017-10-08          DET          CAR\n11963    2017 2017-10-15           NO          DET\n11987    2017 2017-10-29          DET          PIT\n12008    2017 2017-11-06           GB          DET\n12014    2017 2017-11-12          DET          CLE\n12024    2017 2017-11-19          CHI          DET\n12038    2017 2017-11-23          DET          MIN\n12056    2017 2017-12-03          BAL          DET\n12083    2017 2017-12-10           TB          DET\n12086    2017 2017-12-16          DET          CHI\n12106    2017 2017-12-24          CIN          DET\n12120    2017 2017-12-31          DET           GB",
      "text/html": "<div>\n<style scoped>\n    .dataframe tbody tr th:only-of-type {\n        vertical-align: middle;\n    }\n\n    .dataframe tbody tr th {\n        vertical-align: top;\n    }\n\n    .dataframe thead th {\n        text-align: right;\n    }\n</style>\n<table border=\"1\" class=\"dataframe\">\n  <thead>\n    <tr style=\"text-align: right;\">\n      <th></th>\n      <th>season</th>\n      <th>date</th>\n      <th>home_team_id</th>\n      <th>away_team_id</th>\n    </tr>\n  </thead>\n  <tbody>\n    <tr>\n      <th>11883</th>\n      <td>2017</td>\n      <td>2017-09-10</td>\n      <td>DET</td>\n      <td>ARI</td>\n    </tr>\n    <tr>\n      <th>11907</th>\n      <td>2017</td>\n      <td>2017-09-18</td>\n      <td>NYG</td>\n      <td>DET</td>\n    </tr>\n    <tr>\n      <th>11912</th>\n      <td>2017</td>\n      <td>2017-09-24</td>\n      <td>DET</td>\n      <td>ATL</td>\n    </tr>\n    <tr>\n      <th>11934</th>\n      <td>2017</td>\n      <td>2017-10-01</td>\n      <td>MIN</td>\n      <td>DET</td>\n    </tr>\n    <tr>\n      <th>11944</th>\n      <td>2017</td>\n      <td>2017-10-08</td>\n      <td>DET</td>\n      <td>CAR</td>\n    </tr>\n    <tr>\n      <th>11963</th>\n      <td>2017</td>\n      <td>2017-10-15</td>\n      <td>NO</td>\n      <td>DET</td>\n    </tr>\n    <tr>\n      <th>11987</th>\n      <td>2017</td>\n      <td>2017-10-29</td>\n      <td>DET</td>\n      <td>PIT</td>\n    </tr>\n    <tr>\n      <th>12008</th>\n      <td>2017</td>\n      <td>2017-11-06</td>\n      <td>GB</td>\n      <td>DET</td>\n    </tr>\n    <tr>\n      <th>12014</th>\n      <td>2017</td>\n      <td>2017-11-12</td>\n      <td>DET</td>\n      <td>CLE</td>\n    </tr>\n    <tr>\n      <th>12024</th>\n      <td>2017</td>\n      <td>2017-11-19</td>\n      <td>CHI</td>\n      <td>DET</td>\n    </tr>\n    <tr>\n      <th>12038</th>\n      <td>2017</td>\n      <td>2017-11-23</td>\n      <td>DET</td>\n      <td>MIN</td>\n    </tr>\n    <tr>\n      <th>12056</th>\n      <td>2017</td>\n      <td>2017-12-03</td>\n      <td>BAL</td>\n      <td>DET</td>\n    </tr>\n    <tr>\n      <th>12083</th>\n      <td>2017</td>\n      <td>2017-12-10</td>\n      <td>TB</td>\n      <td>DET</td>\n    </tr>\n    <tr>\n      <th>12086</th>\n      <td>2017</td>\n      <td>2017-12-16</td>\n      <td>DET</td>\n      <td>CHI</td>\n    </tr>\n    <tr>\n      <th>12106</th>\n      <td>2017</td>\n      <td>2017-12-24</td>\n      <td>CIN</td>\n      <td>DET</td>\n    </tr>\n    <tr>\n      <th>12120</th>\n      <td>2017</td>\n      <td>2017-12-31</td>\n      <td>DET</td>\n      <td>GB</td>\n    </tr>\n  </tbody>\n</table>\n</div>"
     },
     "execution_count": 676,
     "metadata": {},
     "output_type": "execute_result"
    }
   ],
   "source": [
    "scores_df.loc[(scores_df.season==2017) & ((scores_df.home_team=='Detroit Lions') | (scores_df.away_team=='Detroit Lions')), ['season', 'date', 'home_team_id', 'away_team_id']].sort_values(by='date')"
   ],
   "metadata": {
    "collapsed": false
   }
  },
  {
   "cell_type": "markdown",
   "source": [
    "## conform the game_ids in scores and gameplay datasets for joining on game_id"
   ],
   "metadata": {
    "collapsed": false
   }
  },
  {
   "cell_type": "markdown",
   "source": [
    "#### fix : the gameplay data has an incorrect date for the 2014 buffalo jets game"
   ],
   "metadata": {
    "collapsed": false
   }
  },
  {
   "cell_type": "code",
   "execution_count": 677,
   "outputs": [],
   "source": [
    "# gameplay has the wrong date for the 2014 buffalo jets game\n",
    "data_df.loc[(data_df['season'] == 2014) &(data_df['home_team'] == 'BUF') &(data_df['away_team'] == 'NYJ'), 'date' ] = '2014-11-24'"
   ],
   "metadata": {
    "collapsed": false
   }
  },
  {
   "cell_type": "code",
   "execution_count": 678,
   "outputs": [],
   "source": [
    "# the 2016 jacksonville jaguars game still has them as 'JAC' in the gameplay data\n",
    "scores_df.loc[(scores_df.date == '2016-09-11') & (scores_df.home_team == 'Jacksonville Jaguars'), 'home_team_id'] =  'JAC'"
   ],
   "metadata": {
    "collapsed": false
   }
  },
  {
   "cell_type": "code",
   "execution_count": 679,
   "outputs": [],
   "source": [
    "# todo - the gameplay data has Jacksonville as 'JAC' up to 2016 - but it was actually changed to JAX in 2013"
   ],
   "metadata": {
    "collapsed": false
   }
  },
  {
   "cell_type": "markdown",
   "source": [
    "### add a conformed game_id to each dataset"
   ],
   "metadata": {
    "collapsed": false
   }
  },
  {
   "cell_type": "code",
   "execution_count": 680,
   "outputs": [],
   "source": [
    "scores_df['game_id'] = scores_df['date'].astype('string').str.replace(\"-\",\"\")+scores_df.home_team_id.str.lower() + scores_df.away_team_id.str.lower()"
   ],
   "metadata": {
    "collapsed": false
   }
  },
  {
   "cell_type": "code",
   "execution_count": 681,
   "outputs": [],
   "source": [
    "data_df['game_id']  = data_df['date'].astype('string').str.replace(\"-\",\"\")+data_df.home_team.str.lower() + data_df.away_team.str.lower()"
   ],
   "metadata": {
    "collapsed": false
   }
  },
  {
   "cell_type": "code",
   "execution_count": 703,
   "outputs": [],
   "source": [
    "# try a test merge\n",
    "test_df = data_df.merge(scores_df, left_on='game_id', right_on='game_id', how='left', indicator=True)\n"
   ],
   "metadata": {
    "collapsed": false
   }
  },
  {
   "cell_type": "code",
   "execution_count": 704,
   "outputs": [
    {
     "data": {
      "text/plain": "array([], dtype=object)"
     },
     "execution_count": 704,
     "metadata": {},
     "output_type": "execute_result"
    }
   ],
   "source": [
    "# list any failures\n",
    "m = test_df.loc[(test_df._merge == 'left_only'), ['date_x', 'game_id','home_team_x', 'away_team_x']]\n",
    "np.unique(m['date_x'].astype('string')+m['home_team_x']+'-'+m['away_team_x'])"
   ],
   "metadata": {
    "collapsed": false
   }
  },
  {
   "cell_type": "code",
   "execution_count": 683,
   "outputs": [],
   "source": [
    "# validate the merge\n",
    "assert test_df.loc[test_df._merge == 'left_only'].size == 0\n",
    "assert test_df.loc[test_df._merge == 'right_only'].size == 0"
   ],
   "metadata": {
    "collapsed": false
   }
  }
 ],
 "metadata": {
  "kernelspec": {
   "display_name": "Python 3",
   "language": "python",
   "name": "python3"
  },
  "language_info": {
   "codemirror_mode": {
    "name": "ipython",
    "version": 2
   },
   "file_extension": ".py",
   "mimetype": "text/x-python",
   "name": "python",
   "nbconvert_exporter": "python",
   "pygments_lexer": "ipython2",
   "version": "2.7.6"
  }
 },
 "nbformat": 4,
 "nbformat_minor": 0
}
