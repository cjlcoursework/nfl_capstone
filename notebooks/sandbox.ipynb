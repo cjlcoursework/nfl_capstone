{
 "cells": [
  {
   "cell_type": "code",
   "execution_count": 2,
   "metadata": {},
   "outputs": [
    {
     "data": {
      "text/plain": "<IPython.core.display.HTML object>",
      "text/html": "\n<style>\nh1, .h1 {\n    font-size: 33px;\n    font-family: \"Trebuchet MS\";\n    font-size: 1.5em !important;\n    color: #2a7bbd;\n}}\n</style>\n"
     },
     "execution_count": 2,
     "metadata": {},
     "output_type": "execute_result"
    }
   ],
   "source": [
    "from IPython.core.display import HTML\n",
    "HTML(\"\"\"\n",
    "<style>\n",
    "h1, .h1 {\n",
    "    font-size: 33px;\n",
    "    font-family: \"Trebuchet MS\";\n",
    "    font-size: 1.5em !important;\n",
    "    color: #2a7bbd;\n",
    "}}\n",
    "</style>\n",
    "\"\"\")"
   ]
  },
  {
   "cell_type": "markdown",
   "metadata": {},
   "source": [
    "# Prepare"
   ]
  },
  {
   "cell_type": "markdown",
   "metadata": {},
   "source": [
    "## imports"
   ]
  },
  {
   "cell_type": "code",
   "execution_count": 30,
   "metadata": {},
   "outputs": [
    {
     "name": "stdout",
     "output_type": "stream",
     "text": [
      "The autoreload extension is already loaded. To reload it, use:\n",
      "  %reload_ext autoreload\n"
     ]
    }
   ],
   "source": [
    "%load_ext autoreload\n",
    "%autoreload 2\n",
    "\n",
    "import warnings\n",
    "\n",
    "import numpy as np\n",
    "import pandas as pd\n",
    "import os\n",
    "import sys\n",
    "\n",
    "warnings.filterwarnings(\"ignore\", category=DeprecationWarning)\n",
    "warnings.filterwarnings(\"ignore\", category=UserWarning)\n",
    "warnings.filterwarnings(\"ignore\", category=FutureWarning)\n",
    "\n",
    "pd.set_option('display.float_format', lambda x: '%.5f' % x)\n",
    "\n",
    "np.random.seed(0)"
   ]
  },
  {
   "cell_type": "code",
   "execution_count": 17,
   "metadata": {},
   "outputs": [
    {
     "name": "stdout",
     "output_type": "stream",
     "text": [
      "Adding modules /Users/christopherlomeli/Source/courses/datascience/nfl_capstone/src\n"
     ]
    }
   ],
   "source": [
    "module_path = os.path.abspath(os.path.join('../src'))\n",
    "print(\"Adding modules\", module_path)\n",
    "if module_path not in sys.path:\n",
    "    sys.path.append(module_path)"
   ]
  },
  {
   "cell_type": "code",
   "execution_count": 18,
   "metadata": {},
   "outputs": [],
   "source": [
    "from src.features.wrangling.database_loader import DatabaseLoader\n",
    "from src.features.wrangling.get_metrics import GetMetrics, get_versioned_name, conform_column_names"
   ]
  },
  {
   "cell_type": "markdown",
   "metadata": {},
   "source": [
    "# setup"
   ]
  },
  {
   "cell_type": "markdown",
   "metadata": {},
   "source": []
  },
  {
   "cell_type": "code",
   "execution_count": 19,
   "metadata": {},
   "outputs": [
    {
     "name": "stdout",
     "output_type": "stream",
     "text": [
      "INPUT_DATA ../data/raw/nflplaybyplay2009to2016/NFL Play by Play 2009-2017 (v4).csv\n",
      "OUTPUT_DATA ../data/interim/nflplaybyplay2009to2016_reviewed_01.parquet\n",
      "BACKUP_METRICS_FILE ../data/interim/metrics_backup.parquet\n",
      " ../data/interim/dimensions.parquet\n",
      "DIMENSIONS_DATA nfl_metrics\n",
      "CATEGORIES_TABLE_NAME nfl_categories\n"
     ]
    }
   ],
   "source": [
    "RAW_DATA_PATH = '../data/raw'\n",
    "INTERIM_DATA_PATH='../data/interim'\n",
    "\n",
    "# inputs\n",
    "INPUT_DATA=os.path.join(RAW_DATA_PATH,\"nflplaybyplay2009to2016/NFL Play by Play 2009-2017 (v4).csv\")\n",
    "\n",
    "#outputs\n",
    "OUTPUT_DATA = os.path.join(INTERIM_DATA_PATH,\"nflplaybyplay2009to2016_reviewed_01.parquet\")\n",
    "BACKUP_METRICS_FILE = os.path.join(INTERIM_DATA_PATH,\"metrics_backup.parquet\")\n",
    "DIMENSIONS_DATA = os.path.join(INTERIM_DATA_PATH,\"dimensions.parquet\")\n",
    "\n",
    "# database\n",
    "METRICS_TABLE_NAME=\"nfl_metrics\"\n",
    "CATEGORIES_TABLE_NAME=\"nfl_categories\"\n",
    "\n",
    "# verify\n",
    "print(\"INPUT_DATA\", INPUT_DATA)\n",
    "print(\"OUTPUT_DATA\", OUTPUT_DATA )\n",
    "print(\"BACKUP_METRICS_FILE\", BACKUP_METRICS_FILE )\n",
    "print(\"\", DIMENSIONS_DATA)\n",
    "print(\"DIMENSIONS_DATA\", METRICS_TABLE_NAME)\n",
    "print(\"CATEGORIES_TABLE_NAME\", CATEGORIES_TABLE_NAME)\n"
   ]
  },
  {
   "cell_type": "code",
   "execution_count": 20,
   "metadata": {},
   "outputs": [],
   "source": [
    "db = DatabaseLoader(connection_string_env_url=\"DB_CONNECTION_URL\")"
   ]
  },
  {
   "cell_type": "code",
   "execution_count": 21,
   "metadata": {},
   "outputs": [],
   "source": [
    "# rdf = db.read_table(\"nfl_dim\")\n",
    "# rdf\n",
    "# rdf.to_parquet(DIMENSIONS_DATA, engine='fastparquet',  compression='snappy')"
   ]
  },
  {
   "cell_type": "code",
   "execution_count": 22,
   "metadata": {},
   "outputs": [
    {
     "data": {
      "text/plain": [
       "Name 1       Mike\n",
       "Name 2     Alessa\n",
       "Name 3       Nick\n",
       "Name 4        Kim\n",
       "Name 5    Britney\n",
       "dtype: object"
      ]
     },
     "execution_count": 22,
     "metadata": {},
     "output_type": "execute_result"
    }
   ],
   "source": [
    "# Creating the Series\n",
    "sr = pd.Series(['Mike', 'Alessa', 'Nick', 'Kim', 'Britney'])\n",
    "\n",
    "# Creating the index\n",
    "idx = ['Name 1', 'Name 2', 'Name 3', 'Name 4', 'Name 5']\n",
    "\n",
    "# set the index\n",
    "sr.index = idx\n",
    "\n",
    "# Print the series\n",
    "sr\n",
    "\n",
    "\n"
   ]
  },
  {
   "cell_type": "code",
   "execution_count": 23,
   "metadata": {},
   "outputs": [
    {
     "data": {
      "text/html": [
       "<div>\n",
       "<style scoped>\n",
       "    .dataframe tbody tr th:only-of-type {\n",
       "        vertical-align: middle;\n",
       "    }\n",
       "\n",
       "    .dataframe tbody tr th {\n",
       "        vertical-align: top;\n",
       "    }\n",
       "\n",
       "    .dataframe thead th {\n",
       "        text-align: right;\n",
       "    }\n",
       "</style>\n",
       "<table border=\"1\" class=\"dataframe\">\n",
       "  <thead>\n",
       "    <tr style=\"text-align: right;\">\n",
       "      <th></th>\n",
       "      <th>0</th>\n",
       "    </tr>\n",
       "  </thead>\n",
       "  <tbody>\n",
       "    <tr>\n",
       "      <th>Name 1</th>\n",
       "      <td>Mik</td>\n",
       "    </tr>\n",
       "    <tr>\n",
       "      <th>Name 2</th>\n",
       "      <td>NaN</td>\n",
       "    </tr>\n",
       "    <tr>\n",
       "      <th>Name 3</th>\n",
       "      <td>Nic</td>\n",
       "    </tr>\n",
       "    <tr>\n",
       "      <th>Name 4</th>\n",
       "      <td>Kim</td>\n",
       "    </tr>\n",
       "    <tr>\n",
       "      <th>Name 5</th>\n",
       "      <td>NaN</td>\n",
       "    </tr>\n",
       "  </tbody>\n",
       "</table>\n",
       "</div>"
      ],
      "text/plain": [
       "          0\n",
       "Name 1  Mik\n",
       "Name 2  NaN\n",
       "Name 3  Nic\n",
       "Name 4  Kim\n",
       "Name 5  NaN"
      ]
     },
     "execution_count": 23,
     "metadata": {},
     "output_type": "execute_result"
    }
   ],
   "source": [
    "# extract groups having any capital letter\n",
    "# followed by 'i' and any other character\n",
    "result = sr.str.extract(pat = '([A-Z]i.)')\n",
    "\n",
    "result"
   ]
  },
  {
   "cell_type": "code",
   "execution_count": 24,
   "metadata": {},
   "outputs": [],
   "source": [
    "# Import needed package\n",
    "import pycodestyle\n",
    "\n",
    "# Create a StyleGuide instance\n",
    "style_checker = pycodestyle.StyleGuide()"
   ]
  },
  {
   "cell_type": "code",
   "execution_count": 25,
   "metadata": {},
   "outputs": [
    {
     "name": "stdout",
     "output_type": "stream",
     "text": [
      "s3.ObjectSummary(bucket_name='cjl-project-data', key='nfl_capstone/')\n",
      "s3.ObjectSummary(bucket_name='cjl-project-data', key='nfl_capstone/data/external/.gitkeep')\n",
      "s3.ObjectSummary(bucket_name='cjl-project-data', key='nfl_capstone/data/processed/.gitkeep')\n",
      "s3.ObjectSummary(bucket_name='cjl-project-data', key='nfl_capstone/data/raw/dimensions.csv')\n",
      "s3.ObjectSummary(bucket_name='cjl-project-data', key='nfl_capstone/data/raw/games.csv')\n",
      "s3.ObjectSummary(bucket_name='cjl-project-data', key='nfl_capstone/data/raw/nfl_stadiums.csv')\n",
      "s3.ObjectSummary(bucket_name='cjl-project-data', key='nfl_capstone/data/raw/nfl_teams.csv')\n",
      "s3.ObjectSummary(bucket_name='cjl-project-data', key='nfl_capstone/data/raw/nfl_teams_scraped.csv')\n",
      "s3.ObjectSummary(bucket_name='cjl-project-data', key='nfl_capstone/data/raw/nflplaybyplay2009to2016/NFL Play by Play 2009-2016 (v3).csv')\n",
      "s3.ObjectSummary(bucket_name='cjl-project-data', key='nfl_capstone/data/raw/nflplaybyplay2009to2016/NFL Play by Play 2009-2017 (v4).csv')\n",
      "s3.ObjectSummary(bucket_name='cjl-project-data', key='nfl_capstone/data/raw/nflplaybyplay2009to2016/NFL Play by Play 2009-2018 (v5).csv')\n",
      "s3.ObjectSummary(bucket_name='cjl-project-data', key='nfl_capstone/data/raw/spreadspoke_scores.csv')\n"
     ]
    }
   ],
   "source": [
    "import boto3\n",
    "\n",
    "# key = \"nfl_capstone\"\n",
    "AWS_S3_BUCKET = \"cjl-project-data\"\n",
    "#\n",
    "# s3_client = boto3.client()\n",
    "\n",
    "import boto3\n",
    "s3 = boto3.resource('s3')\n",
    "my_bucket = s3.Bucket(AWS_S3_BUCKET)\n",
    "\n",
    "for my_bucket_object in my_bucket.objects.all():\n",
    "    print(my_bucket_object)"
   ]
  },
  {
   "cell_type": "code",
   "execution_count": 26,
   "metadata": {},
   "outputs": [
    {
     "name": "stdout",
     "output_type": "stream",
     "text": [
      "2009 done.\n",
      "Downcasting floats.\n"
     ]
    },
    {
     "data": {
      "text/plain": [
       "pandas.core.frame.DataFrame"
      ]
     },
     "execution_count": 26,
     "metadata": {},
     "output_type": "execute_result"
    }
   ],
   "source": [
    "import nfl_data_py as nfl\n",
    "pbp = nfl.import_pbp_data([2009],  downcast=True, cache=False, alt_path=None)\n",
    "type(pbp)"
   ]
  },
  {
   "cell_type": "code",
   "execution_count": 27,
   "metadata": {},
   "outputs": [
    {
     "data": {
      "text/html": [
       "<div>\n",
       "<style scoped>\n",
       "    .dataframe tbody tr th:only-of-type {\n",
       "        vertical-align: middle;\n",
       "    }\n",
       "\n",
       "    .dataframe tbody tr th {\n",
       "        vertical-align: top;\n",
       "    }\n",
       "\n",
       "    .dataframe thead th {\n",
       "        text-align: right;\n",
       "    }\n",
       "</style>\n",
       "<table border=\"1\" class=\"dataframe\">\n",
       "  <thead>\n",
       "    <tr style=\"text-align: right;\">\n",
       "      <th></th>\n",
       "      <th>play_id</th>\n",
       "      <th>game_id</th>\n",
       "      <th>old_game_id</th>\n",
       "      <th>home_team</th>\n",
       "      <th>away_team</th>\n",
       "      <th>season_type</th>\n",
       "      <th>week</th>\n",
       "      <th>posteam</th>\n",
       "      <th>posteam_type</th>\n",
       "      <th>defteam</th>\n",
       "      <th>...</th>\n",
       "      <th>out_of_bounds</th>\n",
       "      <th>home_opening_kickoff</th>\n",
       "      <th>qb_epa</th>\n",
       "      <th>xyac_epa</th>\n",
       "      <th>xyac_mean_yardage</th>\n",
       "      <th>xyac_median_yardage</th>\n",
       "      <th>xyac_success</th>\n",
       "      <th>xyac_fd</th>\n",
       "      <th>xpass</th>\n",
       "      <th>pass_oe</th>\n",
       "    </tr>\n",
       "  </thead>\n",
       "  <tbody>\n",
       "    <tr>\n",
       "      <th>0</th>\n",
       "      <td>1.00000</td>\n",
       "      <td>2009_01_BUF_NE</td>\n",
       "      <td>2009091400</td>\n",
       "      <td>NE</td>\n",
       "      <td>BUF</td>\n",
       "      <td>REG</td>\n",
       "      <td>1</td>\n",
       "      <td>None</td>\n",
       "      <td>None</td>\n",
       "      <td>None</td>\n",
       "      <td>...</td>\n",
       "      <td>0.00000</td>\n",
       "      <td>1.00000</td>\n",
       "      <td>0.00000</td>\n",
       "      <td>NaN</td>\n",
       "      <td>NaN</td>\n",
       "      <td>NaN</td>\n",
       "      <td>NaN</td>\n",
       "      <td>NaN</td>\n",
       "      <td>NaN</td>\n",
       "      <td>NaN</td>\n",
       "    </tr>\n",
       "    <tr>\n",
       "      <th>1</th>\n",
       "      <td>56.00000</td>\n",
       "      <td>2009_01_BUF_NE</td>\n",
       "      <td>2009091400</td>\n",
       "      <td>NE</td>\n",
       "      <td>BUF</td>\n",
       "      <td>REG</td>\n",
       "      <td>1</td>\n",
       "      <td>NE</td>\n",
       "      <td>home</td>\n",
       "      <td>BUF</td>\n",
       "      <td>...</td>\n",
       "      <td>1.00000</td>\n",
       "      <td>1.00000</td>\n",
       "      <td>2.04008</td>\n",
       "      <td>NaN</td>\n",
       "      <td>NaN</td>\n",
       "      <td>NaN</td>\n",
       "      <td>NaN</td>\n",
       "      <td>NaN</td>\n",
       "      <td>NaN</td>\n",
       "      <td>NaN</td>\n",
       "    </tr>\n",
       "    <tr>\n",
       "      <th>2</th>\n",
       "      <td>79.00000</td>\n",
       "      <td>2009_01_BUF_NE</td>\n",
       "      <td>2009091400</td>\n",
       "      <td>NE</td>\n",
       "      <td>BUF</td>\n",
       "      <td>REG</td>\n",
       "      <td>1</td>\n",
       "      <td>NE</td>\n",
       "      <td>home</td>\n",
       "      <td>BUF</td>\n",
       "      <td>...</td>\n",
       "      <td>0.00000</td>\n",
       "      <td>1.00000</td>\n",
       "      <td>-0.46375</td>\n",
       "      <td>0.68892</td>\n",
       "      <td>6.14310</td>\n",
       "      <td>5.00000</td>\n",
       "      <td>0.59941</td>\n",
       "      <td>0.23625</td>\n",
       "      <td>0.50746</td>\n",
       "      <td>49.25402</td>\n",
       "    </tr>\n",
       "    <tr>\n",
       "      <th>3</th>\n",
       "      <td>101.00000</td>\n",
       "      <td>2009_01_BUF_NE</td>\n",
       "      <td>2009091400</td>\n",
       "      <td>NE</td>\n",
       "      <td>BUF</td>\n",
       "      <td>REG</td>\n",
       "      <td>1</td>\n",
       "      <td>NE</td>\n",
       "      <td>home</td>\n",
       "      <td>BUF</td>\n",
       "      <td>...</td>\n",
       "      <td>0.00000</td>\n",
       "      <td>1.00000</td>\n",
       "      <td>-0.51894</td>\n",
       "      <td>NaN</td>\n",
       "      <td>NaN</td>\n",
       "      <td>NaN</td>\n",
       "      <td>NaN</td>\n",
       "      <td>NaN</td>\n",
       "      <td>0.40508</td>\n",
       "      <td>-40.50788</td>\n",
       "    </tr>\n",
       "    <tr>\n",
       "      <th>4</th>\n",
       "      <td>122.00000</td>\n",
       "      <td>2009_01_BUF_NE</td>\n",
       "      <td>2009091400</td>\n",
       "      <td>NE</td>\n",
       "      <td>BUF</td>\n",
       "      <td>REG</td>\n",
       "      <td>1</td>\n",
       "      <td>NE</td>\n",
       "      <td>home</td>\n",
       "      <td>BUF</td>\n",
       "      <td>...</td>\n",
       "      <td>0.00000</td>\n",
       "      <td>1.00000</td>\n",
       "      <td>-0.44904</td>\n",
       "      <td>1.84605</td>\n",
       "      <td>4.85422</td>\n",
       "      <td>3.00000</td>\n",
       "      <td>0.51567</td>\n",
       "      <td>0.51567</td>\n",
       "      <td>0.97361</td>\n",
       "      <td>2.63881</td>\n",
       "    </tr>\n",
       "  </tbody>\n",
       "</table>\n",
       "<p>5 rows × 372 columns</p>\n",
       "</div>"
      ],
      "text/plain": [
       "    play_id         game_id old_game_id home_team away_team season_type  week  \\\n",
       "0   1.00000  2009_01_BUF_NE  2009091400        NE       BUF         REG     1   \n",
       "1  56.00000  2009_01_BUF_NE  2009091400        NE       BUF         REG     1   \n",
       "2  79.00000  2009_01_BUF_NE  2009091400        NE       BUF         REG     1   \n",
       "3 101.00000  2009_01_BUF_NE  2009091400        NE       BUF         REG     1   \n",
       "4 122.00000  2009_01_BUF_NE  2009091400        NE       BUF         REG     1   \n",
       "\n",
       "  posteam posteam_type defteam  ... out_of_bounds  home_opening_kickoff  \\\n",
       "0    None         None    None  ...       0.00000               1.00000   \n",
       "1      NE         home     BUF  ...       1.00000               1.00000   \n",
       "2      NE         home     BUF  ...       0.00000               1.00000   \n",
       "3      NE         home     BUF  ...       0.00000               1.00000   \n",
       "4      NE         home     BUF  ...       0.00000               1.00000   \n",
       "\n",
       "    qb_epa  xyac_epa  xyac_mean_yardage  xyac_median_yardage xyac_success  \\\n",
       "0  0.00000       NaN                NaN                  NaN          NaN   \n",
       "1  2.04008       NaN                NaN                  NaN          NaN   \n",
       "2 -0.46375   0.68892            6.14310              5.00000      0.59941   \n",
       "3 -0.51894       NaN                NaN                  NaN          NaN   \n",
       "4 -0.44904   1.84605            4.85422              3.00000      0.51567   \n",
       "\n",
       "   xyac_fd   xpass   pass_oe  \n",
       "0      NaN     NaN       NaN  \n",
       "1      NaN     NaN       NaN  \n",
       "2  0.23625 0.50746  49.25402  \n",
       "3      NaN 0.40508 -40.50788  \n",
       "4  0.51567 0.97361   2.63881  \n",
       "\n",
       "[5 rows x 372 columns]"
      ]
     },
     "execution_count": 27,
     "metadata": {},
     "output_type": "execute_result"
    }
   ],
   "source": [
    "pbp.head()"
   ]
  },
  {
   "cell_type": "code",
   "execution_count": 28,
   "metadata": {},
   "outputs": [
    {
     "data": {
      "text/html": [
       "<div>\n",
       "<style scoped>\n",
       "    .dataframe tbody tr th:only-of-type {\n",
       "        vertical-align: middle;\n",
       "    }\n",
       "\n",
       "    .dataframe tbody tr th {\n",
       "        vertical-align: top;\n",
       "    }\n",
       "\n",
       "    .dataframe thead th {\n",
       "        text-align: right;\n",
       "    }\n",
       "</style>\n",
       "<table border=\"1\" class=\"dataframe\">\n",
       "  <thead>\n",
       "    <tr style=\"text-align: right;\">\n",
       "      <th></th>\n",
       "      <th>play_id</th>\n",
       "      <th>game_id</th>\n",
       "      <th>old_game_id</th>\n",
       "      <th>home_team</th>\n",
       "      <th>away_team</th>\n",
       "      <th>season_type</th>\n",
       "      <th>week</th>\n",
       "      <th>posteam</th>\n",
       "      <th>posteam_type</th>\n",
       "      <th>defteam</th>\n",
       "      <th>...</th>\n",
       "      <th>out_of_bounds</th>\n",
       "      <th>home_opening_kickoff</th>\n",
       "      <th>qb_epa</th>\n",
       "      <th>xyac_epa</th>\n",
       "      <th>xyac_mean_yardage</th>\n",
       "      <th>xyac_median_yardage</th>\n",
       "      <th>xyac_success</th>\n",
       "      <th>xyac_fd</th>\n",
       "      <th>xpass</th>\n",
       "      <th>pass_oe</th>\n",
       "    </tr>\n",
       "  </thead>\n",
       "  <tbody>\n",
       "    <tr>\n",
       "      <th>173</th>\n",
       "      <td>4111.00000</td>\n",
       "      <td>2009_01_BUF_NE</td>\n",
       "      <td>2009091400</td>\n",
       "      <td>NE</td>\n",
       "      <td>BUF</td>\n",
       "      <td>REG</td>\n",
       "      <td>1</td>\n",
       "      <td>BUF</td>\n",
       "      <td>away</td>\n",
       "      <td>NE</td>\n",
       "      <td>...</td>\n",
       "      <td>0.00000</td>\n",
       "      <td>1.00000</td>\n",
       "      <td>0.01469</td>\n",
       "      <td>0.08585</td>\n",
       "      <td>3.62677</td>\n",
       "      <td>1.00000</td>\n",
       "      <td>0.42149</td>\n",
       "      <td>0.42149</td>\n",
       "      <td>0.94678</td>\n",
       "      <td>5.32157</td>\n",
       "    </tr>\n",
       "    <tr>\n",
       "      <th>174</th>\n",
       "      <td>4162.00000</td>\n",
       "      <td>2009_01_BUF_NE</td>\n",
       "      <td>2009091400</td>\n",
       "      <td>NE</td>\n",
       "      <td>BUF</td>\n",
       "      <td>REG</td>\n",
       "      <td>1</td>\n",
       "      <td>None</td>\n",
       "      <td>None</td>\n",
       "      <td>None</td>\n",
       "      <td>...</td>\n",
       "      <td>0.00000</td>\n",
       "      <td>1.00000</td>\n",
       "      <td>NaN</td>\n",
       "      <td>NaN</td>\n",
       "      <td>NaN</td>\n",
       "      <td>NaN</td>\n",
       "      <td>NaN</td>\n",
       "      <td>NaN</td>\n",
       "      <td>NaN</td>\n",
       "      <td>NaN</td>\n",
       "    </tr>\n",
       "  </tbody>\n",
       "</table>\n",
       "<p>2 rows × 372 columns</p>\n",
       "</div>"
      ],
      "text/plain": [
       "       play_id         game_id old_game_id home_team away_team season_type  \\\n",
       "173 4111.00000  2009_01_BUF_NE  2009091400        NE       BUF         REG   \n",
       "174 4162.00000  2009_01_BUF_NE  2009091400        NE       BUF         REG   \n",
       "\n",
       "     week posteam posteam_type defteam  ... out_of_bounds  \\\n",
       "173     1     BUF         away      NE  ...       0.00000   \n",
       "174     1    None         None    None  ...       0.00000   \n",
       "\n",
       "     home_opening_kickoff  qb_epa  xyac_epa  xyac_mean_yardage  \\\n",
       "173               1.00000 0.01469   0.08585            3.62677   \n",
       "174               1.00000     NaN       NaN                NaN   \n",
       "\n",
       "     xyac_median_yardage xyac_success  xyac_fd   xpass  pass_oe  \n",
       "173              1.00000      0.42149  0.42149 0.94678  5.32157  \n",
       "174                  NaN          NaN      NaN     NaN      NaN  \n",
       "\n",
       "[2 rows x 372 columns]"
      ]
     },
     "execution_count": 28,
     "metadata": {},
     "output_type": "execute_result"
    }
   ],
   "source": [
    "pbp.loc[(pbp.game_id == '2009_01_BUF_NE')& (pbp.game_seconds_remaining < 2)].sort_values(by='play_id')"
   ]
  },
  {
   "cell_type": "code",
   "execution_count": 28,
   "metadata": {},
   "outputs": [],
   "source": []
  }
 ],
 "metadata": {
  "kernelspec": {
   "display_name": "Python 3 (ipykernel)",
   "language": "python",
   "name": "python3"
  },
  "language_info": {
   "codemirror_mode": {
    "name": "ipython",
    "version": 3
   },
   "file_extension": ".py",
   "mimetype": "text/x-python",
   "name": "python",
   "nbconvert_exporter": "python",
   "pygments_lexer": "ipython3",
   "version": "3.9.12"
  }
 },
 "nbformat": 4,
 "nbformat_minor": 1
}
