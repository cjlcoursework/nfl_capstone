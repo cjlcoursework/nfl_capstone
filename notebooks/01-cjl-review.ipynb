{
 "cells": [
  {
   "cell_type": "markdown",
   "metadata": {},
   "source": [
    "# Summary\n",
    "\n",
    "## inputs\n",
    "This notebook has three inputs:\n",
    "1. Raw data -  NFL **nflplaybyplay2009to2016** having many rows per game - each row is a 'play' in the games\n",
    "2. A **dimensions** dataset from my initial review of the data - this categorizes each column by how it should be treated\n",
    "\n",
    "## the data\n",
    "The gameplay data has many nulls(), but they make sense once we recognize that not every field is applicable for every type of play.\n",
    "for example,\n",
    "> If a row represents a passing play, then the rushing data does not make sense, so it's all null\n",
    "> The passing data is only relevant for passing plays, otherwise it's not applicable, so it's null in our data\n",
    ">\n",
    "> Analytics data is not null, but it's not something we'll always want, so it should also be considered a separate data set of data\n",
    "> Any data that we segment out, should be able to be joined back together.\n",
    "\n",
    "so this is a bit like a **fact** and **dimensions** model, where certain colums are core facts, and other are really dimensions that are only relevant under certain circumstatnces\n",
    "\n",
    "## goal\n",
    "To create datasets that might not yet be completely prepared for ML, but can be queried for many uses, including ML\n",
    "\n",
    "## cleanup\n",
    "1. Separate the data into core **facts** - these are columns that apply to every play, and should never be null\n",
    "2. Create a separate dataset for all the **dimensions** columns that are only good for specific kinds of plays\n",
    "3. Add in facts that are inferred by the sparse dimensions columns, but don't explicitly exist as facts:\n",
    "> for example:\n",
    ">     If there was a defensive two point conversion - the def_two_point will be non-null\n",
    ">           but it is null for every other case\n",
    ">           see we create a def_two_point_key that is always 1 or 0 in the fact table\n",
    ">           and we move def_two_point the dimensions\n",
    "> There are cases where we could just fill the def_two_point with 'Not Applicable' when it's null,\n",
    "> but that's not ging to solve every issue\n",
    ">\n",
    "4. Identify boolean keys that are important pivots in the facts table:\n",
    "    (a) whether a pass was attempted\n",
    "    (b) whether a RUSH was attempted\n",
    "    (c) whether there was a penalty on the play\n",
    "    (d) an offensive or defensive two point conversion\n",
    "    (e) whether there was a sack\n",
    "    (f) whether a pass was attempted\n",
    " ... and more...\n",
    "\n",
    "## outputs\n",
    "1. A cleaned NFL `gameplay` dataset - having many rows per game - each row is a 'play' in the games\n",
    "2. A column-level metrics dataset that holds some key metrics from describe(), dtypes, etc. and also some configurations\n"
   ]
  },
  {
   "cell_type": "markdown",
   "metadata": {},
   "source": [
    "## metrics\n",
    "We create a metrics dataset that's really nothing more than the results of pandas functions, such as describe()\n",
    "and some math and logic.\n",
    "\n",
    "I like to have it in a separate dataset that I can annotate, and extend with configurations for each column\n",
    "that can be used in further processing\n",
    "\n",
    "Initially there are a lot of columns with 'poor' completeness, but that's because many fields are dimensions (see above)."
   ]
  },
  {
   "cell_type": "markdown",
   "metadata": {},
   "source": [
    "<img align=\"left\" src=\"metrics_raw.png\" width=\"1000\">"
   ]
  },
  {
   "cell_type": "markdown",
   "metadata": {},
   "source": [
    "# 01 - Prepare"
   ]
  },
  {
   "cell_type": "markdown",
   "metadata": {},
   "source": [
    "## 01.1 - imports"
   ]
  },
  {
   "cell_type": "code",
   "execution_count": 1,
   "metadata": {
    "collapsed": true
   },
   "outputs": [],
   "source": [
    "%load_ext autoreload\n",
    "%load_ext dotenv\n",
    "%dotenv\n",
    "%autoreload 2\n",
    "\n",
    "import warnings\n",
    "\n",
    "import numpy as np\n",
    "import pandas as pd\n",
    "import os\n",
    "import sys\n",
    "from matplotlib import pyplot as plt\n",
    "\n",
    "warnings.filterwarnings(\"ignore\", category=DeprecationWarning)\n",
    "warnings.filterwarnings(\"ignore\", category=UserWarning)\n",
    "warnings.filterwarnings(\"ignore\", category=FutureWarning)\n",
    "\n",
    "pd.set_option('display.float_format', lambda x: '%.5f' % x)\n",
    "\n",
    "np.random.seed(0)"
   ]
  },
  {
   "cell_type": "code",
   "execution_count": 2,
   "metadata": {},
   "outputs": [
    {
     "name": "stdout",
     "output_type": "stream",
     "text": [
      "Adding modules /Users/christopherlomeli/Source/courses/datascience/nfl_capstone/src\n"
     ]
    }
   ],
   "source": [
    "module_path = os.path.abspath(os.path.join('../src'))\n",
    "print(\"Adding modules\", module_path)\n",
    "if module_path not in sys.path:\n",
    "    sys.path.append(module_path)"
   ]
  },
  {
   "cell_type": "code",
   "execution_count": 3,
   "metadata": {},
   "outputs": [],
   "source": [
    "from src.features.wrangling.database_loader import DatabaseLoader\n",
    "from src.features.wrangling.get_metrics import GetMetrics, get_versioned_name, conform_column_names, plot_missing\n",
    "from src.data.s3utils import download_from_s3\n",
    "from src.data.configuations import GAMEPLAY_SCHEMA"
   ]
  },
  {
   "cell_type": "markdown",
   "metadata": {},
   "source": [
    "## 01.2 - setup"
   ]
  },
  {
   "cell_type": "code",
   "execution_count": 4,
   "metadata": {},
   "outputs": [
    {
     "name": "stdout",
     "output_type": "stream",
     "text": [
      "INPUT_DATA ../data/raw/nflplaybyplay2009to2016/NFL Play by Play 2009-2017 (v4).csv\n",
      "OUTPUT_DATA ../data/interim/nflplaybyplay2009to2016_reviewed_01.parquet\n",
      " ../data/raw/dimensions.csv\n",
      "DIMENSIONS_DATA nfl_metrics\n",
      "CATEGORIES_TABLE_NAME nfl_categories\n"
     ]
    }
   ],
   "source": [
    "RAW_DATA_PATH = '../data/raw'\n",
    "INTERIM_DATA_PATH='../data/interim'\n",
    "USE_CONNECTION=\"DB_FILENAME_URL\"   # DB_FILENAME_URL for csv or DB_CONNECTION_URL for postgres\n",
    "\n",
    "# inputs\n",
    "INPUT_DATA=os.path.join(RAW_DATA_PATH,\"nflplaybyplay2009to2016/NFL Play by Play 2009-2017 (v4).csv\")\n",
    "DIMENSIONS_DATA = os.path.join(RAW_DATA_PATH,\"dimensions.csv\")\n",
    "\n",
    "#outputs\n",
    "OUTPUT_DATA = os.path.join(INTERIM_DATA_PATH,\"nflplaybyplay2009to2016_reviewed_01.parquet\")\n",
    "READ_ME = os.path.join(INTERIM_DATA_PATH,\"READ_ME.01-cjl-review.txt\")\n",
    "\n",
    "# database\n",
    "METRICS_TABLE_NAME=\"nfl_metrics\"\n",
    "CATEGORIES_TABLE_NAME=\"nfl_categories\"\n",
    "\n",
    "# verify\n",
    "print(\"INPUT_DATA\", INPUT_DATA)\n",
    "print(\"OUTPUT_DATA\", OUTPUT_DATA )\n",
    "print(\"\", DIMENSIONS_DATA)\n",
    "print(\"DIMENSIONS_DATA\", METRICS_TABLE_NAME)\n",
    "print(\"CATEGORIES_TABLE_NAME\", CATEGORIES_TABLE_NAME)\n"
   ]
  },
  {
   "cell_type": "code",
   "execution_count": 5,
   "metadata": {},
   "outputs": [],
   "source": [
    "db = DatabaseLoader(connection_string_env_url=USE_CONNECTION)"
   ]
  },
  {
   "cell_type": "markdown",
   "metadata": {},
   "source": [
    "## 01.3 - download raw data from s3"
   ]
  },
  {
   "cell_type": "code",
   "execution_count": 6,
   "metadata": {},
   "outputs": [
    {
     "name": "stdout",
     "output_type": "stream",
     "text": [
      "Already exists:  /Users/christopherlomeli/Source/courses/datascience/nfl_capstone/data/raw/dimensions.csv\n",
      "Skip games.csv: we don't need it right now.\n",
      "Skip nfl_stadiums.csv: we don't need it right now.\n",
      "Skip nfl_teams.csv: we don't need it right now.\n",
      "Skip nfl_teams_scraped.csv: we don't need it right now.\n",
      "Skip NFL Play by Play 2009-2016 (v3).csv: we don't need it right now.\n",
      "Already exists:  /Users/christopherlomeli/Source/courses/datascience/nfl_capstone/data/raw/nflplaybyplay2009to2016/NFL Play by Play 2009-2017 (v4).csv\n",
      "Skip NFL Play by Play 2009-2018 (v5).csv: we don't need it right now.\n",
      "Skip spreadspoke_scores.csv: we don't need it right now.\n"
     ]
    }
   ],
   "source": [
    "download_from_s3(prefix=\"nfl_capstone/data/raw\", local_dir=os.path.abspath(RAW_DATA_PATH), wishlist=['NFL Play by Play 2009-2017 (v4).csv', 'dimensions.csv'])"
   ]
  },
  {
   "cell_type": "markdown",
   "metadata": {},
   "source": [
    "## 01.4 - read raw data from local"
   ]
  },
  {
   "cell_type": "code",
   "execution_count": 7,
   "metadata": {},
   "outputs": [],
   "source": [
    "data_df = pd.read_csv(INPUT_DATA, dtype=GAMEPLAY_SCHEMA)"
   ]
  },
  {
   "cell_type": "code",
   "execution_count": 8,
   "metadata": {},
   "outputs": [
    {
     "data": {
      "text/plain": "         Date      GameID  Drive  qtr    down   time  TimeUnder   TimeSecs  \\\n0  2009-09-10  2009091000      1    1     NaN  15:00         15 3600.00000   \n1  2009-09-10  2009091000      1    1 1.00000  14:53         15 3593.00000   \n2  2009-09-10  2009091000      1    1 2.00000  14:16         15 3556.00000   \n3  2009-09-10  2009091000      1    1 3.00000  13:35         14 3515.00000   \n4  2009-09-10  2009091000      1    1 4.00000  13:27         14 3507.00000   \n\n   PlayTimeDiff SideofField  ...   yacEPA  Home_WP_pre  Away_WP_pre  \\\n0       0.00000         TEN  ...      NaN      0.48567      0.51433   \n1       7.00000         PIT  ...  1.14608      0.54643      0.45357   \n2      37.00000         PIT  ...      NaN      0.55109      0.44891   \n3      41.00000         PIT  ... -5.03142      0.51079      0.48921   \n4       8.00000         PIT  ...      NaN      0.46122      0.53878   \n\n   Home_WP_post  Away_WP_post  Win_Prob      WPA   airWPA   yacWPA  Season  \n0       0.54643       0.45357   0.48567  0.06076      NaN      NaN    2009  \n1       0.55109       0.44891   0.54643  0.00465 -0.03224  0.03690    2009  \n2       0.51079       0.48921   0.55109 -0.04029      NaN      NaN    2009  \n3       0.46122       0.53878   0.51079 -0.04958  0.10666 -0.15624    2009  \n4       0.55893       0.44107   0.46122  0.09771      NaN      NaN    2009  \n\n[5 rows x 102 columns]",
      "text/html": "<div>\n<style scoped>\n    .dataframe tbody tr th:only-of-type {\n        vertical-align: middle;\n    }\n\n    .dataframe tbody tr th {\n        vertical-align: top;\n    }\n\n    .dataframe thead th {\n        text-align: right;\n    }\n</style>\n<table border=\"1\" class=\"dataframe\">\n  <thead>\n    <tr style=\"text-align: right;\">\n      <th></th>\n      <th>Date</th>\n      <th>GameID</th>\n      <th>Drive</th>\n      <th>qtr</th>\n      <th>down</th>\n      <th>time</th>\n      <th>TimeUnder</th>\n      <th>TimeSecs</th>\n      <th>PlayTimeDiff</th>\n      <th>SideofField</th>\n      <th>...</th>\n      <th>yacEPA</th>\n      <th>Home_WP_pre</th>\n      <th>Away_WP_pre</th>\n      <th>Home_WP_post</th>\n      <th>Away_WP_post</th>\n      <th>Win_Prob</th>\n      <th>WPA</th>\n      <th>airWPA</th>\n      <th>yacWPA</th>\n      <th>Season</th>\n    </tr>\n  </thead>\n  <tbody>\n    <tr>\n      <th>0</th>\n      <td>2009-09-10</td>\n      <td>2009091000</td>\n      <td>1</td>\n      <td>1</td>\n      <td>NaN</td>\n      <td>15:00</td>\n      <td>15</td>\n      <td>3600.00000</td>\n      <td>0.00000</td>\n      <td>TEN</td>\n      <td>...</td>\n      <td>NaN</td>\n      <td>0.48567</td>\n      <td>0.51433</td>\n      <td>0.54643</td>\n      <td>0.45357</td>\n      <td>0.48567</td>\n      <td>0.06076</td>\n      <td>NaN</td>\n      <td>NaN</td>\n      <td>2009</td>\n    </tr>\n    <tr>\n      <th>1</th>\n      <td>2009-09-10</td>\n      <td>2009091000</td>\n      <td>1</td>\n      <td>1</td>\n      <td>1.00000</td>\n      <td>14:53</td>\n      <td>15</td>\n      <td>3593.00000</td>\n      <td>7.00000</td>\n      <td>PIT</td>\n      <td>...</td>\n      <td>1.14608</td>\n      <td>0.54643</td>\n      <td>0.45357</td>\n      <td>0.55109</td>\n      <td>0.44891</td>\n      <td>0.54643</td>\n      <td>0.00465</td>\n      <td>-0.03224</td>\n      <td>0.03690</td>\n      <td>2009</td>\n    </tr>\n    <tr>\n      <th>2</th>\n      <td>2009-09-10</td>\n      <td>2009091000</td>\n      <td>1</td>\n      <td>1</td>\n      <td>2.00000</td>\n      <td>14:16</td>\n      <td>15</td>\n      <td>3556.00000</td>\n      <td>37.00000</td>\n      <td>PIT</td>\n      <td>...</td>\n      <td>NaN</td>\n      <td>0.55109</td>\n      <td>0.44891</td>\n      <td>0.51079</td>\n      <td>0.48921</td>\n      <td>0.55109</td>\n      <td>-0.04029</td>\n      <td>NaN</td>\n      <td>NaN</td>\n      <td>2009</td>\n    </tr>\n    <tr>\n      <th>3</th>\n      <td>2009-09-10</td>\n      <td>2009091000</td>\n      <td>1</td>\n      <td>1</td>\n      <td>3.00000</td>\n      <td>13:35</td>\n      <td>14</td>\n      <td>3515.00000</td>\n      <td>41.00000</td>\n      <td>PIT</td>\n      <td>...</td>\n      <td>-5.03142</td>\n      <td>0.51079</td>\n      <td>0.48921</td>\n      <td>0.46122</td>\n      <td>0.53878</td>\n      <td>0.51079</td>\n      <td>-0.04958</td>\n      <td>0.10666</td>\n      <td>-0.15624</td>\n      <td>2009</td>\n    </tr>\n    <tr>\n      <th>4</th>\n      <td>2009-09-10</td>\n      <td>2009091000</td>\n      <td>1</td>\n      <td>1</td>\n      <td>4.00000</td>\n      <td>13:27</td>\n      <td>14</td>\n      <td>3507.00000</td>\n      <td>8.00000</td>\n      <td>PIT</td>\n      <td>...</td>\n      <td>NaN</td>\n      <td>0.46122</td>\n      <td>0.53878</td>\n      <td>0.55893</td>\n      <td>0.44107</td>\n      <td>0.46122</td>\n      <td>0.09771</td>\n      <td>NaN</td>\n      <td>NaN</td>\n      <td>2009</td>\n    </tr>\n  </tbody>\n</table>\n<p>5 rows × 102 columns</p>\n</div>"
     },
     "execution_count": 8,
     "metadata": {},
     "output_type": "execute_result"
    }
   ],
   "source": [
    "data_df.head()"
   ]
  },
  {
   "cell_type": "markdown",
   "metadata": {},
   "source": [
    "# 02 - Clean"
   ]
  },
  {
   "cell_type": "markdown",
   "metadata": {},
   "source": [
    "select gameid, season, hometeam, awayteam, count(*) from nfl_game N\n",
    "group by N.gameid, hometeam, awayteam, season;"
   ]
  },
  {
   "cell_type": "markdown",
   "metadata": {},
   "source": [
    "## 02.2 - conform column names"
   ]
  },
  {
   "cell_type": "code",
   "execution_count": 9,
   "metadata": {},
   "outputs": [
    {
     "name": "stdout",
     "output_type": "stream",
     "text": [
      "Original columns Index(['Date', 'GameID', 'Drive', 'qtr', 'down', 'time', 'TimeUnder',\n",
      "       'TimeSecs', 'PlayTimeDiff', 'SideofField',\n",
      "       ...\n",
      "       'yacEPA', 'Home_WP_pre', 'Away_WP_pre', 'Home_WP_post', 'Away_WP_post',\n",
      "       'Win_Prob', 'WPA', 'airWPA', 'yacWPA', 'Season'],\n",
      "      dtype='object', length=102)\n",
      "Conformed columns Index(['date', 'game_id', 'drive', 'qtr', 'down', 'time', 'time_under',\n",
      "       'time_secs', 'play_time_diff', 'sideof_field',\n",
      "       ...\n",
      "       'yac_epa', 'home_wp_pre', 'away_wp_pre', 'home_wp_post', 'away_wp_post',\n",
      "       'win_prob', 'wpa', 'air_wpa', 'yac_wpa', 'season'],\n",
      "      dtype='object', length=102)\n"
     ]
    }
   ],
   "source": [
    "orignal_cols, new_cols = conform_column_names(data_df=data_df)\n",
    "print(\"Original columns\", orignal_cols)\n",
    "print(\"Conformed columns\", data_df.columns)"
   ]
  },
  {
   "cell_type": "markdown",
   "metadata": {},
   "source": [
    "# 03 - Metrics"
   ]
  },
  {
   "cell_type": "markdown",
   "metadata": {},
   "source": [
    "## 03.1 - get metrics"
   ]
  },
  {
   "cell_type": "code",
   "execution_count": 10,
   "metadata": {},
   "outputs": [],
   "source": [
    "metrics = GetMetrics()"
   ]
  },
  {
   "cell_type": "code",
   "execution_count": 11,
   "metadata": {},
   "outputs": [
    {
     "data": {
      "text/plain": "         column_name feature_type     c_dimension\n0     abs_score_diff   continuous            fact\n1  accepted._penalty     category   dim (penalty)\n2            air_epa    analytics       analytics\n3            air_wpa    analytics       analytics\n4          air_yards   continuous  dim(pass, run)",
      "text/html": "<div>\n<style scoped>\n    .dataframe tbody tr th:only-of-type {\n        vertical-align: middle;\n    }\n\n    .dataframe tbody tr th {\n        vertical-align: top;\n    }\n\n    .dataframe thead th {\n        text-align: right;\n    }\n</style>\n<table border=\"1\" class=\"dataframe\">\n  <thead>\n    <tr style=\"text-align: right;\">\n      <th></th>\n      <th>column_name</th>\n      <th>feature_type</th>\n      <th>c_dimension</th>\n    </tr>\n  </thead>\n  <tbody>\n    <tr>\n      <th>0</th>\n      <td>abs_score_diff</td>\n      <td>continuous</td>\n      <td>fact</td>\n    </tr>\n    <tr>\n      <th>1</th>\n      <td>accepted._penalty</td>\n      <td>category</td>\n      <td>dim (penalty)</td>\n    </tr>\n    <tr>\n      <th>2</th>\n      <td>air_epa</td>\n      <td>analytics</td>\n      <td>analytics</td>\n    </tr>\n    <tr>\n      <th>3</th>\n      <td>air_wpa</td>\n      <td>analytics</td>\n      <td>analytics</td>\n    </tr>\n    <tr>\n      <th>4</th>\n      <td>air_yards</td>\n      <td>continuous</td>\n      <td>dim(pass, run)</td>\n    </tr>\n  </tbody>\n</table>\n</div>"
     },
     "execution_count": 11,
     "metadata": {},
     "output_type": "execute_result"
    }
   ],
   "source": [
    "dimensions_df = pd.DataFrame()\n",
    "\n",
    "try:\n",
    "    dimensions_df = pd.read_csv(DIMENSIONS_DATA)\n",
    "except Exception:\n",
    "    pass\n",
    "\n",
    "dimensions_df.head()"
   ]
  },
  {
   "cell_type": "code",
   "execution_count": 12,
   "metadata": {},
   "outputs": [],
   "source": [
    "metrics_df = metrics.get_metrics(data_df, dimensions_df)"
   ]
  },
  {
   "cell_type": "code",
   "execution_count": 13,
   "metadata": {},
   "outputs": [
    {
     "data": {
      "text/plain": "perfect    41\npoor       31\ngood       30\nName: quality, dtype: int64"
     },
     "execution_count": 13,
     "metadata": {},
     "output_type": "execute_result"
    }
   ],
   "source": [
    "metrics_df.quality.value_counts()"
   ]
  },
  {
   "cell_type": "code",
   "execution_count": 14,
   "metadata": {},
   "outputs": [
    {
     "data": {
      "text/plain": "                    data_type  unique_counts feature_type      c_dimension  \\\ncolumn_name                                                                  \nfield_goal_distance   float64             52   continuous   dim(fieldgoal)   \nyac_wpa               float64         135470    analytics        analytics   \nair_wpa               float64         158705    analytics        analytics   \nyac_epa               float64         135186    analytics        analytics   \nair_epa               float64         156924    analytics        analytics   \ndown                  float64              4     category             fact   \nfirst_down            float64              2     category             fact   \npos_team_score        float64             61     category             fact   \ndef_team_score        float64             60   continuous             fact   \nabs_score_diff        float64             57   continuous             fact   \naway_wp_post          float64         363360    analytics        analytics   \nhome_wp_post          float64         363190    analytics        analytics   \nwin_prob              float64         360389    analytics        analytics   \nscore_diff            float64            108   continuous             fact   \naway_wp_pre           float64         362562    analytics        analytics   \nhome_wp_pre           float64         362561    analytics        analytics   \nwpa                   float64         366549    analytics        analytics   \nyrdln                 float64             50   continuous             fact   \nyrdline100            float64             99   continuous             fact   \ngoal_to_go            float64              2     category             fact   \nplay_time_diff        float64            157   continuous             fact   \nepa                   float64         351090    analytics        analytics   \ntime_secs             float64           4369   continuous             fact   \nopp_touchdown_prob    float64         281306    analytics        analytics   \nopp_safety_prob       float64         281306    analytics        analytics   \ntouchdown_prob        float64         281306    analytics        analytics   \nopp_field_goal_prob   float64         281306    analytics        analytics   \nfield_goal_prob       float64         281357   continuous             None   \nno_score_prob         float64         281307    analytics        analytics   \nsafety_prob           float64         281306   continuous             None   \nexp_pts               float64         281368   continuous  dim(extrapoint)   \nex_point_prob         float64             11     category             None   \ntwo_point_prob        float64              2     category             None   \n\n                     row_count  good_count  missing_count  completeness  \\\ncolumn_name                                                               \nfield_goal_distance     407688        8948         398740       0.02195   \nyac_wpa                 407688      158926         248762       0.38982   \nair_wpa                 407688      159187         248501       0.39046   \nyac_epa                 407688      159190         248498       0.39047   \nair_epa                 407688      159294         248394       0.39073   \ndown                    407688      346534          61154       0.85000   \nfirst_down              407688      378877          28811       0.92933   \npos_team_score          407688      380784          26904       0.93401   \ndef_team_score          407688      380784          26904       0.93401   \nabs_score_diff          407688      380784          26904       0.93401   \naway_wp_post            407688      381101          26587       0.93479   \nhome_wp_post            407688      381101          26587       0.93479   \nwin_prob                407688      382679          25009       0.93866   \nscore_diff              407688      382700          24988       0.93871   \naway_wp_pre             407688      382734          24954       0.93879   \nhome_wp_pre             407688      382734          24954       0.93879   \nwpa                     407688      402147           5541       0.98641   \nyrdln                   407688      406848            840       0.99794   \nyrdline100              407688      406848            840       0.99794   \ngoal_to_go              407688      406848            840       0.99794   \nplay_time_diff          407688      407244            444       0.99891   \nepa                     407688      407319            369       0.99909   \ntime_secs               407688      407464            224       0.99945   \nopp_touchdown_prob      407688      407512            176       0.99957   \nopp_safety_prob         407688      407512            176       0.99957   \ntouchdown_prob          407688      407512            176       0.99957   \nopp_field_goal_prob     407688      407512            176       0.99957   \nfield_goal_prob         407688      407512            176       0.99957   \nno_score_prob           407688      407512            176       0.99957   \nsafety_prob             407688      407512            176       0.99957   \nexp_pts                 407688      407512            176       0.99957   \nex_point_prob           407688      407688              0       1.00000   \ntwo_point_prob          407688      407688              0       1.00000   \n\n                     quality       mean        std        min        max  \\\ncolumn_name                                                                \nfield_goal_distance     poor   37.46513   10.28268   18.00000   71.00000   \nyac_wpa                 poor   -0.01048    0.06814   -0.98667    1.00000   \nair_wpa                 poor    0.01513    0.05649   -0.99988    0.99485   \nyac_epa                 poor   -0.38609    1.97272  -14.00000    9.55983   \nair_epa                 poor    0.52482    1.39416  -12.84959    7.34697   \ndown                    poor    2.00248    1.00635    1.00000    4.00000   \nfirst_down              good    0.29051    0.45400    0.00000    1.00000   \npos_team_score          good   10.20142    9.43207    0.00000   61.00000   \ndef_team_score          good   11.41448    9.91075    0.00000   61.00000   \nabs_score_diff          good    7.78354    7.45360    0.00000   59.00000   \naway_wp_post            good    0.46561    0.28787    0.00000    1.00000   \nhome_wp_post            good    0.53479    0.28782    0.00000    1.00000   \nwin_prob                good    0.50132    0.28745    0.00000    1.00000   \nscore_diff              good   -1.18659   10.74176  -59.00000   59.00000   \naway_wp_pre             good    0.46596    0.28563    0.00000    1.00000   \nhome_wp_pre             good    0.53449    0.28557    0.00000    1.00000   \nwpa                     good    0.00210    0.04536   -0.99721    0.99485   \nyrdln                   good   28.48833   12.94647    1.00000   50.00000   \nyrdline100              good   48.64408   25.07042    1.00000   99.00000   \ngoal_to_go              good    0.04913    0.21615    0.00000    1.00000   \nplay_time_diff          good   20.57676   17.96933    0.00000  943.00000   \nepa                     good    0.01912    1.32898  -13.49414    9.50801   \ntime_secs               good 1695.26894 1062.80101 -900.00000 3600.00000   \nopp_touchdown_prob      good    0.13997    0.11047    0.00000    0.49687   \nopp_safety_prob         good    0.00249    0.00344    0.00000    0.03146   \ntouchdown_prob          good    0.29594    0.16784    0.00000    0.91296   \nopp_field_goal_prob     good    0.09461    0.07199    0.00000    0.36018   \nfield_goal_prob         good    0.24391    0.15900    0.00000    0.99460   \nno_score_prob           good    0.12782    0.19968    0.00000    1.00000   \nsafety_prob             good    0.00263    0.00147    0.00000    0.01518   \nexp_pts                 good    1.56541    1.74844   -3.83649    6.50090   \nex_point_prob        perfect    0.02407    0.15102    0.00000    0.99313   \ntwo_point_prob       perfect    0.00070    0.01823    0.00000    0.47350   \n\n                        median  top  freq  \ncolumn_name                                \nfield_goal_distance   38.00000  NaN   NaN  \nyac_wpa                0.00000  NaN   NaN  \nair_wpa                0.00344  NaN   NaN  \nyac_epa                0.00000  NaN   NaN  \nair_epa                0.29598  NaN   NaN  \ndown                   2.00000  NaN   NaN  \nfirst_down             0.00000  NaN   NaN  \npos_team_score         7.00000  NaN   NaN  \ndef_team_score        10.00000  NaN   NaN  \nabs_score_diff         7.00000  NaN   NaN  \naway_wp_post           0.46667  NaN   NaN  \nhome_wp_post           0.53361  NaN   NaN  \nwin_prob               0.50447  NaN   NaN  \nscore_diff             0.00000  NaN   NaN  \naway_wp_pre            0.46905  NaN   NaN  \nhome_wp_pre            0.53127  NaN   NaN  \nwpa                    0.00000  NaN   NaN  \nyrdln                 30.00000  NaN   NaN  \nyrdline100            49.00000  NaN   NaN  \ngoal_to_go             0.00000  NaN   NaN  \nplay_time_diff        17.00000  NaN   NaN  \nepa                    0.00000  NaN   NaN  \ntime_secs           1800.00000  NaN   NaN  \nopp_touchdown_prob     0.12403  NaN   NaN  \nopp_safety_prob        0.00099  NaN   NaN  \ntouchdown_prob         0.31368  NaN   NaN  \nopp_field_goal_prob    0.08309  NaN   NaN  \nfield_goal_prob        0.23131  NaN   NaN  \nno_score_prob          0.02477  NaN   NaN  \nsafety_prob            0.00299  NaN   NaN  \nexp_pts                1.25797  NaN   NaN  \nex_point_prob          0.00000  NaN   NaN  \ntwo_point_prob         0.00000  NaN   NaN  ",
      "text/html": "<div>\n<style scoped>\n    .dataframe tbody tr th:only-of-type {\n        vertical-align: middle;\n    }\n\n    .dataframe tbody tr th {\n        vertical-align: top;\n    }\n\n    .dataframe thead th {\n        text-align: right;\n    }\n</style>\n<table border=\"1\" class=\"dataframe\">\n  <thead>\n    <tr style=\"text-align: right;\">\n      <th></th>\n      <th>data_type</th>\n      <th>unique_counts</th>\n      <th>feature_type</th>\n      <th>c_dimension</th>\n      <th>row_count</th>\n      <th>good_count</th>\n      <th>missing_count</th>\n      <th>completeness</th>\n      <th>quality</th>\n      <th>mean</th>\n      <th>std</th>\n      <th>min</th>\n      <th>max</th>\n      <th>median</th>\n      <th>top</th>\n      <th>freq</th>\n    </tr>\n    <tr>\n      <th>column_name</th>\n      <th></th>\n      <th></th>\n      <th></th>\n      <th></th>\n      <th></th>\n      <th></th>\n      <th></th>\n      <th></th>\n      <th></th>\n      <th></th>\n      <th></th>\n      <th></th>\n      <th></th>\n      <th></th>\n      <th></th>\n      <th></th>\n    </tr>\n  </thead>\n  <tbody>\n    <tr>\n      <th>field_goal_distance</th>\n      <td>float64</td>\n      <td>52</td>\n      <td>continuous</td>\n      <td>dim(fieldgoal)</td>\n      <td>407688</td>\n      <td>8948</td>\n      <td>398740</td>\n      <td>0.02195</td>\n      <td>poor</td>\n      <td>37.46513</td>\n      <td>10.28268</td>\n      <td>18.00000</td>\n      <td>71.00000</td>\n      <td>38.00000</td>\n      <td>NaN</td>\n      <td>NaN</td>\n    </tr>\n    <tr>\n      <th>yac_wpa</th>\n      <td>float64</td>\n      <td>135470</td>\n      <td>analytics</td>\n      <td>analytics</td>\n      <td>407688</td>\n      <td>158926</td>\n      <td>248762</td>\n      <td>0.38982</td>\n      <td>poor</td>\n      <td>-0.01048</td>\n      <td>0.06814</td>\n      <td>-0.98667</td>\n      <td>1.00000</td>\n      <td>0.00000</td>\n      <td>NaN</td>\n      <td>NaN</td>\n    </tr>\n    <tr>\n      <th>air_wpa</th>\n      <td>float64</td>\n      <td>158705</td>\n      <td>analytics</td>\n      <td>analytics</td>\n      <td>407688</td>\n      <td>159187</td>\n      <td>248501</td>\n      <td>0.39046</td>\n      <td>poor</td>\n      <td>0.01513</td>\n      <td>0.05649</td>\n      <td>-0.99988</td>\n      <td>0.99485</td>\n      <td>0.00344</td>\n      <td>NaN</td>\n      <td>NaN</td>\n    </tr>\n    <tr>\n      <th>yac_epa</th>\n      <td>float64</td>\n      <td>135186</td>\n      <td>analytics</td>\n      <td>analytics</td>\n      <td>407688</td>\n      <td>159190</td>\n      <td>248498</td>\n      <td>0.39047</td>\n      <td>poor</td>\n      <td>-0.38609</td>\n      <td>1.97272</td>\n      <td>-14.00000</td>\n      <td>9.55983</td>\n      <td>0.00000</td>\n      <td>NaN</td>\n      <td>NaN</td>\n    </tr>\n    <tr>\n      <th>air_epa</th>\n      <td>float64</td>\n      <td>156924</td>\n      <td>analytics</td>\n      <td>analytics</td>\n      <td>407688</td>\n      <td>159294</td>\n      <td>248394</td>\n      <td>0.39073</td>\n      <td>poor</td>\n      <td>0.52482</td>\n      <td>1.39416</td>\n      <td>-12.84959</td>\n      <td>7.34697</td>\n      <td>0.29598</td>\n      <td>NaN</td>\n      <td>NaN</td>\n    </tr>\n    <tr>\n      <th>down</th>\n      <td>float64</td>\n      <td>4</td>\n      <td>category</td>\n      <td>fact</td>\n      <td>407688</td>\n      <td>346534</td>\n      <td>61154</td>\n      <td>0.85000</td>\n      <td>poor</td>\n      <td>2.00248</td>\n      <td>1.00635</td>\n      <td>1.00000</td>\n      <td>4.00000</td>\n      <td>2.00000</td>\n      <td>NaN</td>\n      <td>NaN</td>\n    </tr>\n    <tr>\n      <th>first_down</th>\n      <td>float64</td>\n      <td>2</td>\n      <td>category</td>\n      <td>fact</td>\n      <td>407688</td>\n      <td>378877</td>\n      <td>28811</td>\n      <td>0.92933</td>\n      <td>good</td>\n      <td>0.29051</td>\n      <td>0.45400</td>\n      <td>0.00000</td>\n      <td>1.00000</td>\n      <td>0.00000</td>\n      <td>NaN</td>\n      <td>NaN</td>\n    </tr>\n    <tr>\n      <th>pos_team_score</th>\n      <td>float64</td>\n      <td>61</td>\n      <td>category</td>\n      <td>fact</td>\n      <td>407688</td>\n      <td>380784</td>\n      <td>26904</td>\n      <td>0.93401</td>\n      <td>good</td>\n      <td>10.20142</td>\n      <td>9.43207</td>\n      <td>0.00000</td>\n      <td>61.00000</td>\n      <td>7.00000</td>\n      <td>NaN</td>\n      <td>NaN</td>\n    </tr>\n    <tr>\n      <th>def_team_score</th>\n      <td>float64</td>\n      <td>60</td>\n      <td>continuous</td>\n      <td>fact</td>\n      <td>407688</td>\n      <td>380784</td>\n      <td>26904</td>\n      <td>0.93401</td>\n      <td>good</td>\n      <td>11.41448</td>\n      <td>9.91075</td>\n      <td>0.00000</td>\n      <td>61.00000</td>\n      <td>10.00000</td>\n      <td>NaN</td>\n      <td>NaN</td>\n    </tr>\n    <tr>\n      <th>abs_score_diff</th>\n      <td>float64</td>\n      <td>57</td>\n      <td>continuous</td>\n      <td>fact</td>\n      <td>407688</td>\n      <td>380784</td>\n      <td>26904</td>\n      <td>0.93401</td>\n      <td>good</td>\n      <td>7.78354</td>\n      <td>7.45360</td>\n      <td>0.00000</td>\n      <td>59.00000</td>\n      <td>7.00000</td>\n      <td>NaN</td>\n      <td>NaN</td>\n    </tr>\n    <tr>\n      <th>away_wp_post</th>\n      <td>float64</td>\n      <td>363360</td>\n      <td>analytics</td>\n      <td>analytics</td>\n      <td>407688</td>\n      <td>381101</td>\n      <td>26587</td>\n      <td>0.93479</td>\n      <td>good</td>\n      <td>0.46561</td>\n      <td>0.28787</td>\n      <td>0.00000</td>\n      <td>1.00000</td>\n      <td>0.46667</td>\n      <td>NaN</td>\n      <td>NaN</td>\n    </tr>\n    <tr>\n      <th>home_wp_post</th>\n      <td>float64</td>\n      <td>363190</td>\n      <td>analytics</td>\n      <td>analytics</td>\n      <td>407688</td>\n      <td>381101</td>\n      <td>26587</td>\n      <td>0.93479</td>\n      <td>good</td>\n      <td>0.53479</td>\n      <td>0.28782</td>\n      <td>0.00000</td>\n      <td>1.00000</td>\n      <td>0.53361</td>\n      <td>NaN</td>\n      <td>NaN</td>\n    </tr>\n    <tr>\n      <th>win_prob</th>\n      <td>float64</td>\n      <td>360389</td>\n      <td>analytics</td>\n      <td>analytics</td>\n      <td>407688</td>\n      <td>382679</td>\n      <td>25009</td>\n      <td>0.93866</td>\n      <td>good</td>\n      <td>0.50132</td>\n      <td>0.28745</td>\n      <td>0.00000</td>\n      <td>1.00000</td>\n      <td>0.50447</td>\n      <td>NaN</td>\n      <td>NaN</td>\n    </tr>\n    <tr>\n      <th>score_diff</th>\n      <td>float64</td>\n      <td>108</td>\n      <td>continuous</td>\n      <td>fact</td>\n      <td>407688</td>\n      <td>382700</td>\n      <td>24988</td>\n      <td>0.93871</td>\n      <td>good</td>\n      <td>-1.18659</td>\n      <td>10.74176</td>\n      <td>-59.00000</td>\n      <td>59.00000</td>\n      <td>0.00000</td>\n      <td>NaN</td>\n      <td>NaN</td>\n    </tr>\n    <tr>\n      <th>away_wp_pre</th>\n      <td>float64</td>\n      <td>362562</td>\n      <td>analytics</td>\n      <td>analytics</td>\n      <td>407688</td>\n      <td>382734</td>\n      <td>24954</td>\n      <td>0.93879</td>\n      <td>good</td>\n      <td>0.46596</td>\n      <td>0.28563</td>\n      <td>0.00000</td>\n      <td>1.00000</td>\n      <td>0.46905</td>\n      <td>NaN</td>\n      <td>NaN</td>\n    </tr>\n    <tr>\n      <th>home_wp_pre</th>\n      <td>float64</td>\n      <td>362561</td>\n      <td>analytics</td>\n      <td>analytics</td>\n      <td>407688</td>\n      <td>382734</td>\n      <td>24954</td>\n      <td>0.93879</td>\n      <td>good</td>\n      <td>0.53449</td>\n      <td>0.28557</td>\n      <td>0.00000</td>\n      <td>1.00000</td>\n      <td>0.53127</td>\n      <td>NaN</td>\n      <td>NaN</td>\n    </tr>\n    <tr>\n      <th>wpa</th>\n      <td>float64</td>\n      <td>366549</td>\n      <td>analytics</td>\n      <td>analytics</td>\n      <td>407688</td>\n      <td>402147</td>\n      <td>5541</td>\n      <td>0.98641</td>\n      <td>good</td>\n      <td>0.00210</td>\n      <td>0.04536</td>\n      <td>-0.99721</td>\n      <td>0.99485</td>\n      <td>0.00000</td>\n      <td>NaN</td>\n      <td>NaN</td>\n    </tr>\n    <tr>\n      <th>yrdln</th>\n      <td>float64</td>\n      <td>50</td>\n      <td>continuous</td>\n      <td>fact</td>\n      <td>407688</td>\n      <td>406848</td>\n      <td>840</td>\n      <td>0.99794</td>\n      <td>good</td>\n      <td>28.48833</td>\n      <td>12.94647</td>\n      <td>1.00000</td>\n      <td>50.00000</td>\n      <td>30.00000</td>\n      <td>NaN</td>\n      <td>NaN</td>\n    </tr>\n    <tr>\n      <th>yrdline100</th>\n      <td>float64</td>\n      <td>99</td>\n      <td>continuous</td>\n      <td>fact</td>\n      <td>407688</td>\n      <td>406848</td>\n      <td>840</td>\n      <td>0.99794</td>\n      <td>good</td>\n      <td>48.64408</td>\n      <td>25.07042</td>\n      <td>1.00000</td>\n      <td>99.00000</td>\n      <td>49.00000</td>\n      <td>NaN</td>\n      <td>NaN</td>\n    </tr>\n    <tr>\n      <th>goal_to_go</th>\n      <td>float64</td>\n      <td>2</td>\n      <td>category</td>\n      <td>fact</td>\n      <td>407688</td>\n      <td>406848</td>\n      <td>840</td>\n      <td>0.99794</td>\n      <td>good</td>\n      <td>0.04913</td>\n      <td>0.21615</td>\n      <td>0.00000</td>\n      <td>1.00000</td>\n      <td>0.00000</td>\n      <td>NaN</td>\n      <td>NaN</td>\n    </tr>\n    <tr>\n      <th>play_time_diff</th>\n      <td>float64</td>\n      <td>157</td>\n      <td>continuous</td>\n      <td>fact</td>\n      <td>407688</td>\n      <td>407244</td>\n      <td>444</td>\n      <td>0.99891</td>\n      <td>good</td>\n      <td>20.57676</td>\n      <td>17.96933</td>\n      <td>0.00000</td>\n      <td>943.00000</td>\n      <td>17.00000</td>\n      <td>NaN</td>\n      <td>NaN</td>\n    </tr>\n    <tr>\n      <th>epa</th>\n      <td>float64</td>\n      <td>351090</td>\n      <td>analytics</td>\n      <td>analytics</td>\n      <td>407688</td>\n      <td>407319</td>\n      <td>369</td>\n      <td>0.99909</td>\n      <td>good</td>\n      <td>0.01912</td>\n      <td>1.32898</td>\n      <td>-13.49414</td>\n      <td>9.50801</td>\n      <td>0.00000</td>\n      <td>NaN</td>\n      <td>NaN</td>\n    </tr>\n    <tr>\n      <th>time_secs</th>\n      <td>float64</td>\n      <td>4369</td>\n      <td>continuous</td>\n      <td>fact</td>\n      <td>407688</td>\n      <td>407464</td>\n      <td>224</td>\n      <td>0.99945</td>\n      <td>good</td>\n      <td>1695.26894</td>\n      <td>1062.80101</td>\n      <td>-900.00000</td>\n      <td>3600.00000</td>\n      <td>1800.00000</td>\n      <td>NaN</td>\n      <td>NaN</td>\n    </tr>\n    <tr>\n      <th>opp_touchdown_prob</th>\n      <td>float64</td>\n      <td>281306</td>\n      <td>analytics</td>\n      <td>analytics</td>\n      <td>407688</td>\n      <td>407512</td>\n      <td>176</td>\n      <td>0.99957</td>\n      <td>good</td>\n      <td>0.13997</td>\n      <td>0.11047</td>\n      <td>0.00000</td>\n      <td>0.49687</td>\n      <td>0.12403</td>\n      <td>NaN</td>\n      <td>NaN</td>\n    </tr>\n    <tr>\n      <th>opp_safety_prob</th>\n      <td>float64</td>\n      <td>281306</td>\n      <td>analytics</td>\n      <td>analytics</td>\n      <td>407688</td>\n      <td>407512</td>\n      <td>176</td>\n      <td>0.99957</td>\n      <td>good</td>\n      <td>0.00249</td>\n      <td>0.00344</td>\n      <td>0.00000</td>\n      <td>0.03146</td>\n      <td>0.00099</td>\n      <td>NaN</td>\n      <td>NaN</td>\n    </tr>\n    <tr>\n      <th>touchdown_prob</th>\n      <td>float64</td>\n      <td>281306</td>\n      <td>analytics</td>\n      <td>analytics</td>\n      <td>407688</td>\n      <td>407512</td>\n      <td>176</td>\n      <td>0.99957</td>\n      <td>good</td>\n      <td>0.29594</td>\n      <td>0.16784</td>\n      <td>0.00000</td>\n      <td>0.91296</td>\n      <td>0.31368</td>\n      <td>NaN</td>\n      <td>NaN</td>\n    </tr>\n    <tr>\n      <th>opp_field_goal_prob</th>\n      <td>float64</td>\n      <td>281306</td>\n      <td>analytics</td>\n      <td>analytics</td>\n      <td>407688</td>\n      <td>407512</td>\n      <td>176</td>\n      <td>0.99957</td>\n      <td>good</td>\n      <td>0.09461</td>\n      <td>0.07199</td>\n      <td>0.00000</td>\n      <td>0.36018</td>\n      <td>0.08309</td>\n      <td>NaN</td>\n      <td>NaN</td>\n    </tr>\n    <tr>\n      <th>field_goal_prob</th>\n      <td>float64</td>\n      <td>281357</td>\n      <td>continuous</td>\n      <td>None</td>\n      <td>407688</td>\n      <td>407512</td>\n      <td>176</td>\n      <td>0.99957</td>\n      <td>good</td>\n      <td>0.24391</td>\n      <td>0.15900</td>\n      <td>0.00000</td>\n      <td>0.99460</td>\n      <td>0.23131</td>\n      <td>NaN</td>\n      <td>NaN</td>\n    </tr>\n    <tr>\n      <th>no_score_prob</th>\n      <td>float64</td>\n      <td>281307</td>\n      <td>analytics</td>\n      <td>analytics</td>\n      <td>407688</td>\n      <td>407512</td>\n      <td>176</td>\n      <td>0.99957</td>\n      <td>good</td>\n      <td>0.12782</td>\n      <td>0.19968</td>\n      <td>0.00000</td>\n      <td>1.00000</td>\n      <td>0.02477</td>\n      <td>NaN</td>\n      <td>NaN</td>\n    </tr>\n    <tr>\n      <th>safety_prob</th>\n      <td>float64</td>\n      <td>281306</td>\n      <td>continuous</td>\n      <td>None</td>\n      <td>407688</td>\n      <td>407512</td>\n      <td>176</td>\n      <td>0.99957</td>\n      <td>good</td>\n      <td>0.00263</td>\n      <td>0.00147</td>\n      <td>0.00000</td>\n      <td>0.01518</td>\n      <td>0.00299</td>\n      <td>NaN</td>\n      <td>NaN</td>\n    </tr>\n    <tr>\n      <th>exp_pts</th>\n      <td>float64</td>\n      <td>281368</td>\n      <td>continuous</td>\n      <td>dim(extrapoint)</td>\n      <td>407688</td>\n      <td>407512</td>\n      <td>176</td>\n      <td>0.99957</td>\n      <td>good</td>\n      <td>1.56541</td>\n      <td>1.74844</td>\n      <td>-3.83649</td>\n      <td>6.50090</td>\n      <td>1.25797</td>\n      <td>NaN</td>\n      <td>NaN</td>\n    </tr>\n    <tr>\n      <th>ex_point_prob</th>\n      <td>float64</td>\n      <td>11</td>\n      <td>category</td>\n      <td>None</td>\n      <td>407688</td>\n      <td>407688</td>\n      <td>0</td>\n      <td>1.00000</td>\n      <td>perfect</td>\n      <td>0.02407</td>\n      <td>0.15102</td>\n      <td>0.00000</td>\n      <td>0.99313</td>\n      <td>0.00000</td>\n      <td>NaN</td>\n      <td>NaN</td>\n    </tr>\n    <tr>\n      <th>two_point_prob</th>\n      <td>float64</td>\n      <td>2</td>\n      <td>category</td>\n      <td>None</td>\n      <td>407688</td>\n      <td>407688</td>\n      <td>0</td>\n      <td>1.00000</td>\n      <td>perfect</td>\n      <td>0.00070</td>\n      <td>0.01823</td>\n      <td>0.00000</td>\n      <td>0.47350</td>\n      <td>0.00000</td>\n      <td>NaN</td>\n      <td>NaN</td>\n    </tr>\n  </tbody>\n</table>\n</div>"
     },
     "execution_count": 14,
     "metadata": {},
     "output_type": "execute_result"
    }
   ],
   "source": [
    "metrics_df[metrics_df.data_type == 'float64']"
   ]
  },
  {
   "cell_type": "markdown",
   "metadata": {},
   "source": [
    "## 03.2 - get categories"
   ]
  },
  {
   "cell_type": "code",
   "execution_count": 15,
   "metadata": {},
   "outputs": [],
   "source": [
    "categories = metrics.get_categories(data_df=data_df, unique_count_threshold=40)"
   ]
  },
  {
   "cell_type": "markdown",
   "metadata": {},
   "source": [
    "# 04 - Inspection\n",
    "## 04.1 - Histograms of all non-null, numeric elements"
   ]
  },
  {
   "cell_type": "code",
   "execution_count": null,
   "metadata": {
    "pycharm": {
     "is_executing": true
    }
   },
   "outputs": [],
   "source": [
    "print(\"Quick cursory look at distributions of all columns - we'll refine this later\")\n",
    "print(\"Some have good distribution, but there are many nulls - so some of these distributions only apply to a non-null subset of the data\")\n",
    "plt.style.use('ggplot')\n",
    "data_df.hist(figsize=(35,25), xrot=45, color='teal', alpha=.5)\n",
    "plt.subplots_adjust(hspace=.8, wspace=.5);"
   ]
  },
  {
   "cell_type": "markdown",
   "metadata": {},
   "source": [
    "## 04.2 - overview of completeness (non-null data per column)"
   ]
  },
  {
   "cell_type": "code",
   "execution_count": null,
   "metadata": {
    "pycharm": {
     "is_executing": true
    }
   },
   "outputs": [],
   "source": [
    "from src.features.wrangling.get_metrics import plot_missing\n",
    "\n",
    "print(\"Showing only the columns that have at least some missing data\")\n",
    "plot_missing(metrics_df, missing_only=True)"
   ]
  },
  {
   "cell_type": "markdown",
   "metadata": {},
   "source": [
    "# 05 - Save our results"
   ]
  },
  {
   "cell_type": "markdown",
   "metadata": {},
   "source": [
    "## 05.1 - save metric backup to disk"
   ]
  },
  {
   "cell_type": "code",
   "execution_count": null,
   "metadata": {
    "pycharm": {
     "is_executing": true
    }
   },
   "outputs": [],
   "source": [
    "data_df.to_parquet(OUTPUT_DATA, engine='fastparquet',  compression='snappy')\n",
    "print(\"Writing\",OUTPUT_DATA)"
   ]
  },
  {
   "cell_type": "code",
   "execution_count": null,
   "metadata": {
    "pycharm": {
     "is_executing": true
    }
   },
   "outputs": [],
   "source": [
    "with open(READ_ME, 'w') as f:\n",
    "    f.write(f\"\\n{os.path.basename(OUTPUT_DATA)}\\treviewed and slightly modified gameplay data - no longer raw\")\n",
    "    f.write(f\"\\n{os.path.basename(METRICS_TABLE_NAME)}.csv\\toptionally - we might save the metrics in a file instead of a database\")\n",
    "    f.write(f\"\\n{os.path.basename(CATEGORIES_TABLE_NAME)}.csv\\toptionally we might save the metrics categories in a file instead of a database\")\n"
   ]
  },
  {
   "cell_type": "markdown",
   "metadata": {},
   "source": [
    "## 05.2 - load metrics to db\n",
    "Why load to a database? because it's easier (for me) to explore and annotate the data from an IDE\n",
    "that is capable of datagrids and quick ad-hoc query"
   ]
  },
  {
   "cell_type": "code",
   "execution_count": null,
   "metadata": {
    "pycharm": {
     "is_executing": true
    }
   },
   "outputs": [],
   "source": [
    "\n",
    "db.load_table(metrics_df, METRICS_TABLE_NAME)\n",
    "print('Created',METRICS_TABLE_NAME)\n",
    "\n",
    "db.load_table(categories, CATEGORIES_TABLE_NAME)\n",
    "print('Created',CATEGORIES_TABLE_NAME)"
   ]
  }
 ],
 "metadata": {
  "kernelspec": {
   "display_name": "Python 3 (ipykernel)",
   "language": "python",
   "name": "python3"
  },
  "language_info": {
   "codemirror_mode": {
    "name": "ipython",
    "version": 3
   },
   "file_extension": ".py",
   "mimetype": "text/x-python",
   "name": "python",
   "nbconvert_exporter": "python",
   "pygments_lexer": "ipython3",
   "version": "3.9.12"
  }
 },
 "nbformat": 4,
 "nbformat_minor": 1
}
