{
 "cells": [
  {
   "cell_type": "markdown",
   "source": [
    "# Summary\n",
    "\n",
    "## inputs\n",
    "This notebook has three inputs:\n",
    "1. A NFL `scores` dataset having 1 row per game\n",
    "2. Our NFL `gameplay` dataset - having many rows per game - each row is a 'play' in the games\n",
    "3. An NFL `teams` dataset that matches team names to the abbreviation used in the gameplay data  (e.g. Green Bay Packers == GB)\n",
    "\n",
    "The gameplay data does not have a clear final score - it is primarily concerned with the plays themselves - to get the actual score is hit-and-miss.\n",
    "\n",
    "## goal\n",
    "* The goal is to clean and enrich the data so that we can join gameplay data to the actual scores for each game\n",
    "\n",
    "## cleanup\n",
    "* The gameplay data has one or two incorrect dates\n",
    "* The scores data has present-day abbreviations for historical games (e.g. Jacksonville was 'JAC' until 2013, then became 'JAX' - in the scores data it's always 'JAX')\n",
    "* The gameplay data has Jacksonville as 'JAC' all the way to 2016 (should be 2013) - but we are going to leave that for now and conform our scores to that\n",
    "\n",
    "## outputs\n",
    "Join-able versions of:\n",
    "1. A cleaned NFL `scores` dataset having 1 row per game\n",
    "2. A cleaned NFL `gameplay` dataset - having many rows per game - each row is a 'play' in the games\n",
    "\n",
    "\n"
   ],
   "metadata": {
    "collapsed": false
   }
  },
  {
   "cell_type": "markdown",
   "source": [
    "# 01 - Prepare"
   ],
   "metadata": {
    "collapsed": false
   }
  },
  {
   "cell_type": "markdown",
   "source": [
    "## 01.1 - imports"
   ],
   "metadata": {
    "collapsed": false
   }
  },
  {
   "cell_type": "code",
   "execution_count": 74,
   "metadata": {
    "collapsed": true
   },
   "outputs": [
    {
     "name": "stdout",
     "output_type": "stream",
     "text": [
      "The autoreload extension is already loaded. To reload it, use:\n",
      "  %reload_ext autoreload\n"
     ]
    }
   ],
   "source": [
    "%load_ext autoreload\n",
    "%autoreload 2\n",
    "\n",
    "import warnings\n",
    "\n",
    "import numpy as np\n",
    "import pandas as pd\n",
    "import os\n",
    "import sys\n",
    "\n",
    "warnings.filterwarnings(\"ignore\", category=DeprecationWarning)\n",
    "warnings.filterwarnings(\"ignore\", category=UserWarning)\n",
    "warnings.filterwarnings(\"ignore\", category=FutureWarning)\n",
    "\n",
    "pd.set_option('display.float_format', lambda x: '%.5f' % x)\n",
    "\n",
    "np.random.seed(0)"
   ]
  },
  {
   "cell_type": "code",
   "execution_count": 75,
   "outputs": [
    {
     "name": "stdout",
     "output_type": "stream",
     "text": [
      "Adding modules /Users/christopherlomeli/Source/courses/datascience/data_science_capstone02/nfl_capstone/src\n"
     ]
    }
   ],
   "source": [
    "module_path = os.path.abspath(os.path.join('../src'))\n",
    "print(\"Adding modules\", module_path)\n",
    "if module_path not in sys.path:\n",
    "    sys.path.append(module_path)"
   ],
   "metadata": {
    "collapsed": false
   }
  },
  {
   "cell_type": "markdown",
   "source": [
    "## 01.2 - setup"
   ],
   "metadata": {
    "collapsed": false
   }
  },
  {
   "cell_type": "markdown",
   "source": [],
   "metadata": {
    "collapsed": false
   }
  },
  {
   "cell_type": "code",
   "execution_count": 76,
   "outputs": [],
   "source": [
    "RAW_DATA_PATH = '../data/raw'\n",
    "INTERIM_DATA_PATH='../data/interim'\n",
    "\n",
    "# inputs\n",
    "TEAM_SCORES=os.path.join(RAW_DATA_PATH,\"spreadspoke_scores.csv\")\n",
    "TEAM_NAMES=os.path.join(RAW_DATA_PATH,\"nfl_teams.csv\")\n",
    "GAME_PLAYS=os.path.join(INTERIM_DATA_PATH,\"gameplay_facts_cleaned_01.parquet\")\n",
    "\n",
    "# output\n",
    "CLEAN_FACTS_DF_NAME=os.path.join(INTERIM_DATA_PATH, \"gameplay_facts_cleaned_02.parquet\")\n",
    "CLEAN_SCORES_DF_NAME=os.path.join(INTERIM_DATA_PATH, \"nfl_scores.parquet\")\n",
    "READ_ME = os.path.join(INTERIM_DATA_PATH,\"README.03-cjl-clean.txt\")\n",
    "\n"
   ],
   "metadata": {
    "collapsed": false
   }
  },
  {
   "cell_type": "markdown",
   "source": [
    "# 02 - Get scores data"
   ],
   "metadata": {
    "collapsed": false
   }
  },
  {
   "cell_type": "markdown",
   "source": [
    "## 02.1 - load spreadscores"
   ],
   "metadata": {
    "collapsed": false
   }
  },
  {
   "cell_type": "code",
   "execution_count": 77,
   "outputs": [
    {
     "data": {
      "text/plain": "date                   datetime64[ns]\nseason                          int64\nweek                           object\nschedule_playoff                 bool\nhome_team                      object\nscore_home                      int64\nscore_away                      int64\naway_team                      object\nstadium                        object\nstadium_neutral                  bool\nweather_temperature           float64\nweather_wind_mph              float64\nweather_humidity              float64\ndtype: object"
     },
     "execution_count": 77,
     "metadata": {},
     "output_type": "execute_result"
    }
   ],
   "source": [
    "# load\n",
    "scores_df = pd.read_csv(TEAM_SCORES, parse_dates=['schedule_date'])\n",
    "\n",
    "# clean up column names and data that we'll join on later\n",
    "scores_df.drop(columns=['team_favorite_id', 'spread_favorite', 'over_under_line', 'weather_detail'], inplace=True)\n",
    "scores_df['team_away'] = scores_df['team_away'].str.strip()\n",
    "scores_df['team_home'] = scores_df['team_home'].str.strip()\n",
    "scores_df.rename(columns={\n",
    "    'schedule_date': 'date',\n",
    "    'schedule_season': 'season',\n",
    "    'schedule_week': 'week',\n",
    "    'team_home': 'home_team',\n",
    "    'team_away': 'away_team'\n",
    "}, inplace=True)\n",
    "\n",
    "scores_df.dtypes"
   ],
   "metadata": {
    "collapsed": false
   }
  },
  {
   "cell_type": "markdown",
   "source": [
    "## 02.2 - load teams list"
   ],
   "metadata": {
    "collapsed": false
   }
  },
  {
   "cell_type": "code",
   "execution_count": 78,
   "outputs": [
    {
     "data": {
      "text/plain": "           team_name team_id\n0  Arizona Cardinals     ARI\n1    Atlanta Falcons     ATL\n2    Baltimore Colts     IND\n3   Baltimore Ravens     BAL\n4    Boston Patriots      NE",
      "text/html": "<div>\n<style scoped>\n    .dataframe tbody tr th:only-of-type {\n        vertical-align: middle;\n    }\n\n    .dataframe tbody tr th {\n        vertical-align: top;\n    }\n\n    .dataframe thead th {\n        text-align: right;\n    }\n</style>\n<table border=\"1\" class=\"dataframe\">\n  <thead>\n    <tr style=\"text-align: right;\">\n      <th></th>\n      <th>team_name</th>\n      <th>team_id</th>\n    </tr>\n  </thead>\n  <tbody>\n    <tr>\n      <th>0</th>\n      <td>Arizona Cardinals</td>\n      <td>ARI</td>\n    </tr>\n    <tr>\n      <th>1</th>\n      <td>Atlanta Falcons</td>\n      <td>ATL</td>\n    </tr>\n    <tr>\n      <th>2</th>\n      <td>Baltimore Colts</td>\n      <td>IND</td>\n    </tr>\n    <tr>\n      <th>3</th>\n      <td>Baltimore Ravens</td>\n      <td>BAL</td>\n    </tr>\n    <tr>\n      <th>4</th>\n      <td>Boston Patriots</td>\n      <td>NE</td>\n    </tr>\n  </tbody>\n</table>\n</div>"
     },
     "execution_count": 78,
     "metadata": {},
     "output_type": "execute_result"
    }
   ],
   "source": [
    "# load\n",
    "team_df = pd.read_csv(TEAM_NAMES)\n",
    "\n",
    "# clean up column names and data that we'll join on later\n",
    "team_df['team_name'] = team_df['team_name'].str.strip()\n",
    "team_df['team_id'] = team_df['team_id'].str.strip()\n",
    "team_df.drop(columns=['team_name_short', 'team_id_pfr','team_conference', 'team_conference_pre2002', 'team_division', 'team_division_pre2002'], inplace=True)\n",
    "\n",
    "team_df.head()"
   ],
   "metadata": {
    "collapsed": false
   }
  },
  {
   "cell_type": "markdown",
   "source": [
    "## 02.3 - merge team_ids into score_df"
   ],
   "metadata": {
    "collapsed": false
   }
  },
  {
   "cell_type": "code",
   "execution_count": 79,
   "outputs": [],
   "source": [
    "def merge_team_id(scores_df, home_or_away_team):\n",
    "    id_name = home_or_away_team.strip() + \"_id\"\n",
    "    df2 = scores_df.merge(team_df, left_on=home_or_away_team, right_on='team_name', how='left', indicator=True)\n",
    "    df2.loc[(df2.season < 2016) & (df2['team_id'] == 'JAX'), 'team_id'] = 'JAC'\n",
    "    df2.rename(columns={'team_id': id_name}, inplace=True)\n",
    "    cf = df2.loc[( df2[home_or_away_team] != df2.team_name), [home_or_away_team]].sum().item()\n",
    "    assert cf == 0\n",
    "    df2.drop(columns=['_merge', 'team_name'], inplace=True)\n",
    "    return df2"
   ],
   "metadata": {
    "collapsed": false
   }
  },
  {
   "cell_type": "code",
   "execution_count": 80,
   "outputs": [
    {
     "name": "stdout",
     "output_type": "stream",
     "text": [
      "scores now has a home_team_id (abbreviation)\n"
     ]
    },
    {
     "data": {
      "text/plain": "            home_team home_team_id\n0      Miami Dolphins          MIA\n1      Houston Oilers          TEN\n2  San Diego Chargers           SD\n3      Miami Dolphins          MIA\n4   Green Bay Packers           GB",
      "text/html": "<div>\n<style scoped>\n    .dataframe tbody tr th:only-of-type {\n        vertical-align: middle;\n    }\n\n    .dataframe tbody tr th {\n        vertical-align: top;\n    }\n\n    .dataframe thead th {\n        text-align: right;\n    }\n</style>\n<table border=\"1\" class=\"dataframe\">\n  <thead>\n    <tr style=\"text-align: right;\">\n      <th></th>\n      <th>home_team</th>\n      <th>home_team_id</th>\n    </tr>\n  </thead>\n  <tbody>\n    <tr>\n      <th>0</th>\n      <td>Miami Dolphins</td>\n      <td>MIA</td>\n    </tr>\n    <tr>\n      <th>1</th>\n      <td>Houston Oilers</td>\n      <td>TEN</td>\n    </tr>\n    <tr>\n      <th>2</th>\n      <td>San Diego Chargers</td>\n      <td>SD</td>\n    </tr>\n    <tr>\n      <th>3</th>\n      <td>Miami Dolphins</td>\n      <td>MIA</td>\n    </tr>\n    <tr>\n      <th>4</th>\n      <td>Green Bay Packers</td>\n      <td>GB</td>\n    </tr>\n  </tbody>\n</table>\n</div>"
     },
     "execution_count": 80,
     "metadata": {},
     "output_type": "execute_result"
    }
   ],
   "source": [
    "print(\"scores now has a home_team_id (abbreviation)\")\n",
    "scores_df = merge_team_id(scores_df=scores_df, home_or_away_team='home_team')\n",
    "scores_df[['home_team', 'home_team_id']].head()"
   ],
   "metadata": {
    "collapsed": false
   }
  },
  {
   "cell_type": "code",
   "execution_count": 81,
   "outputs": [
    {
     "name": "stdout",
     "output_type": "stream",
     "text": [
      "scores now has a away_team_id (abbreviation)\n"
     ]
    },
    {
     "data": {
      "text/plain": "         away_team away_team_id\n0  Oakland Raiders          OAK\n1   Denver Broncos          DEN\n2    Buffalo Bills          BUF\n3    New York Jets          NYJ\n4  Baltimore Colts          IND",
      "text/html": "<div>\n<style scoped>\n    .dataframe tbody tr th:only-of-type {\n        vertical-align: middle;\n    }\n\n    .dataframe tbody tr th {\n        vertical-align: top;\n    }\n\n    .dataframe thead th {\n        text-align: right;\n    }\n</style>\n<table border=\"1\" class=\"dataframe\">\n  <thead>\n    <tr style=\"text-align: right;\">\n      <th></th>\n      <th>away_team</th>\n      <th>away_team_id</th>\n    </tr>\n  </thead>\n  <tbody>\n    <tr>\n      <th>0</th>\n      <td>Oakland Raiders</td>\n      <td>OAK</td>\n    </tr>\n    <tr>\n      <th>1</th>\n      <td>Denver Broncos</td>\n      <td>DEN</td>\n    </tr>\n    <tr>\n      <th>2</th>\n      <td>Buffalo Bills</td>\n      <td>BUF</td>\n    </tr>\n    <tr>\n      <th>3</th>\n      <td>New York Jets</td>\n      <td>NYJ</td>\n    </tr>\n    <tr>\n      <th>4</th>\n      <td>Baltimore Colts</td>\n      <td>IND</td>\n    </tr>\n  </tbody>\n</table>\n</div>"
     },
     "execution_count": 81,
     "metadata": {},
     "output_type": "execute_result"
    }
   ],
   "source": [
    "print(\"scores now has a away_team_id (abbreviation)\")\n",
    "scores_df = merge_team_id(scores_df=scores_df, home_or_away_team='away_team')\n",
    "scores_df[['away_team', 'away_team_id']].head()"
   ],
   "metadata": {
    "collapsed": false
   }
  },
  {
   "cell_type": "markdown",
   "source": [
    "# 03 - get gameplay data"
   ],
   "metadata": {
    "collapsed": false
   }
  },
  {
   "cell_type": "code",
   "execution_count": 82,
   "outputs": [
    {
     "data": {
      "text/plain": "date                               object\ngame_id                             int64\ndrive                               int64\nqtr                                 int64\ndown                              float64\ntime                               object\ntime_under                          int64\ntime_secs                         float64\nplay_time_diff                    float64\nsideof_field                       object\nyrdln                             float64\nyrdline100                        float64\nydstogo                             int64\nydsnet                              int64\ngoal_to_go                        float64\nfirst_down                        float64\nposteam                            object\ndefensive_team                     object\ndesc                               object\nplay_attempted_key                  int64\nyards_gained                        int64\nsp_key                              int64\ntouchdown_key                       int64\nsafety_key                          int64\nonsidekick_key                      int64\nplay_type                          object\npass_attempt_key                    int64\nyards_after_catch                   int64\nqb_hit_key                          int64\ninterception_thrown_key             int64\nrush_attempt_key                    int64\nreception_key                       int64\nfumble_key                          int64\nsack_key                            int64\nchal_replay_result_key             object\npos_team_score                    float64\ndef_team_score                    float64\nscore_diff                        float64\nabs_score_diff                    float64\nhome_team                          object\naway_team                          object\ntimeout_indicator_key               int64\nposteam_timeouts_pre                int64\nseason                              int64\ntimestamp                  datetime64[ns]\ndef_two_point_key                   int64\nex_point_result_key                 int64\nreturn_key                          int64\ntackle_key                          int64\ntwo_point_conv_key                  int64\npenalty_key                         int64\nplayattempted                       int64\nplay_attempted                    float64\nplay_recorded_key                   int64\ndtype: object"
     },
     "execution_count": 82,
     "metadata": {},
     "output_type": "execute_result"
    }
   ],
   "source": [
    "# load\n",
    "gameplay_df = pd.read_parquet(GAME_PLAYS)\n",
    "\n",
    "gameplay_df.dtypes"
   ],
   "metadata": {
    "collapsed": false
   }
  },
  {
   "cell_type": "code",
   "execution_count": 83,
   "outputs": [
    {
     "data": {
      "text/plain": "date                               object\ngame_id                             int64\ndrive                               int64\nqtr                                 int64\ndown                              float64\ntime                               object\ntime_under                          int64\ntime_secs                         float64\nplay_time_diff                    float64\nsideof_field                       object\nyrdln                             float64\nyrdline100                        float64\nydstogo                             int64\nydsnet                              int64\ngoal_to_go                        float64\nfirst_down                        float64\nposteam                            object\ndefensive_team                     object\ndesc                               object\nplay_attempted_key                  int64\nyards_gained                        int64\nsp_key                              int64\ntouchdown_key                       int64\nsafety_key                          int64\nonsidekick_key                      int64\nplay_type                          object\npass_attempt_key                    int64\nyards_after_catch                   int64\nqb_hit_key                          int64\ninterception_thrown_key             int64\nrush_attempt_key                    int64\nreception_key                       int64\nfumble_key                          int64\nsack_key                            int64\nchal_replay_result_key             object\npos_team_score                    float64\ndef_team_score                    float64\nscore_diff                        float64\nabs_score_diff                    float64\nhome_team                          object\naway_team                          object\ntimeout_indicator_key               int64\nposteam_timeouts_pre                int64\nseason                              int64\ntimestamp                  datetime64[ns]\ndef_two_point_key                   int64\nex_point_result_key                 int64\nreturn_key                          int64\ntackle_key                          int64\ntwo_point_conv_key                  int64\npenalty_key                         int64\nplayattempted                       int64\nplay_attempted                    float64\nplay_recorded_key                   int64\ndtype: object"
     },
     "execution_count": 83,
     "metadata": {},
     "output_type": "execute_result"
    }
   ],
   "source": [
    "gameplay_df.dtypes"
   ],
   "metadata": {
    "collapsed": false
   }
  },
  {
   "cell_type": "markdown",
   "source": [
    "# 04 - conform score and gameplay data for joins\n",
    "Look at the Detroit Lions 2017 season - both datasets should have 16 games"
   ],
   "metadata": {
    "collapsed": false
   }
  },
  {
   "cell_type": "markdown",
   "source": [
    "#### 03.1 - check gameplay dataset 2017 Detroit Lions season"
   ],
   "metadata": {
    "collapsed": false
   }
  },
  {
   "cell_type": "code",
   "execution_count": 84,
   "outputs": [
    {
     "data": {
      "text/plain": "Empty DataFrame\nColumns: []\nIndex: [(2017, 2017-09-10, 2017091004, DET, ARI), (2017, 2017-09-18, 2017091800, NYG, DET), (2017, 2017-09-24, 2017092404, DET, ATL), (2017, 2017-10-01, 2017100106, MIN, DET), (2017, 2017-10-08, 2017100802, DET, CAR), (2017, 2017-10-15, 2017101504, NO, DET), (2017, 2017-10-29, 2017102910, DET, PIT), (2017, 2017-11-06, 2017110600, GB, DET), (2017, 2017-11-12, 2017111202, DET, CLE), (2017, 2017-11-19, 2017111900, CHI, DET), (2017, 2017-11-23, 2017112300, DET, MIN), (2017, 2017-12-03, 2017120301, BAL, DET), (2017, 2017-12-10, 2017121007, TB, DET), (2017, 2017-12-16, 2017121600, DET, CHI), (2017, 2017-12-24, 2017122402, CIN, DET), (2017, 2017-12-31, 2017123102, DET, GB)]",
      "text/html": "<div>\n<style scoped>\n    .dataframe tbody tr th:only-of-type {\n        vertical-align: middle;\n    }\n\n    .dataframe tbody tr th {\n        vertical-align: top;\n    }\n\n    .dataframe thead th {\n        text-align: right;\n    }\n</style>\n<table border=\"1\" class=\"dataframe\">\n  <thead>\n    <tr style=\"text-align: right;\">\n      <th></th>\n      <th></th>\n      <th></th>\n      <th></th>\n      <th></th>\n    </tr>\n    <tr>\n      <th>season</th>\n      <th>date</th>\n      <th>game_id</th>\n      <th>home_team</th>\n      <th>away_team</th>\n    </tr>\n  </thead>\n  <tbody>\n    <tr>\n      <th rowspan=\"16\" valign=\"top\">2017</th>\n      <th>2017-09-10</th>\n      <th>2017091004</th>\n      <th>DET</th>\n      <th>ARI</th>\n    </tr>\n    <tr>\n      <th>2017-09-18</th>\n      <th>2017091800</th>\n      <th>NYG</th>\n      <th>DET</th>\n    </tr>\n    <tr>\n      <th>2017-09-24</th>\n      <th>2017092404</th>\n      <th>DET</th>\n      <th>ATL</th>\n    </tr>\n    <tr>\n      <th>2017-10-01</th>\n      <th>2017100106</th>\n      <th>MIN</th>\n      <th>DET</th>\n    </tr>\n    <tr>\n      <th>2017-10-08</th>\n      <th>2017100802</th>\n      <th>DET</th>\n      <th>CAR</th>\n    </tr>\n    <tr>\n      <th>2017-10-15</th>\n      <th>2017101504</th>\n      <th>NO</th>\n      <th>DET</th>\n    </tr>\n    <tr>\n      <th>2017-10-29</th>\n      <th>2017102910</th>\n      <th>DET</th>\n      <th>PIT</th>\n    </tr>\n    <tr>\n      <th>2017-11-06</th>\n      <th>2017110600</th>\n      <th>GB</th>\n      <th>DET</th>\n    </tr>\n    <tr>\n      <th>2017-11-12</th>\n      <th>2017111202</th>\n      <th>DET</th>\n      <th>CLE</th>\n    </tr>\n    <tr>\n      <th>2017-11-19</th>\n      <th>2017111900</th>\n      <th>CHI</th>\n      <th>DET</th>\n    </tr>\n    <tr>\n      <th>2017-11-23</th>\n      <th>2017112300</th>\n      <th>DET</th>\n      <th>MIN</th>\n    </tr>\n    <tr>\n      <th>2017-12-03</th>\n      <th>2017120301</th>\n      <th>BAL</th>\n      <th>DET</th>\n    </tr>\n    <tr>\n      <th>2017-12-10</th>\n      <th>2017121007</th>\n      <th>TB</th>\n      <th>DET</th>\n    </tr>\n    <tr>\n      <th>2017-12-16</th>\n      <th>2017121600</th>\n      <th>DET</th>\n      <th>CHI</th>\n    </tr>\n    <tr>\n      <th>2017-12-24</th>\n      <th>2017122402</th>\n      <th>CIN</th>\n      <th>DET</th>\n    </tr>\n    <tr>\n      <th>2017-12-31</th>\n      <th>2017123102</th>\n      <th>DET</th>\n      <th>GB</th>\n    </tr>\n  </tbody>\n</table>\n</div>"
     },
     "execution_count": 84,
     "metadata": {},
     "output_type": "execute_result"
    }
   ],
   "source": [
    "gameplay_df.loc[(gameplay_df.season == 2017) & ((gameplay_df.home_team=='DET') | (gameplay_df.away_team=='DET')) , ['season', 'date', 'game_id','home_team', 'away_team']].groupby(['season', 'date', 'game_id','home_team', 'away_team']).count().sort_values(by='date')"
   ],
   "metadata": {
    "collapsed": false
   }
  },
  {
   "cell_type": "markdown",
   "source": [
    "#### 03.2 - check scores dataset 2017 Detroit Lions season"
   ],
   "metadata": {
    "collapsed": false
   }
  },
  {
   "cell_type": "code",
   "execution_count": 85,
   "outputs": [
    {
     "data": {
      "text/plain": "       season       date home_team_id away_team_id\n11883    2017 2017-09-10          DET          ARI\n11907    2017 2017-09-18          NYG          DET\n11912    2017 2017-09-24          DET          ATL\n11934    2017 2017-10-01          MIN          DET\n11944    2017 2017-10-08          DET          CAR\n11963    2017 2017-10-15           NO          DET\n11987    2017 2017-10-29          DET          PIT\n12008    2017 2017-11-06           GB          DET\n12014    2017 2017-11-12          DET          CLE\n12024    2017 2017-11-19          CHI          DET\n12038    2017 2017-11-23          DET          MIN\n12056    2017 2017-12-03          BAL          DET\n12083    2017 2017-12-10           TB          DET\n12086    2017 2017-12-16          DET          CHI\n12106    2017 2017-12-24          CIN          DET\n12120    2017 2017-12-31          DET           GB",
      "text/html": "<div>\n<style scoped>\n    .dataframe tbody tr th:only-of-type {\n        vertical-align: middle;\n    }\n\n    .dataframe tbody tr th {\n        vertical-align: top;\n    }\n\n    .dataframe thead th {\n        text-align: right;\n    }\n</style>\n<table border=\"1\" class=\"dataframe\">\n  <thead>\n    <tr style=\"text-align: right;\">\n      <th></th>\n      <th>season</th>\n      <th>date</th>\n      <th>home_team_id</th>\n      <th>away_team_id</th>\n    </tr>\n  </thead>\n  <tbody>\n    <tr>\n      <th>11883</th>\n      <td>2017</td>\n      <td>2017-09-10</td>\n      <td>DET</td>\n      <td>ARI</td>\n    </tr>\n    <tr>\n      <th>11907</th>\n      <td>2017</td>\n      <td>2017-09-18</td>\n      <td>NYG</td>\n      <td>DET</td>\n    </tr>\n    <tr>\n      <th>11912</th>\n      <td>2017</td>\n      <td>2017-09-24</td>\n      <td>DET</td>\n      <td>ATL</td>\n    </tr>\n    <tr>\n      <th>11934</th>\n      <td>2017</td>\n      <td>2017-10-01</td>\n      <td>MIN</td>\n      <td>DET</td>\n    </tr>\n    <tr>\n      <th>11944</th>\n      <td>2017</td>\n      <td>2017-10-08</td>\n      <td>DET</td>\n      <td>CAR</td>\n    </tr>\n    <tr>\n      <th>11963</th>\n      <td>2017</td>\n      <td>2017-10-15</td>\n      <td>NO</td>\n      <td>DET</td>\n    </tr>\n    <tr>\n      <th>11987</th>\n      <td>2017</td>\n      <td>2017-10-29</td>\n      <td>DET</td>\n      <td>PIT</td>\n    </tr>\n    <tr>\n      <th>12008</th>\n      <td>2017</td>\n      <td>2017-11-06</td>\n      <td>GB</td>\n      <td>DET</td>\n    </tr>\n    <tr>\n      <th>12014</th>\n      <td>2017</td>\n      <td>2017-11-12</td>\n      <td>DET</td>\n      <td>CLE</td>\n    </tr>\n    <tr>\n      <th>12024</th>\n      <td>2017</td>\n      <td>2017-11-19</td>\n      <td>CHI</td>\n      <td>DET</td>\n    </tr>\n    <tr>\n      <th>12038</th>\n      <td>2017</td>\n      <td>2017-11-23</td>\n      <td>DET</td>\n      <td>MIN</td>\n    </tr>\n    <tr>\n      <th>12056</th>\n      <td>2017</td>\n      <td>2017-12-03</td>\n      <td>BAL</td>\n      <td>DET</td>\n    </tr>\n    <tr>\n      <th>12083</th>\n      <td>2017</td>\n      <td>2017-12-10</td>\n      <td>TB</td>\n      <td>DET</td>\n    </tr>\n    <tr>\n      <th>12086</th>\n      <td>2017</td>\n      <td>2017-12-16</td>\n      <td>DET</td>\n      <td>CHI</td>\n    </tr>\n    <tr>\n      <th>12106</th>\n      <td>2017</td>\n      <td>2017-12-24</td>\n      <td>CIN</td>\n      <td>DET</td>\n    </tr>\n    <tr>\n      <th>12120</th>\n      <td>2017</td>\n      <td>2017-12-31</td>\n      <td>DET</td>\n      <td>GB</td>\n    </tr>\n  </tbody>\n</table>\n</div>"
     },
     "execution_count": 85,
     "metadata": {},
     "output_type": "execute_result"
    }
   ],
   "source": [
    "scores_df.loc[(scores_df.season==2017) & ((scores_df.home_team=='Detroit Lions') | (scores_df.away_team=='Detroit Lions')), ['season', 'date', 'home_team_id', 'away_team_id']].sort_values(by='date')"
   ],
   "metadata": {
    "collapsed": false
   }
  },
  {
   "cell_type": "markdown",
   "source": [
    "## 03.3 - conform game_ids as the join key"
   ],
   "metadata": {
    "collapsed": false
   }
  },
  {
   "cell_type": "markdown",
   "source": [
    "#### 03.3(a) - fix : the gameplay data has an incorrect date for the 2014 buffalo jets game"
   ],
   "metadata": {
    "collapsed": false
   }
  },
  {
   "cell_type": "code",
   "execution_count": 86,
   "outputs": [],
   "source": [
    "# gameplay has the wrong date for the 2014 buffalo jets game\n",
    "gameplay_df.loc[(gameplay_df['season'] == 2014) &(gameplay_df['home_team'] == 'BUF') &(gameplay_df['away_team'] == 'NYJ'), 'date' ] = '2014-11-24'"
   ],
   "metadata": {
    "collapsed": false
   }
  },
  {
   "cell_type": "code",
   "execution_count": 87,
   "outputs": [],
   "source": [
    "# the 2016 jacksonville jaguars game still has them as 'JAC' in the gameplay data\n",
    "scores_df.loc[(scores_df.date == '2016-09-11') & (scores_df.home_team == 'Jacksonville Jaguars'), 'home_team_id'] =  'JAC'"
   ],
   "metadata": {
    "collapsed": false
   }
  },
  {
   "cell_type": "code",
   "execution_count": 88,
   "outputs": [],
   "source": [
    "# the gameplay data date is still an object, and that's good for concatenating later, but we also want a real date\n",
    "gameplay_df['date_string'] = gameplay_df['date']\n",
    "gameplay_df['date'] = pd.to_datetime(gameplay_df['date'])"
   ],
   "metadata": {
    "collapsed": false
   }
  },
  {
   "cell_type": "code",
   "execution_count": 89,
   "outputs": [],
   "source": [
    "# todo - the gameplay data has Jacksonville as 'JAC' up to 2016 - but it was actually changed to JAX in 2013"
   ],
   "metadata": {
    "collapsed": false
   }
  },
  {
   "cell_type": "markdown",
   "source": [
    "### 03.3(b) - add a conformed game_id to each dataset"
   ],
   "metadata": {
    "collapsed": false
   }
  },
  {
   "cell_type": "code",
   "execution_count": 90,
   "outputs": [],
   "source": [
    "scores_df['game_id'] = scores_df['date'].astype('string').str.replace(\"-\",\"\")+scores_df.home_team_id.str.lower() + scores_df.away_team_id.str.lower()"
   ],
   "metadata": {
    "collapsed": false
   }
  },
  {
   "cell_type": "code",
   "execution_count": 91,
   "outputs": [],
   "source": [
    "gameplay_df['game_id']  = gameplay_df['date_string'].astype('string').str.replace(\"-\",\"\")+gameplay_df.home_team.str.lower() + gameplay_df.away_team.str.lower()"
   ],
   "metadata": {
    "collapsed": false
   }
  },
  {
   "cell_type": "markdown",
   "source": [
    "## 03.4 - test the join - iterate and clean until it's 100%"
   ],
   "metadata": {
    "collapsed": false
   }
  },
  {
   "cell_type": "code",
   "execution_count": 92,
   "outputs": [],
   "source": [
    "# try a test merge\n",
    "test_df = gameplay_df.merge(scores_df, left_on='game_id', right_on='game_id', how='left', indicator=True)"
   ],
   "metadata": {
    "collapsed": false
   }
  },
  {
   "cell_type": "code",
   "execution_count": 93,
   "outputs": [
    {
     "data": {
      "text/plain": "array([], dtype=object)"
     },
     "execution_count": 93,
     "metadata": {},
     "output_type": "execute_result"
    }
   ],
   "source": [
    "# list any failures\n",
    "m = test_df.loc[(test_df._merge == 'left_only'), ['date_x', 'game_id','home_team_x', 'away_team_x']]\n",
    "np.unique(m['date_x'].astype('string')+m['home_team_x']+'-'+m['away_team_x'])"
   ],
   "metadata": {
    "collapsed": false
   }
  },
  {
   "cell_type": "code",
   "execution_count": 94,
   "outputs": [],
   "source": [
    "# validate the merge\n",
    "assert test_df.loc[test_df._merge == 'left_only'].size == 0\n",
    "assert test_df.loc[test_df._merge == 'right_only'].size == 0"
   ],
   "metadata": {
    "collapsed": false
   }
  },
  {
   "cell_type": "markdown",
   "source": [
    "# 05 - output gameplay and score data"
   ],
   "metadata": {
    "collapsed": false
   }
  },
  {
   "cell_type": "code",
   "execution_count": 95,
   "outputs": [],
   "source": [
    "gameplay_df.to_parquet(CLEAN_FACTS_DF_NAME, engine='fastparquet',  compression='snappy')\n",
    "scores_df.to_parquet(CLEAN_SCORES_DF_NAME, engine='fastparquet',  compression='snappy')\n"
   ],
   "metadata": {
    "collapsed": false
   }
  },
  {
   "cell_type": "code",
   "execution_count": 96,
   "outputs": [],
   "source": [
    "with open(READ_ME, 'w') as f:\n",
    "    f.write(f\"\\n{os.path.basename(CLEAN_FACTS_DF_NAME)}\\ta clean version of gameplay that can be joined to the scores data\")\n",
    "    f.write(f\"\\n{os.path.basename(CLEAN_SCORES_DF_NAME)}\\ta clean version of the scores data that can be joined to gameplay\")\n"
   ],
   "metadata": {
    "collapsed": false
   }
  }
 ],
 "metadata": {
  "kernelspec": {
   "display_name": "Python 3",
   "language": "python",
   "name": "python3"
  },
  "language_info": {
   "codemirror_mode": {
    "name": "ipython",
    "version": 2
   },
   "file_extension": ".py",
   "mimetype": "text/x-python",
   "name": "python",
   "nbconvert_exporter": "python",
   "pygments_lexer": "ipython2",
   "version": "2.7.6"
  }
 },
 "nbformat": 4,
 "nbformat_minor": 0
}
